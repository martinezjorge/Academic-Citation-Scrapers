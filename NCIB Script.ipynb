{
 "cells": [
  {
   "cell_type": "code",
   "execution_count": 1,
   "metadata": {},
   "outputs": [],
   "source": [
    "import pandas as pd\n",
    "from selenium import webdriver\n",
    "from selenium.webdriver.common.keys import Keys\n",
    "import os\n",
    "import time\n",
    "from random import randint"
   ]
  },
  {
   "cell_type": "code",
   "execution_count": 2,
   "metadata": {},
   "outputs": [],
   "source": [
    "options = webdriver.ChromeOptions() \n",
    "options.add_argument(\"download.default_directory=\" + os.getcwd() + \"/downloads\")"
   ]
  },
  {
   "cell_type": "code",
   "execution_count": 3,
   "metadata": {},
   "outputs": [
    {
     "name": "stdout",
     "output_type": "stream",
     "text": [
      "https://www.ncbi.nlm.nih.gov/\n"
     ]
    }
   ],
   "source": [
    "start_page = \"https://www.ncbi.nlm.nih.gov/\"\n",
    "test_name = \"Michael Kabo\"\n",
    "print(start_page)"
   ]
  },
  {
   "cell_type": "code",
   "execution_count": 47,
   "metadata": {},
   "outputs": [
    {
     "name": "stdout",
     "output_type": "stream",
     "text": [
      "\n"
     ]
    },
    {
     "ename": "ValueError",
     "evalue": "invalid literal for int() with base 10: ''",
     "output_type": "error",
     "traceback": [
      "\u001b[1;31m---------------------------------------------------------------------------\u001b[0m",
      "\u001b[1;31mValueError\u001b[0m                                Traceback (most recent call last)",
      "\u001b[1;32m<ipython-input-47-e205ee461bd7>\u001b[0m in \u001b[0;36m<module>\u001b[1;34m\u001b[0m\n\u001b[0;32m     16\u001b[0m     \u001b[0mresults\u001b[0m \u001b[1;33m=\u001b[0m \u001b[0mresults\u001b[0m\u001b[1;33m.\u001b[0m\u001b[0mtext\u001b[0m\u001b[1;33m\u001b[0m\u001b[1;33m\u001b[0m\u001b[0m\n\u001b[0;32m     17\u001b[0m     \u001b[0mprint\u001b[0m\u001b[1;33m(\u001b[0m\u001b[0mresults\u001b[0m\u001b[1;33m)\u001b[0m\u001b[1;33m\u001b[0m\u001b[1;33m\u001b[0m\u001b[0m\n\u001b[1;32m---> 18\u001b[1;33m     \u001b[0mresults\u001b[0m \u001b[1;33m=\u001b[0m \u001b[0mint\u001b[0m\u001b[1;33m(\u001b[0m\u001b[0mresults\u001b[0m\u001b[1;33m)\u001b[0m\u001b[1;33m\u001b[0m\u001b[1;33m\u001b[0m\u001b[0m\n\u001b[0m\u001b[0;32m     19\u001b[0m     \u001b[1;32mif\u001b[0m \u001b[0mresults\u001b[0m \u001b[1;33m>\u001b[0m \u001b[1;36m0\u001b[0m\u001b[1;33m:\u001b[0m\u001b[1;33m\u001b[0m\u001b[1;33m\u001b[0m\u001b[0m\n\u001b[0;32m     20\u001b[0m         \u001b[0murl\u001b[0m \u001b[1;33m=\u001b[0m \u001b[0mthing\u001b[0m\u001b[1;33m.\u001b[0m\u001b[0mfind_element_by_tag_name\u001b[0m\u001b[1;33m(\u001b[0m\u001b[1;34m\"a\"\u001b[0m\u001b[1;33m)\u001b[0m\u001b[1;33m\u001b[0m\u001b[1;33m\u001b[0m\u001b[0m\n",
      "\u001b[1;31mValueError\u001b[0m: invalid literal for int() with base 10: ''"
     ]
    }
   ],
   "source": [
    "driver = webdriver.Chrome()\n",
    "driver.implicitly_wait(10)\n",
    "\n",
    "driver.get(start_page)\n",
    "\n",
    "search_bar = driver.find_element_by_xpath('//input[@type=\"text\"]')\n",
    "search_bar.send_keys(test_name)\n",
    "search_bar.send_keys(Keys.ENTER)\n",
    "\n",
    "grid = driver.find_elements_by_xpath(\"html/body/main/section[2]/section/div[2]/div/div/ul/li\")\n",
    "\n",
    "search_items = []\n",
    "\n",
    "for thing in grid:\n",
    "    results = thing.find_element_by_xpath(\"//a/span\")\n",
    "    results = results.text\n",
    "    print(results)\n",
    "    results = int(results)\n",
    "    if results > 0:\n",
    "        url = thing.find_element_by_tag_name(\"a\")\n",
    "        url = thing.get_attribute(\"href\")\n",
    "        database = thing.text\n",
    "        search_items.append([database,url])\n",
    "        \n",
    "        \n",
    "for item in search_items:\n",
    "    print(search_items)\n",
    "    \n",
    "    \n",
    "    \n",
    "driver.close()"
   ]
  },
  {
   "cell_type": "code",
   "execution_count": 42,
   "metadata": {},
   "outputs": [
    {
     "name": "stdout",
     "output_type": "stream",
     "text": [
      "<selenium.webdriver.remote.webelement.WebElement (session=\"07b613b44304bc74e38a866f0df0db0a\", element=\"0.29161908831063377-1\")>\n",
      "<a href=\"https://www.ncbi.nlm.nih.gov/books/?term=Michael%20Kabo\" id=\"db-books\" data-ga-action=\"click_search_db\" data-ga-label=\"Bookshelf\"><span class=\"db-name\">Bookshelf</span>\n",
      "                      <span class=\"usa-label ajax-result-count status-404\" data-update-url=\"/search/api/result_count/?db=books&amp;term=Michael%20Kabo\">0</span></a>\n"
     ]
    }
   ],
   "source": [
    "print(grid[0])\n",
    "print(grid[0].get_attribute(\"innerHTML\"))"
   ]
  },
  {
   "cell_type": "code",
   "execution_count": 38,
   "metadata": {
    "scrolled": true
   },
   "outputs": [
    {
     "name": "stdout",
     "output_type": "stream",
     "text": [
      "0 : Bookshelf\n",
      "0\n",
      "1 : MeSH\n",
      "0\n",
      "2 : NLM Catalog\n",
      "0\n",
      "3 : PubMed\n",
      "15\n",
      "4 : PubMed Central\n",
      "4\n",
      "5 : Gene\n",
      "0\n",
      "6 : GEO DataSets\n",
      "0\n",
      "7 : GEO Profiles\n",
      "0\n",
      "8 : HomoloGene\n",
      "0\n",
      "9 : PopSet\n",
      "0\n",
      "10 : UniGene\n",
      "0\n",
      "11 : ClinVar\n",
      "0\n",
      "12 : dbGaP\n",
      "0\n",
      "13 : dbSNP\n",
      "0\n",
      "14 : dbVar\n",
      "0\n",
      "15 : GTR\n",
      "0\n",
      "16 : MedGen\n",
      "0\n",
      "17 : OMIM\n",
      "0\n",
      "18 : Conserved Domains\n",
      "0\n",
      "19 : Identical Protein Groups\n",
      "0\n",
      "20 : Protein\n",
      "1\n",
      "21 : Protein Clusters\n",
      "0\n",
      "22 : Sparcle\n",
      "0\n",
      "23 : Structure\n",
      "0\n",
      "24 : Assembly\n",
      "0\n",
      "25 : BioCollections\n",
      "0\n",
      "26 : BioProject\n",
      "0\n",
      "27 : BioSample\n",
      "0\n",
      "28 : Genome\n",
      "0\n",
      "29 : Nucleotide\n",
      "1\n",
      "30 : Probe\n",
      "0\n",
      "31 : SRA\n",
      "0\n",
      "32 : Taxonomy\n",
      "0\n",
      "33 : BioSystems\n",
      "0\n",
      "34 : PubChem BioAssay\n",
      "0\n",
      "35 : PubChem Compound\n",
      "0\n",
      "36 : PubChem Substance\n",
      "0\n"
     ]
    }
   ],
   "source": [
    "text = [data.text for data in grid]\n",
    "counter = 0\n",
    "for item in text:\n",
    "    print(counter, \":\", item)\n",
    "    counter += 1"
   ]
  },
  {
   "cell_type": "code",
   "execution_count": null,
   "metadata": {},
   "outputs": [],
   "source": []
  }
 ],
 "metadata": {
  "kernelspec": {
   "display_name": "Python 3",
   "language": "python",
   "name": "python3"
  },
  "language_info": {
   "codemirror_mode": {
    "name": "ipython",
    "version": 3
   },
   "file_extension": ".py",
   "mimetype": "text/x-python",
   "name": "python",
   "nbconvert_exporter": "python",
   "pygments_lexer": "ipython3",
   "version": "3.7.1"
  }
 },
 "nbformat": 4,
 "nbformat_minor": 2
}
