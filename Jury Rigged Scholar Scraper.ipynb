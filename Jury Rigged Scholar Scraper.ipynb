{
 "cells": [
  {
   "cell_type": "code",
   "execution_count": 48,
   "metadata": {},
   "outputs": [],
   "source": [
    "import pandas as pd\n",
    "from selenium import webdriver\n",
    "from selenium.webdriver.common.keys import Keys\n",
    "import os\n",
    "import time\n",
    "from random import randint"
   ]
  },
  {
   "cell_type": "code",
   "execution_count": 49,
   "metadata": {},
   "outputs": [],
   "source": [
    "options = webdriver.ChromeOptions() \n",
    "options.add_argument(\"download.default_directory=\" + os.getcwd() + \"/downloads\")"
   ]
  },
  {
   "cell_type": "code",
   "execution_count": 50,
   "metadata": {},
   "outputs": [
    {
     "name": "stdout",
     "output_type": "stream",
     "text": [
      "https://scholar.google.com/citations?hl=en&view_op=search_authors&mauthors=&btnG=\n"
     ]
    }
   ],
   "source": [
    "start_page = \"https://scholar.google.com/citations?hl=en&view_op=search_authors&mauthors=&btnG=\"\n",
    "test_name = \"can alpaslan\"\n",
    "print(start_page)"
   ]
  },
  {
   "cell_type": "code",
   "execution_count": 51,
   "metadata": {},
   "outputs": [
    {
     "data": {
      "text/html": [
       "<div>\n",
       "<style scoped>\n",
       "    .dataframe tbody tr th:only-of-type {\n",
       "        vertical-align: middle;\n",
       "    }\n",
       "\n",
       "    .dataframe tbody tr th {\n",
       "        vertical-align: top;\n",
       "    }\n",
       "\n",
       "    .dataframe thead th {\n",
       "        text-align: right;\n",
       "    }\n",
       "</style>\n",
       "<table border=\"1\" class=\"dataframe\">\n",
       "  <thead>\n",
       "    <tr style=\"text-align: right;\">\n",
       "      <th></th>\n",
       "    </tr>\n",
       "  </thead>\n",
       "  <tbody>\n",
       "  </tbody>\n",
       "</table>\n",
       "</div>"
      ],
      "text/plain": [
       "Empty DataFrame\n",
       "Columns: []\n",
       "Index: []"
      ]
     },
     "execution_count": 51,
     "metadata": {},
     "output_type": "execute_result"
    }
   ],
   "source": [
    "#Use pandas create dataframe (df) object that will store the data\n",
    "columns = ['name','paper_type','citation','url','abstract','title','collaborators']\n",
    "citations = pd.DataFrame()\n",
    "#Place the list of names generated previously in the project into the df object\n",
    "citations"
   ]
  },
  {
   "cell_type": "code",
   "execution_count": 52,
   "metadata": {},
   "outputs": [],
   "source": [
    "#df1['e'] = Series(np.random.randn(sLength), index=df1.index)\n",
    "#citations['a'] = pd.Series(test_name, index=citations.index)"
   ]
  },
  {
   "cell_type": "markdown",
   "metadata": {},
   "source": [
    "\n",
    "Process Flow\n",
    "-------------------\n",
    "Search professors from start_page by name\n",
    "Click Search\n",
    "Find the first reseach item in the research section\n",
    "Determine type of publication\n",
    "Get Abstract if Abstract exists, if not skip to next\n",
    "Click citation download link\n",
    "Select option (1 = RIS, 2 = BibTex, 3 = Plain text)\n",
    "Select option  (1 = citation 2 = citation and abstract)\n",
    "Download\n",
    "Go to most recent downloaded file\n",
    "Read text from that file\n",
    "Place citation into variable\n",
    "If abstract exists for citation place into abstract variable if no abstract found insert \"No abstract found.\""
   ]
  },
  {
   "cell_type": "code",
   "execution_count": 53,
   "metadata": {
    "scrolled": false
   },
   "outputs": [
    {
     "name": "stdout",
     "output_type": "stream",
     "text": [
      "https://scholar.google.com/citations?hl=en&view_op=search_authors&mauthors=&btnG=\n",
      "Authors\n",
      "Ian I Mitroff, Murat C Alpaslan\n",
      "Publication date\n",
      "Publisher\n",
      "Description\n",
      "Total citations\n",
      "Scholar articles\n"
     ]
    }
   ],
   "source": [
    "#def google_scholar(url):\n",
    "    \n",
    "google_scholar = \"https://scholar.google.com/citations?hl=en&view_op=search_authors&mauthors=&btnG=\"\n",
    "\n",
    "#Instatiate the webdriver and set to implicitly wait for page objects to load\n",
    "driver = webdriver.Chrome()\n",
    "driver.implicitly_wait(10) # seconds loading implicitly\n",
    "\n",
    "#Set driver to go to start_page and search a given name with valid scholar profile\n",
    "driver.get(google_scholar)\n",
    "print(driver.current_url)\n",
    "search_bar = driver.find_element_by_class_name('gs_in_txt')\n",
    "search_bar.send_keys(test_name)\n",
    "search_bar.send_keys(Keys.ENTER)\n",
    "\n",
    "\n",
    "#Set driver to click the first profile given as a search result. Will need to be modified to be more general later.\n",
    "view_profile_link = driver.find_element_by_xpath('//*[@id=\"gsc_sa_ccl\"]/div[1]/div/div/h3/a')\n",
    "view_profile_link.click()\n",
    "\n",
    "\n",
    "#pull the first citation for the page\n",
    "view_citation_link = driver.find_element_by_class_name('gsc_a_at')\n",
    "view_citation_link.click()\n",
    "\n",
    "#Citation information title, publication date, journal, volume, issue, pages, publisher, abstract.\n",
    "\n",
    "citations = ['Professor','Authors','Publication_Title', 'URL','Citation']\n",
    "\n",
    "\n",
    "\n",
    "citation_table = driver.find_element_by_id(\"gsc_vcd_table\")\n",
    "citation_table_data_objects= citation_table.find_elements_by_class_name(\"gs_scl\")\n",
    "\n",
    "citation = {\n",
    "    \"Authors\" : \"\",\n",
    "    \"Title\" : \"\",\n",
    "    \"Date\" : \"\",\n",
    "    \"Publisher\": \"\"\n",
    "}\n",
    "\n",
    "for data in citation_table_data_objects:\n",
    "    \n",
    "    data_category = data.find_element_by_tag_name(\"div\")\n",
    "    \n",
    "    print(data_category.text)\n",
    "    \n",
    "    if data_category.text == \"Authors\":\n",
    "        data_field = data.find_element_by_class_name(\"gsc_vcd_value\")\n",
    "        print(data_field.text)\n",
    "        citation[\"Authors\"] = data_field.text\n",
    "    elif data_category.text == \"Publication date\":\n",
    "        data_field = data.find_element_by_class_name(\"gsc_vcd_value\")\n",
    "        citation[\"Date\"] = data_field.text\n",
    "    elif data_category.text == \"Publisher\":\n",
    "        data_field = data.find_element_by_class_name(\"gsc_vcd_value\")\n",
    "        citation[\"Publisher\"] = data_field.text\n",
    "\n",
    "\n",
    "# citation_table_data = [data.text for data in citation_table_data_objects]\n",
    "# for data in citation_table_data:\n",
    "#     print(data)\n",
    "\n",
    "# if citation_table.find_elements_by_xpath('//div/div')\n",
    "# pub_title = driver.find_element_by_class_name('gsc_vcd_title_link')\n",
    "# pub_title = pub_title.text\n",
    "\n",
    "\n",
    "# pub_date = driver.find_element_by_xpath('//*[@id=\"gsc_vcd_table\"]/div[2]/div[2]')\n",
    "# pub_date = pub_date.text\n",
    "# pub_journal = driver.find_element_by_xpath('//*[@id=\"gsc_vcd_table\"]/div[3]/div[2]')\n",
    "# pub_journal = pub_journal.text\n",
    "# pub_vol = driver.find_element_by_xpath('//*[@id=\"gsc_vcd_table\"]/div[4]/div[2]')\n",
    "# pub_vol = pub_vol.text\n",
    "# pub_iss = driver.find_element_by_xpath('//*[@id=\"gsc_vcd_table\"]/div[5]/div[2]')\n",
    "# pub_iss = pub_iss.text\n",
    "# pub_pgs = driver.find_element_by_xpath('//*[@id=\"gsc_vcd_table\"]/div[6]/div[2]')\n",
    "# pub_pgs = pub_pgs.text\n",
    "# pub_publisher = driver.find_element_by_xpath('//*[@id=\"gsc_vcd_table\"]/div[7]/div[2]')\n",
    "# pub_publisher = pub_publisher.text\n",
    "# pub_abstr = driver.find_element_by_xpath('//*[@id=\"gsc_vcd_descr\"]/div/div')\n",
    "# pub_abstr = pub_abstr.text \n",
    "# print(pub_title)\n",
    "# print(pub_date)\n",
    "# print(pub_journal)\n",
    "# print(pub_vol)\n",
    "# print(pub_iss)\n",
    "# print(pub_pgs)\n",
    "# print(pub_publisher)\n",
    "# print(pub_abstr)\n",
    "\n",
    "# Retrieve all the urls of the first page\n",
    "#research_a_tags = driver.find_elements_by_xpath(\"html/body/div[2]/main/section[2]/div/div[4]/div[2]/div[2]/div/div/div/div/div/div[2]/div/a\")\n",
    "#urls = [tag.get_attribute(\"href\") for tag in research_a_tags]\n",
    "#titles = [tag.text for tag in research_a_tags]\n",
    "#paper_types = driver.find_elements_by_xpath('html/body/div[2]/main/section[2]/div/div[4]/div[2]/div[2]/div/div/div/div/div/div[3]/div/div/span')\n",
    "#paper_types = [item.text for item in paper_types]\n",
    "#num_research_items -= 100\n",
    "\n",
    "#current_url = driver.current_url\n",
    "\n",
    "#page_count = 2\n",
    "#while num_research_items > 0:\n",
    "    #driver.get(current_url + '/' + str(page_count))\n",
    "    #temp_tags = driver.find_elements_by_xpath(\"html/body/div[2]/main/section[2]/div/div[4]/div[2]/div[2]/div/div/div/div/div/div[2]/div/a\")\n",
    "    #for tag in temp_tags:\n",
    "        #urls.append(tag.get_attribute(\"href\"))\n",
    "        #titles.append(tag.text)\n",
    "    #temp_papers = driver.find_elements_by_xpath('html/body/div[2]/main/section[2]/div/div[4]/div[2]/div[2]/div/div/div/div/div/div[3]/div/div/span')\n",
    "    #for paper in temp_papers:\n",
    "        #paper_types.append(paper.text)\n",
    "    #num_research_items -= 100\n",
    "    #page_count += 1\n",
    "\n",
    "#while \"Full-text available\" in paper_types:\n",
    "    #paper_types.remove(\"Full-text available\")\n",
    "driver.close()\n",
    "    "
   ]
  },
  {
   "cell_type": "code",
   "execution_count": 47,
   "metadata": {},
   "outputs": [
    {
     "name": "stdout",
     "output_type": "stream",
     "text": [
      "Ian I Mitroff, Murat C Alpaslan\n",
      "2003/4/1\n",
      "Harvard Business School Pub.\n"
     ]
    }
   ],
   "source": [
    "print(citation['Authors'])\n",
    "print(citation['Date'])\n",
    "print(citation['Publisher'])"
   ]
  },
  {
   "cell_type": "code",
   "execution_count": 53,
   "metadata": {},
   "outputs": [
    {
     "ename": "NameError",
     "evalue": "name 'urls' is not defined",
     "output_type": "error",
     "traceback": [
      "\u001b[1;31m---------------------------------------------------------------------------\u001b[0m",
      "\u001b[1;31mNameError\u001b[0m                                 Traceback (most recent call last)",
      "\u001b[1;32m<ipython-input-53-fd89e2f8bf74>\u001b[0m in \u001b[0;36m<module>\u001b[1;34m\u001b[0m\n\u001b[0;32m      4\u001b[0m \u001b[1;31m#time.sleep(randint(5,10))\u001b[0m\u001b[1;33m\u001b[0m\u001b[1;33m\u001b[0m\u001b[1;33m\u001b[0m\u001b[0m\n\u001b[0;32m      5\u001b[0m \u001b[1;33m\u001b[0m\u001b[0m\n\u001b[1;32m----> 6\u001b[1;33m \u001b[0mdriver\u001b[0m\u001b[1;33m.\u001b[0m\u001b[0mget\u001b[0m\u001b[1;33m(\u001b[0m\u001b[0murls\u001b[0m\u001b[1;33m[\u001b[0m\u001b[1;36m0\u001b[0m\u001b[1;33m]\u001b[0m\u001b[1;33m)\u001b[0m\u001b[1;33m\u001b[0m\u001b[1;33m\u001b[0m\u001b[0m\n\u001b[0m\u001b[0;32m      7\u001b[0m \u001b[1;33m\u001b[0m\u001b[0m\n\u001b[0;32m      8\u001b[0m \u001b[1;31m# At this point we already have name, title, type, url\u001b[0m\u001b[1;33m\u001b[0m\u001b[1;33m\u001b[0m\u001b[1;33m\u001b[0m\u001b[0m\n",
      "\u001b[1;31mNameError\u001b[0m: name 'urls' is not defined"
     ]
    }
   ],
   "source": [
    "count = 0\n",
    "#for url in urls:\n",
    "driver = webdriver.Chrome(options=options)\n",
    "#time.sleep(randint(5,10))\n",
    "\n",
    "driver.get(urls[0])\n",
    "\n",
    "# At this point we already have name, title, type, url\n",
    "# Need citation, collabs, date, DOI, publisher, edition, series, volume, issue, ISSN, ISBN, handle, book title, \n",
    "\n",
    "if paper_types[0] == 'Article':\n",
    "    # this should get the DOI and Abstract in one go\n",
    "    \n",
    "    publication_details = driver.find_elements_by_class_name('publication-details__section')\n",
    "    print(publication_details)\n",
    "    \n",
    "    data = publication_details[0].find_elements_by_xpath('//div/div[2]')\n",
    "    \n",
    "    print(data)\n",
    "    \n",
    "    #meta = driver.find_elements_by_xpath('html/body/div[2]/main/section/section/div/div[2]')\n",
    "    #print(meta)\n",
    "    #doi = meta[0].text.split(\"\")\n",
    "    #doi = doi[1]\n",
    "    #abstract = meta[1].text\n",
    "    # then we'll get the collaborators\n",
    "    \n",
    "    \n",
    "    # Attempt to get the date\n",
    "    #date = driver.find_element_by_xpath('html/body/div[2]/main/section/section/div/div/span[2]')\n",
    "    \n",
    "    #download the citatation\n",
    "    \n",
    "    # take it apart, perhaps improve it\n",
    "    \n",
    "    # build a pandas row\n",
    "    \n",
    "    # add it to the main dataframe\n",
    "    # end loop\n",
    "    \n",
    "#print(doi)\n",
    "#print(abstract)\n",
    "\n",
    "    \n",
    "#elif paper_type[0] == \"Conference Paper\"\n",
    "\n",
    "\n",
    "\n",
    "\n",
    "\n",
    "driver.close()\n",
    "    #count +=1"
   ]
  },
  {
   "cell_type": "code",
   "execution_count": 99,
   "metadata": {
    "scrolled": true
   },
   "outputs": [
    {
     "name": "stdout",
     "output_type": "stream",
     "text": [
      "0 : https://www.researchgate.net/publication/315416439_Composite_mechanics_of_the_multilayer_structure_of_the_annulus_fibrosus\n",
      "1 : https://www.researchgate.net/publication/313626183_Modeling_and_Analysis_of_Heart_Left_Ventricle_in_Diastole_Using_Finite_Element\n",
      "2 : https://www.researchgate.net/publication/285611966_Machine_design_Redesigned\n",
      "3 : https://www.researchgate.net/publication/261035675_Endoprosthetic_reconstruction_after_resection_of_musculoskeletal\n",
      "4 : https://www.researchgate.net/publication/40768832_Cemented_Distal_Femoral_Endoprostheses_for_Musculoskeletal_Tumor_Improved_Survival_of_Modular_versus_Custom_Implants\n",
      "5 : https://www.researchgate.net/publication/44571522_How_Long_Do_Endoprosthetic_Reconstructions_for_Proximal_Femoral_Tumors_Last\n",
      "6 : https://www.researchgate.net/publication/44624077_Cemented_Endoprosthetic_Reconstruction_of_the_Proximal_Tibia_How_Long_Do_They_Last\n",
      "7 : https://www.researchgate.net/publication/51381639_Hysteretic_pinching_of_human_secondary_osteons_subjected_to_torsion\n",
      "8 : https://www.researchgate.net/publication/256737089_Response_to_Letter_to_the_Editor_by_Shyh-Jen_Wang\n",
      "9 : https://www.researchgate.net/publication/7139656_Mathematical_Modeling_of_Human_Secondary_Osteons\n",
      "10 : https://www.researchgate.net/publication/7817163_Proximal_Interphalangeal_Joint_Stiffness_Measurement_and_Analysis\n",
      "11 : https://www.researchgate.net/publication/7842221_The_mechanical_and_thermal_effects_of_focused_ultrasound_in_a_model_biological_material\n",
      "12 : https://www.researchgate.net/publication/7994591_Healing_of_Critically_Sized_Femoral_Defects_Using_Genetically_Modified_Mesenchymal_Stem_Cells_from_Human_Adipose_Tissue\n",
      "13 : https://www.researchgate.net/publication/8078467_The_effect_of_uniform_heating_on_the_biomechanical_properties_of_the_intervertebral_disc_in_a_porcine_model\n",
      "14 : https://www.researchgate.net/publication/247250456_P109_The_effect_of_heating_on_the_biomechanical_properties_of_the_intervertebral_disc_tissue_in_a_porcine_model\n",
      "15 : https://www.researchgate.net/publication/8495192_Determination_of_mechanical_stiffness_of_bone_by_pQCT_measurements_Correlation_with_non-destructive_mechanical_four-point_bending_test_data\n",
      "16 : https://www.researchgate.net/publication/8468387_Metabolic_measurement_techniques_to_assess_bone_fracture_healing_-_A_preliminary_study\n",
      "17 : https://www.researchgate.net/publication/5934683_Custom_Cross-Pin_Fixation_of_32_Tumor_Endoprostheses_Stems\n",
      "18 : https://www.researchgate.net/publication/9023185_Endoprosthetic_Reconstructions_for_Bone_Metastases\n",
      "19 : https://www.researchgate.net/publication/252102064_Pressure_and_Temperature_Distribution_in_Biological_Tissues_by_Focused_Ultrasound\n",
      "20 : https://www.researchgate.net/publication/252734101_Interaction_of_focused_ultrasound_with_biological_materials\n",
      "21 : https://www.researchgate.net/publication/11251081_Effects_of_Polyaxial_Pedicle_Screws_on_Lumbar_Construct_Rigidity\n",
      "22 : https://www.researchgate.net/publication/11428111_Enhancement_of_Pedicle_Screw_Fixation_Through_Washers\n",
      "23 : https://www.researchgate.net/publication/11478045_Histologic_Evaluation_of_the_Efficacy_of_rhBMP-2_Compared_With_Autograft_Bone_in_Sheep_Spinal_Anterior_Interbody_Fusion\n",
      "24 : https://www.researchgate.net/publication/11827943_Genetic_loci_influencing_natural_variations_in_femoral_bone_morphometry_in_mice\n",
      "25 : https://www.researchgate.net/publication/12007364_Genetic_loci_determining_bone_density_in_mice_with_diet-induced_atherosclerosis\n",
      "26 : https://www.researchgate.net/publication/12200567_The_Frank_Stinchfield_Award_Influence_of_cement_technique_on_the_interface_strength_of_femoral_components\n",
      "27 : https://www.researchgate.net/publication/232094516_Influence_of_Cement_Technique_on_the_Interface_Strength_of_Femoral_Components\n",
      "28 : https://www.researchgate.net/publication/232109673_Endoprosthetic_reconstruction_for_large_osseous_defects_after_tumor_resection\n",
      "29 : https://www.researchgate.net/publication/12508298_Expandable_Endoprosthesis_Reconstruction_in_Skeletally_Immature_Patients_With_Tumors\n",
      "30 : https://www.researchgate.net/publication/12763916_Ultra-high-molecular_weight_polyethylene_wear_An_in_vitro_comparison_of_acetabular_metal_types_and_polished_surfaces\n",
      "31 : https://www.researchgate.net/publication/12793989_Avulsion_Fracture_of_the_Lesser_Trochanter_as_a_Result_of_a_Primary_Malignant_Tumor_of_Bone_A_Report_of_Four_Cases\n",
      "32 : https://www.researchgate.net/publication/12871740_The_effect_of_regional_gene_therapy_with_bone_morphogenetic_protein-2_producing_bone_marrow_cells_on_the_repair_of_segmental_defects_in_rats\n",
      "33 : https://www.researchgate.net/publication/13190541_Endoprosthetic_Reconstruction_for_Malignant_Upper_Extremity_Tumors\n",
      "34 : https://www.researchgate.net/publication/13315420_Etiology_and_Results_of_Tumor_Endoprosthesis_Revision_Surgery_in_64_Patients\n",
      "35 : https://www.researchgate.net/publication/13444980_Custom_endoprostheses_for_limb_salvage_A_historical_perspective_and_imaging_evaluation\n",
      "36 : https://www.researchgate.net/publication/240040633_Physicians_Plus_Medical_Group_Middleton_Wisconsin\n",
      "37 : https://www.researchgate.net/publication/14017205_Experimental_Spinal_Fusion_With_Recombinant_Human_Bone_Morphogenetic_Protein-2_Without_Decortication_of_Osseous_Elements\n",
      "38 : https://www.researchgate.net/publication/14150417_In_Vivo_Rotational_Stability_of_the_Kinematic_Rotating_Hinge_Knee_Prosthesis\n",
      "39 : https://www.researchgate.net/publication/296040464_Porous_tantalum_composite_as_a_spinal_fixation_material\n",
      "40 : https://www.researchgate.net/publication/14314393_Effective_Doses_of_Recombinant_Human_Bone_Morphogenetic_Protein-2_in_Experimental_Spinal_Fusion\n",
      "41 : https://www.researchgate.net/publication/14323354_Effects_of_distal_femoral_centralizers_on_bone-cement_in_total_hip_arthroplasty_An_experimental_analysis_of_cement-centralizer_bonding_cement_void_formation_and_crack_propagation\n",
      "42 : https://www.researchgate.net/publication/240119624_Effects_of_distal_femoral_centralizers_on_bone-cement_in_total_hip_arthroplasty\n",
      "43 : https://www.researchgate.net/publication/246837663_Wear_of_the_polyethylene_liner-metallic_shell_interface_in_modular_acetabular_components_-_An_in_vitro_analysis\n",
      "44 : https://www.researchgate.net/publication/14475640_Distractive_Properties_of_a_Threaded_Interbody_Fusion_Device\n",
      "45 : https://www.researchgate.net/publication/14455815_Evaluation_of_rhBMP-2_With_an_OPLA_Carrier_in_a_Canine_Posterolateral_Transverse_Process_Spinal_Fusion_Model\n",
      "46 : https://www.researchgate.net/publication/323067072_Efficacy_of_Soft_Splints_in_Reducing_Severe_Knee-Flexion_Contractures\n",
      "47 : https://www.researchgate.net/publication/15635771_The_effects_of_thigh_soft-tissue_stiffness_on_the_control_of_anterior_tibial_displacement_by_functional_knee_orthoses\n",
      "48 : https://www.researchgate.net/publication/15493509_Biomechanics_of_two_types_of_bone-tendon-bone_graft_for_ACL_reconstruction\n",
      "49 : https://www.researchgate.net/publication/246998114_Passief_bewegen_doseringseffecten_op_gewrichtsstijfheid_spiermassa_botdichtheid_en_lokale_zwelling\n",
      "50 : https://www.researchgate.net/publication/13126207_151_endoprosthetic_reconstructions_for_patients_with_primary_tumors_involving_bone\n",
      "51 : https://www.researchgate.net/publication/15005511_The_Effect_of_Experimental_Hemarthrosis_on_Joint_Stiffness_and_Synovial_Histology_in_a_Rabbit_Model\n",
      "52 : https://www.researchgate.net/publication/15031576_The_Effects_of_Diuretics_on_Posttraumatic_Joint_Stiffness_and_Limb_Swelling_in_a_Rabbit_Periarticular_Fracture_Model\n",
      "53 : https://www.researchgate.net/publication/15031589_Hydroxyapatite-Coated_Distal_Femoral_Replacements\n",
      "54 : https://www.researchgate.net/publication/14956220_Expandable_Endoprosthetic_Reconstruction_of_the_Skeletally_Immature_After_Malignant_Bone_Tumor_Resection\n",
      "55 : https://www.researchgate.net/publication/15070368_Ankle_Sprain_Prophylaxis_An_Analysis_of_the_Stabilizing_Effects_of_Braces_and_Tape\n",
      "56 : https://www.researchgate.net/publication/14904044_Effects_of_antihistamines_on_joint_stiffness_and_bone_healing_after_periarticular_fracture\n",
      "57 : https://www.researchgate.net/publication/14954346_Passive_motion_The_dose_effects_on_joint_stiffness_muscle_mass_bone_density_and_regional_swelling_A_study_in_an_experimental_model_following_intra-articular_injury\n",
      "58 : https://www.researchgate.net/publication/14680424_The_Influence_of_Conformity_and_Constraint_on_Translational_Forces_and_Frictional_Torque_in_Total_Shoulder_Arthroplasty\n",
      "59 : https://www.researchgate.net/publication/14724744_Optoelectronic_Evaluation_of_Trunk_Deformity_in_Scoliosis\n",
      "60 : https://www.researchgate.net/publication/14754257_In_vivo_wear_of_polyethylene_acetabular_components\n",
      "61 : https://www.researchgate.net/publication/14774654_Computer_Graphic_Analysis_of_Endosteal_Expansion_After_Total_Hip_Arthroplasty\n",
      "62 : https://www.researchgate.net/publication/21761021_Biomechanical_Comparisons_of_Unidirectional_and_Bidirectional_Kirschner-Wire_Insertion\n",
      "63 : https://www.researchgate.net/publication/223640845_Intra-articular_corticosteroid_reduces_joint_stiffness_after_an_experimental_periarticular_fracture\n",
      "64 : https://www.researchgate.net/publication/224235303_Determination_Of_Joint_Stiffness_Of_The_Human_Proximal_Interphalangeal_Joints_Development_And_Clinical_Evaluation_Of_A_New_Device\n",
      "65 : https://www.researchgate.net/publication/21760976_Biomechanical_Effects_of_a_New_Point_Configuration_and_a_Modified_Cross-Sectional_Configuration_in_Kirschner-Wire_Fixation\n",
      "66 : https://www.researchgate.net/publication/21640024_Acetabular_Reconstruction_With_a_Threaded_Prosthesis_for_Failed_Total_Hip_Arthroplasty\n",
      "67 : https://www.researchgate.net/publication/21754260_Continued_growth_of_the_proximal_part_of_the_tibia_after_prosthetic_reconstruction_of_the_skeletally_immature_knee_Estimation_of_the_minimum_growth_force_in_vivo_in_humans\n",
      "68 : https://www.researchgate.net/publication/21426811_The_Mechanism_of_Loosening_of_Cemented_Acetabular_Components_in_Total_Hip_Arthroplasty\n",
      "69 : https://www.researchgate.net/publication/21270528_Endoprosthetic_Replacement_for_Stage_IIB_Osteosarcoma\n",
      "70 : https://www.researchgate.net/publication/21112296_Continuous_passive_motion_versus_immobilization_The_effect_on_posttraumatic_joint_stiffness\n",
      "71 : https://www.researchgate.net/publication/232154558_Basic_Science_AND_Pathology_Continuous_Passive_Motion_Versus_Immobilization_The_Effect_on_Posttraumatic_Joint_Stiffness\n",
      "72 : https://www.researchgate.net/publication/245670473_Basic_Science_AND_Pathology_Continuous_Passive_Motion_Versus_Immobilization\n",
      "73 : https://www.researchgate.net/publication/290085600_Expandable_Endoprostheses_for_the_Skeletally_Immature_The_Initial_UCLA_Experience\n",
      "74 : https://www.researchgate.net/publication/301208298_Management_of_Failed_Endoprosthetic_Implants_The_UCLA_Experience\n",
      "75 : https://www.researchgate.net/publication/20777444_Strength_of_Initial_Mechanical_Fixation_of_Screw_Ring_Acetabular_Components\n",
      "76 : https://www.researchgate.net/publication/20832230_Direct_measurement_of_resultant_forces_in_the_anterior_cruciate_ligament_An_in_vitro_study_performed_with_a_new_experimental_technique\n",
      "77 : https://www.researchgate.net/publication/20572893_Preliminary_Results_of_an_Off-the-shelf_Press-Fit_Stem_The_Anthropometric_Total_Hip_Femoral_Component_Using_Exact-Fit_Principles\n",
      "78 : https://www.researchgate.net/publication/245934990_Direct_measurement_of_resultant_forces_in_the_anterior_cruciate_ligament\n",
      "79 : https://www.researchgate.net/publication/279353057_New_Insights_Into_Load_Bearing_Functions_of_the_Anterior_Cruciate_Ligament\n",
      "80 : https://www.researchgate.net/publication/20365642_The_Effects_of_Two_Nonsteroidal_Antiinflammatory_Drugs_on_Limb_Swelling_Joint_Stiffness_and_Bone_Torsional_Strength_Following_Fracture_in_a_Rabbit_Model\n",
      "81 : https://www.researchgate.net/publication/20449078_The_anthropometric_total_hip_femoral_prosthesis_Preliminary_clinical_and_roentgenographic_findings_of_exact-fit_cementless_application\n",
      "82 : https://www.researchgate.net/publication/20449092_The_Effects_of_Dexamethasone_on_Periarticular_Swelling_and_Joint_Stiffness_Following_Fracture_in_a_Rabbit_Hindlimb_Model\n",
      "83 : https://www.researchgate.net/publication/19738866_Comparison_of_In_Vivo_Cementless_Acetabular_Fixation\n",
      "84 : https://www.researchgate.net/publication/19738037_The_Dana_total_shoulder_arthroplasty\n",
      "85 : https://www.researchgate.net/publication/19987684_Efficacy_of_soft_splints_in_reducing_severe_knee-flexion_contractures\n",
      "86 : https://www.researchgate.net/publication/20114518_The_Effects_of_Dimethyl_Sulfoxide_on_Posttraumatic_Limb_Swelling_and_Joint_Stiffness\n",
      "87 : https://www.researchgate.net/publication/19750237_Three_dimensional_imaging_techniques_for_the_reconstruction_of_a_complex_hip_problem_A_case_report\n",
      "88 : https://www.researchgate.net/publication/19796987_Porous_surface_replacement_of_the_hip_with_chamfered-cylinder_component\n",
      "89 : https://www.researchgate.net/publication/19539645_Porous_Surface_Replacement_of_the_Hip_with_Chamfer_Cylinder_Design\n",
      "90 : https://www.researchgate.net/publication/19566928_The_Effects_of_Intermittent_Passive_Exercise_on_Joint_Stiffness_Following_Periarticular_Fracture_in_Rabbits\n",
      "91 : https://www.researchgate.net/publication/19369680_Biomechanical_Effects_of_Point_Configuration_in_Kirschner-Wire_Fixation\n",
      "92 : https://www.researchgate.net/publication/313703786_Kinematic_rotating_hinge_knee-distal_femoral_replacement\n",
      "93 : https://www.researchgate.net/publication/19405308_The_Effects_of_Pressurization_on_Fracture_Swelling_and_Joint_Stiffness_in_the_Rabbit_Hind_Limb\n",
      "94 : https://www.researchgate.net/publication/19614914_Computerized_Anatomy_Instruction\n",
      "95 : https://www.researchgate.net/publication/19442032_Canine_Porous_Resurfacing_Hip_Arthroplasty\n",
      "96 : https://www.researchgate.net/publication/19330922_Comparative_experience_with_canine_and_human_cementless_acetabular_components\n",
      "97 : https://www.researchgate.net/publication/26174901_Computer_Graphic_Displays_of_Musculoskeletal_Anatomy\n",
      "98 : https://www.researchgate.net/publication/16497924_Flow_Characteristics_of_Acrylic_Bone_Cements\n",
      "99 : https://www.researchgate.net/publication/16551769_In-vitro_head_and_neck_response_to_impact\n",
      "100 : https://www.researchgate.net/publication/16348334_Bony_Ingrowth_Fixation_of_Newly_Designed_Acetabular_Components_in_a_Canine_Model\n",
      "101 : https://www.researchgate.net/publication/16371619_Frictional_torque_in_surface_and_conventional_hip_replacement\n",
      "102 : https://www.researchgate.net/publication/16312856_Response_of_a_human_head-neck_model_to_transient_saggital_plane_loading\n",
      "103 : https://www.researchgate.net/publication/16078026_Stretch_characteristics_of_whole_muscle\n",
      "104 : https://www.researchgate.net/publication/16144679_Performance_of_baseball_headgear\n",
      "105 : https://www.researchgate.net/publication/275422694_Response_of_a_Realistic_Human_Head-Neck_Model_to_Impact\n",
      "106 : https://www.researchgate.net/publication/227242239_Impact_and_comminution_processes_in_soft_and_hard_rock\n",
      "107 : https://www.researchgate.net/publication/241399180_Projectile_Impact_Cratering_in_Rocks\n",
      "108 : https://www.researchgate.net/publication/267552034_Interaction_of_high_intensity_focused_ultrasound_with_biological_materials\n",
      "109 : https://www.researchgate.net/publication/33868278_Response_of_a_head-neck_system_to_transient_saggital_plane_loading\n"
     ]
    }
   ],
   "source": [
    "counter = 0\n",
    "for url in urls:\n",
    "    print(counter, \":\", url)\n",
    "    counter +=1"
   ]
  },
  {
   "cell_type": "markdown",
   "metadata": {},
   "source": [
    "Note that ResearchGate only loads 100 citations per page, if number of citations % 100 = 0 we go to second page"
   ]
  },
  {
   "cell_type": "code",
   "execution_count": null,
   "metadata": {},
   "outputs": [],
   "source": []
  },
  {
   "cell_type": "code",
   "execution_count": null,
   "metadata": {},
   "outputs": [],
   "source": []
  },
  {
   "cell_type": "code",
   "execution_count": null,
   "metadata": {},
   "outputs": [],
   "source": []
  },
  {
   "cell_type": "code",
   "execution_count": 22,
   "metadata": {},
   "outputs": [],
   "source": [
    "citation = {\n",
    "    \"Authors\" : \"\",\n",
    "    \"Title\" : \"\"\n",
    "}"
   ]
  },
  {
   "cell_type": "code",
   "execution_count": 25,
   "metadata": {},
   "outputs": [],
   "source": [
    "citation['Authors'] = 'Jorge Martinez'"
   ]
  },
  {
   "cell_type": "code",
   "execution_count": 26,
   "metadata": {},
   "outputs": [
    {
     "data": {
      "text/plain": [
       "'Jorge Martinez'"
      ]
     },
     "execution_count": 26,
     "metadata": {},
     "output_type": "execute_result"
    }
   ],
   "source": [
    "citation['Authors']"
   ]
  },
  {
   "cell_type": "code",
   "execution_count": 24,
   "metadata": {},
   "outputs": [
    {
     "data": {
      "text/plain": [
       "''"
      ]
     },
     "execution_count": 24,
     "metadata": {},
     "output_type": "execute_result"
    }
   ],
   "source": [
    "citation['Title']"
   ]
  },
  {
   "cell_type": "code",
   "execution_count": null,
   "metadata": {},
   "outputs": [],
   "source": []
  },
  {
   "cell_type": "code",
   "execution_count": null,
   "metadata": {},
   "outputs": [],
   "source": []
  }
 ],
 "metadata": {
  "kernelspec": {
   "display_name": "Python 3",
   "language": "python",
   "name": "python3"
  },
  "language_info": {
   "codemirror_mode": {
    "name": "ipython",
    "version": 3
   },
   "file_extension": ".py",
   "mimetype": "text/x-python",
   "name": "python",
   "nbconvert_exporter": "python",
   "pygments_lexer": "ipython3",
   "version": "3.7.3"
  }
 },
 "nbformat": 4,
 "nbformat_minor": 2
}
