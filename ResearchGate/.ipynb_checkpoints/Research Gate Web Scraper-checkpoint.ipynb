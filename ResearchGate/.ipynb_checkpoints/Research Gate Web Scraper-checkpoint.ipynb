{
 "cells": [
  {
   "cell_type": "code",
   "execution_count": 27,
   "metadata": {},
   "outputs": [],
   "source": [
    "import pandas as pd\n",
    "from selenium import webdriver\n",
    "from selenium.webdriver.common.keys import Keys\n",
    "import os\n",
    "import time\n",
    "from random import randint\n",
    "from fuzzywuzzy import process"
   ]
  },
  {
   "cell_type": "code",
   "execution_count": 28,
   "metadata": {},
   "outputs": [],
   "source": [
    "def get_matches(query,choices,limit=3):\n",
    "    results = process.extract(query,choices,limit=limit)\n",
    "    return results"
   ]
  },
  {
   "cell_type": "code",
   "execution_count": 29,
   "metadata": {},
   "outputs": [
    {
     "name": "stdout",
     "output_type": "stream",
     "text": [
      "download.default_directory=/home/frostburn/Desktop/Web-Scraping/ResearchGate/Downloads\n"
     ]
    }
   ],
   "source": [
    "print(\"download.default_directory=\" + os.getcwd() + \"/Downloads\")"
   ]
  },
  {
   "cell_type": "code",
   "execution_count": 30,
   "metadata": {},
   "outputs": [],
   "source": [
    "options = webdriver.ChromeOptions()\n",
    "prefs = {\n",
    "    \"download.default_directory\": os.getcwd() + \"/Downloads\",\n",
    "    \"download.prompt_for_download\": False,\n",
    "    \"download.directory_upgrade\": True\n",
    "}\n",
    "options.add_experimental_option('prefs', prefs)"
   ]
  },
  {
   "cell_type": "code",
   "execution_count": 31,
   "metadata": {},
   "outputs": [],
   "source": [
    "start_page = \"https://www.researchgate.net/search/authors?q\""
   ]
  },
  {
   "cell_type": "markdown",
   "metadata": {},
   "source": [
    "\n",
    "Process Flow\n",
    "-------------------\n",
    "Search professors from start_page by name\n",
    "Click Search\n",
    "Find the first reseach item in the research section\n",
    "Determine type of publication\n",
    "Get Abstract if Abstract exists, if not skip to next\n",
    "Click citation download link\n",
    "Select option (1 = RIS, 2 = BibTex, 3 = Plain text)\n",
    "Select option  (1 = citation 2 = citation and abstract)\n",
    "Download\n",
    "Go to most recent downloaded file\n",
    "Read text from that file\n",
    "Place citation into variable\n",
    "If abstract exists for citation place into abstract variable if no abstract found insert \"No abstract found.\""
   ]
  },
  {
   "cell_type": "code",
   "execution_count": 47,
   "metadata": {
    "scrolled": true
   },
   "outputs": [],
   "source": [
    "def research_gate_scraper(record,faculty):\n",
    "\n",
    "    bio = \"\"\n",
    "    dept = \"\"\n",
    "    personal = \"\"\n",
    "    academic = \"\"\n",
    "    research = \"\"\n",
    "    orcid = \"\"\n",
    "    scopus = \"\" \n",
    "    \n",
    "    time.sleep(randint(5,10))\n",
    "    search_bar = driver.find_element_by_tag_name('input')\n",
    "    search_bar.send_keys(\"\\\"\" + record.faculty.strip() + \"\\\"\" + \" CSUN\")\n",
    "    search_bar.send_keys(Keys.ENTER)\n",
    "    results = False\n",
    "               \n",
    "    if not driver.find_elements_by_xpath('//*[@class=\"nova-o-stack__item\"]/div'):\n",
    "        results = True\n",
    "        else:\n",
    "            search_bar = driver.find_element_by_tag_name('input')\n",
    "            search_bar.clear()\n",
    "            search_bar.send_keys(\"\\\"\" + record.faculty.strip() + \"\\\"\" + \" Northridge\")\n",
    "            search_bar.send_keys(Keys.ENTER)\n",
    "            if not driver.find_elements_by_xpath('//*[@class=\"nova-o-stack__item\"]/div'):\n",
    "                results = True\n",
    "            else:\n",
    "                driver.close()\n",
    "        \n",
    "    if results:\n",
    "        \n",
    "        name = driver.find_element_by_xpath('//div[@class=\"nova-o-stack__item\"]//div[@class=\"nova-v-person-item__stack-item\"]//a')\n",
    "        matches = get_matches(name.text,faculty)\n",
    "        \n",
    "        if matches[0][1] >= 0.85 :\n",
    "            results = True\n",
    "            print(\"this ran\")\n",
    "        else:\n",
    "            results = False\n",
    "            print(\"this 2 ran\")\n",
    "    if results:\n",
    "        #Set driver to click the first profile given as a search result. Will need to be modified to be more general later.\n",
    "        view_profile_link = driver.find_element_by_link_text('View Profile').get_attribute('href')\n",
    "        citation_collector(record,view_profile_link)        \n",
    "    else:\n",
    "        print(\"Professor was added to no results file.\")\n",
    "        f = open(\"google_scholar_no_results.csv\", \"a\")\n",
    "        f.write(record.faculty.strip() + \",\")\n",
    "        f.write(record.college + \",\")\n",
    "        f.write(record.department + \",\")\n",
    "        f.write(record.url + \"\\n\")\n",
    "        f.close()\n"
   ]
  },
  {
   "cell_type": "code",
   "execution_count": 50,
   "metadata": {},
   "outputs": [],
   "source": [
    "def citation_collector(record,url):\n",
    "    \n",
    "    \n",
    "        driver = webdriver.Chrome(options=options)\n",
    "        driver.implicitly_wait(5)\n",
    "        driver.get(url)\n",
    "    \n",
    "        #Attempt to find the total number of research items for a given professsor \n",
    "        num_research_items = driver.find_element_by_xpath('//div[@class=\"nova-e-text nova-e-text--size-xl nova-e-text--family-sans-serif nova-e-text--spacing-none nova-e-text--color-inherit\"]')\n",
    "        num_research_items = num_research_items.text\n",
    "        num_research_items = int(num_research_items)\n",
    "        print(num_research_items)\n",
    "\n",
    "\n",
    "        # grab the research interests\n",
    "        interests = driver.find_elements_by_xpath('//*[@id=\"about\"]/div/div/div[3]/div/div/div[2]/div/div[2]/div/div/div/div/div')\n",
    "        interests = [item.text for item in interests]\n",
    "        while '' in interests:\n",
    "            interests.remove('')\n",
    "        for interest in interests:\n",
    "            research += interest\n",
    "\n",
    "        # Retrieve all the urls of the first page\n",
    "        research_a_tags = driver.find_elements_by_xpath('//div[@id=\"research\"]//div/a[@class=\"nova-e-link nova-e-link--color-inherit nova-e-link--theme-bare\"]')\n",
    "        urls = [tag.get_attribute(\"href\") for tag in research_a_tags]\n",
    "        titles = [tag.text for tag in research_a_tags]\n",
    "        paper_types = driver.find_elements_by_xpath('//div[@id=\"research\"]//a[@class=\"nova-e-badge nova-e-badge--color-green nova-e-badge--display-block nova-e-badge--luminosity-high nova-e-badge--size-l nova-e-badge--theme-solid nova-e-badge--radius-m nova-v-publication-item__type\"]')\n",
    "        paper_types = [item.text for item in paper_types]\n",
    "        num_research_items -= 100\n",
    "\n",
    "        current_url = driver.current_url\n",
    "\n",
    "        page_count = 2\n",
    "        while num_research_items > 0:\n",
    "            driver.get(current_url + '/' + str(page_count))\n",
    "            temp_tags = driver.find_elements_by_xpath('//div[@id=\"research\"]//div/a[@class=\"nova-e-link nova-e-link--color-inherit nova-e-link--theme-bare\"]')\n",
    "            for tag in temp_tags:\n",
    "                urls.append(tag.get_attribute(\"href\"))\n",
    "                titles.append(tag.text)\n",
    "            temp_papers = driver.find_elements_by_xpath('//div[@id=\"research\"]//a[@class=\"nova-e-badge nova-e-badge--color-green nova-e-badge--display-block nova-e-badge--luminosity-high nova-e-badge--size-l nova-e-badge--theme-solid nova-e-badge--radius-m nova-v-publication-item__type\"]')\n",
    "            for paper in temp_papers:\n",
    "                paper_types.append(paper.text)\n",
    "            num_research_items -= 100\n",
    "            page_count += 1\n",
    "\n",
    "        while \"Full-text available\" in paper_types:\n",
    "            paper_types.remove(\"Full-text available\")\n",
    "            \n",
    "        profile = open(\"research_gate_profiles.csv\", \"a\")\n",
    "        profile.write(record.faculty.strip() + \"|\" + record.college + \"|\")\n",
    "        profile.write(record.department + \"|\" + bio + \"|\" + personal + \"|\")\n",
    "        profile.write(academic + \"|\" + research + \"|\")\n",
    "        profile.write(orcid + \"|\" + scopus + \"\\n\")\n",
    "        profile.close()\n",
    "\n",
    "        i = 0\n",
    "        for url in urls:\n",
    "            \n",
    "            citation_text = \"\"\n",
    "            title = \"\"\n",
    "            abstract = \"\"\n",
    "            book_title = \"\"\n",
    "            journal_title = \"\"\n",
    "            date = \"\"\n",
    "            collabs = \"\"\n",
    "            publisher = \"\"\n",
    "            edition = \"\"\n",
    "            series = \"\"\n",
    "            volume = \"\"\n",
    "            issue = \"\"\n",
    "            chapter = \"\"\n",
    "            pages = \"\"\n",
    "            doi = \"\"\n",
    "            issn = \"\"\n",
    "            isbn = \"\"\n",
    "            handle = \"\"\n",
    "\n",
    "            time.sleep(randint(5,10))\n",
    "            driver.get(url)\n",
    "\n",
    "            # check for the DOI\n",
    "            if driver.find_elements_by_xpath('//*[@id=\"lite-page\"]/main/section/section[1]/div[1]/div[2]'):\n",
    "                # Grab the DOI\n",
    "                meta = driver.find_element_by_xpath('//*[@id=\"lite-page\"]/main/section/section[1]/div[1]/div[2]')\n",
    "                doi = meta.text.split(\" \")\n",
    "                if '\\n' in doi[1]:\n",
    "                    doi = doi[1].split(\"\\n\")\n",
    "                    doi = doi[0]\n",
    "                else:\n",
    "                    doi = doi[1]\n",
    "\n",
    "            # check for the abstract\n",
    "            if driver.find_elements_by_xpath('//div[@class=\"nova-e-text nova-e-text--size-m nova-e-text--family-sans-serif nova-e-text--spacing-auto nova-e-text--color-inherit\"]'):\n",
    "                # get the abstract\n",
    "                abstract = driver.find_element_by_xpath('//div[@class=\"nova-e-text nova-e-text--size-m nova-e-text--family-sans-serif nova-e-text--spacing-auto nova-e-text--color-inherit\"]')    \n",
    "                abstract = abstract.text\n",
    "\n",
    "            # then we'll get the collaborators\n",
    "            collab = driver.find_elements_by_xpath('html/body/div[2]/main/section/section/ul/li/div/div/div/div/div[2]/div/div/div/div/div/a')\n",
    "            collabs = \"\"\n",
    "            for person in collab:\n",
    "                collabs += person.text\n",
    "\n",
    "\n",
    "            # Attempt to get the date\n",
    "            if driver.find_elements_by_xpath('html/body/div[2]/main/section/section/div/div/span[2]'):\n",
    "                date = driver.find_element_by_xpath('html/body/div[2]/main/section/section/div/div/span[2]')\n",
    "                date = date.text\n",
    "\n",
    "            #download the citatation\n",
    "            #//*[@id=\"lite-page\"]/main/section/section[1]/div[1]/a\n",
    "            download_link = driver.find_element_by_xpath('//*[@id=\"lite-page\"]/main/section/section/div/a')\n",
    "            download_link.click()\n",
    "\n",
    "            # click the text button\n",
    "            text_radio_btn = driver.find_element_by_xpath(\"//span[contains(.,' Plain Text')]\")\n",
    "            text_radio_btn.click()\n",
    "\n",
    "            # download the citation file\n",
    "            download = driver.find_element_by_xpath('//button[@class=\"nova-c-button nova-c-button--align-center nova-c-button--radius-m nova-c-button--size-m nova-c-button--color-blue nova-c-button--theme-solid nova-c-button--width-auto\"]')\n",
    "            download.click()\n",
    "\n",
    "            time.sleep(3)\n",
    "\n",
    "            #driver.close()\n",
    "\n",
    "\n",
    "            # now that file is downloaded, need to open the file\n",
    "\n",
    "            # here I grab the file name; the trick to this is making sure that its the only file in downloads\n",
    "            citation_file = os.listdir(os.getcwd() + \"/Downloads\")[0]\n",
    "\n",
    "            # grab the citation\n",
    "            # i can probably get the name of the journal from the citation if thats something thats all over\n",
    "            f = open(\"Downloads/\"+citation_file, \"r\")\n",
    "            citation_text = f.read()\n",
    "            f.close()\n",
    "            # delete it\n",
    "            os.remove(\"Downloads/\"+citation_file)\n",
    "\n",
    "            citation_text\n",
    "\n",
    "\n",
    "            pieces = citation_text.split('.')\n",
    "            parts = []\n",
    "            for piece in pieces:\n",
    "                parts.append(piece.strip())\n",
    "            #print(parts[3],\",\",parts[4])\n",
    "\n",
    "            citations = open(\"research_gate_citations.csv\", \"a\")\n",
    "            citation.write(record.faculty.strip() + \"|\" + citation_text + \"|\" + titles[i] + \"|\" + paper_types[i] + \"|\")\n",
    "            citation.write(abstract + \"|\" + book_title + \"|\" + journal_title + \"|\" + date + \"|\")\n",
    "            citation.write(collabs + \"|\" + publisher + \"|\" + edition + \"|\" + series + \"|\")\n",
    "            citation.write(volume + \"|\" + issue + \"|\" + chapter + \"|\" + pages + \"|\")\n",
    "            citation.write(doi + \"|\" + issn + \"|\" + isbn + \"|\" + handle + \"|\" + url + \"\\n\")\n",
    "            citation.close()\n",
    "            i+=1\n",
    "    driver.close()\n",
    "            "
   ]
  },
  {
   "cell_type": "markdown",
   "metadata": {},
   "source": [
    "### The goal is to run all_faculty.csv through this scraper"
   ]
  },
  {
   "cell_type": "code",
   "execution_count": 34,
   "metadata": {},
   "outputs": [
    {
     "name": "stdout",
     "output_type": "stream",
     "text": [
      "2579\n",
      "Index(['faculty', 'college', 'department', 'url'], dtype='object')\n"
     ]
    },
    {
     "data": {
      "text/html": [
       "<div>\n",
       "<style scoped>\n",
       "    .dataframe tbody tr th:only-of-type {\n",
       "        vertical-align: middle;\n",
       "    }\n",
       "\n",
       "    .dataframe tbody tr th {\n",
       "        vertical-align: top;\n",
       "    }\n",
       "\n",
       "    .dataframe thead th {\n",
       "        text-align: right;\n",
       "    }\n",
       "</style>\n",
       "<table border=\"1\" class=\"dataframe\">\n",
       "  <thead>\n",
       "    <tr style=\"text-align: right;\">\n",
       "      <th></th>\n",
       "      <th>faculty</th>\n",
       "      <th>college</th>\n",
       "      <th>department</th>\n",
       "      <th>url</th>\n",
       "    </tr>\n",
       "  </thead>\n",
       "  <tbody>\n",
       "    <tr>\n",
       "      <th>0</th>\n",
       "      <td>Keji Chen</td>\n",
       "      <td>College of Business and Economics</td>\n",
       "      <td>Department of Accounting</td>\n",
       "      <td>https://www.csun.edu/acctis/faculty-and-staff-...</td>\n",
       "    </tr>\n",
       "    <tr>\n",
       "      <th>1</th>\n",
       "      <td>Michael E. Doron</td>\n",
       "      <td>College of Business and Economics</td>\n",
       "      <td>Department of Accounting</td>\n",
       "      <td>https://www.csun.edu/acctis/faculty-and-staff-...</td>\n",
       "    </tr>\n",
       "    <tr>\n",
       "      <th>2</th>\n",
       "      <td>Rafi Efrat</td>\n",
       "      <td>College of Business and Economics</td>\n",
       "      <td>Department of Accounting</td>\n",
       "      <td>https://www.csun.edu/acctis/faculty-and-staff-...</td>\n",
       "    </tr>\n",
       "    <tr>\n",
       "      <th>3</th>\n",
       "      <td>Monica Gianni</td>\n",
       "      <td>College of Business and Economics</td>\n",
       "      <td>Department of Accounting</td>\n",
       "      <td>https://www.csun.edu/acctis/faculty-and-staff-...</td>\n",
       "    </tr>\n",
       "    <tr>\n",
       "      <th>4</th>\n",
       "      <td>Young-Won Her</td>\n",
       "      <td>College of Business and Economics</td>\n",
       "      <td>Department of Accounting</td>\n",
       "      <td>https://www.csun.edu/acctis/faculty-and-staff-...</td>\n",
       "    </tr>\n",
       "  </tbody>\n",
       "</table>\n",
       "</div>"
      ],
      "text/plain": [
       "             faculty                            college  \\\n",
       "0          Keji Chen  College of Business and Economics   \n",
       "1   Michael E. Doron  College of Business and Economics   \n",
       "2         Rafi Efrat  College of Business and Economics   \n",
       "3      Monica Gianni  College of Business and Economics   \n",
       "4      Young-Won Her  College of Business and Economics   \n",
       "\n",
       "                 department                                                url  \n",
       "0  Department of Accounting  https://www.csun.edu/acctis/faculty-and-staff-...  \n",
       "1  Department of Accounting  https://www.csun.edu/acctis/faculty-and-staff-...  \n",
       "2  Department of Accounting  https://www.csun.edu/acctis/faculty-and-staff-...  \n",
       "3  Department of Accounting  https://www.csun.edu/acctis/faculty-and-staff-...  \n",
       "4  Department of Accounting  https://www.csun.edu/acctis/faculty-and-staff-...  "
      ]
     },
     "execution_count": 34,
     "metadata": {},
     "output_type": "execute_result"
    }
   ],
   "source": [
    "all_faculty = pd.read_csv(\"../Data Sets/all_faculty.csv\")\n",
    "print(all_faculty.shape[0])\n",
    "print(all_faculty.columns)\n",
    "all_faculty.head()"
   ]
  },
  {
   "cell_type": "code",
   "execution_count": 35,
   "metadata": {},
   "outputs": [
    {
     "data": {
      "text/plain": [
       "faculty                                        Yue (Jeff) Zhang\n",
       "college                       College of Business and Economics\n",
       "department                             Department of Accounting\n",
       "url           https://www.csun.edu/acctis/faculty-and-staff-...\n",
       "Name: 13, dtype: object"
      ]
     },
     "execution_count": 35,
     "metadata": {},
     "output_type": "execute_result"
    }
   ],
   "source": [
    "all_faculty.iloc[13]"
   ]
  },
  {
   "cell_type": "code",
   "execution_count": 49,
   "metadata": {},
   "outputs": [
    {
     "name": "stdout",
     "output_type": "stream",
     "text": [
      "Professor was added to no results file.\n"
     ]
    },
    {
     "ename": "WebDriverException",
     "evalue": "Message: invalid session id\n  (Driver info: chromedriver=73.0.3683.68 (47787ec04b6e38e22703e856e101e840b65afe72),platform=Linux 4.15.0-50-generic x86_64)\n",
     "output_type": "error",
     "traceback": [
      "\u001b[0;31m---------------------------------------------------------------------------\u001b[0m",
      "\u001b[0;31mWebDriverException\u001b[0m                        Traceback (most recent call last)",
      "\u001b[0;32m<ipython-input-49-2ac5ec37c4c2>\u001b[0m in \u001b[0;36m<module>\u001b[0;34m\u001b[0m\n\u001b[1;32m      6\u001b[0m     \u001b[0mresearch_gate_scraper\u001b[0m\u001b[0;34m(\u001b[0m\u001b[0mall_faculty\u001b[0m\u001b[0;34m.\u001b[0m\u001b[0miloc\u001b[0m\u001b[0;34m[\u001b[0m\u001b[0;36m13\u001b[0m\u001b[0;34m]\u001b[0m\u001b[0;34m,\u001b[0m\u001b[0mfaculty\u001b[0m\u001b[0;34m)\u001b[0m\u001b[0;34m\u001b[0m\u001b[0;34m\u001b[0m\u001b[0m\n\u001b[1;32m      7\u001b[0m \u001b[0;32mfinally\u001b[0m\u001b[0;34m:\u001b[0m\u001b[0;34m\u001b[0m\u001b[0;34m\u001b[0m\u001b[0m\n\u001b[0;32m----> 8\u001b[0;31m     \u001b[0mdriver\u001b[0m\u001b[0;34m.\u001b[0m\u001b[0mclose\u001b[0m\u001b[0;34m(\u001b[0m\u001b[0;34m)\u001b[0m\u001b[0;34m\u001b[0m\u001b[0;34m\u001b[0m\u001b[0m\n\u001b[0m",
      "\u001b[0;32m~/anaconda3/lib/python3.7/site-packages/selenium/webdriver/remote/webdriver.py\u001b[0m in \u001b[0;36mclose\u001b[0;34m(self)\u001b[0m\n\u001b[1;32m    686\u001b[0m             \u001b[0mdriver\u001b[0m\u001b[0;34m.\u001b[0m\u001b[0mclose\u001b[0m\u001b[0;34m(\u001b[0m\u001b[0;34m)\u001b[0m\u001b[0;34m\u001b[0m\u001b[0;34m\u001b[0m\u001b[0m\n\u001b[1;32m    687\u001b[0m         \"\"\"\n\u001b[0;32m--> 688\u001b[0;31m         \u001b[0mself\u001b[0m\u001b[0;34m.\u001b[0m\u001b[0mexecute\u001b[0m\u001b[0;34m(\u001b[0m\u001b[0mCommand\u001b[0m\u001b[0;34m.\u001b[0m\u001b[0mCLOSE\u001b[0m\u001b[0;34m)\u001b[0m\u001b[0;34m\u001b[0m\u001b[0;34m\u001b[0m\u001b[0m\n\u001b[0m\u001b[1;32m    689\u001b[0m \u001b[0;34m\u001b[0m\u001b[0m\n\u001b[1;32m    690\u001b[0m     \u001b[0;32mdef\u001b[0m \u001b[0mquit\u001b[0m\u001b[0;34m(\u001b[0m\u001b[0mself\u001b[0m\u001b[0;34m)\u001b[0m\u001b[0;34m:\u001b[0m\u001b[0;34m\u001b[0m\u001b[0;34m\u001b[0m\u001b[0m\n",
      "\u001b[0;32m~/anaconda3/lib/python3.7/site-packages/selenium/webdriver/remote/webdriver.py\u001b[0m in \u001b[0;36mexecute\u001b[0;34m(self, driver_command, params)\u001b[0m\n\u001b[1;32m    319\u001b[0m         \u001b[0mresponse\u001b[0m \u001b[0;34m=\u001b[0m \u001b[0mself\u001b[0m\u001b[0;34m.\u001b[0m\u001b[0mcommand_executor\u001b[0m\u001b[0;34m.\u001b[0m\u001b[0mexecute\u001b[0m\u001b[0;34m(\u001b[0m\u001b[0mdriver_command\u001b[0m\u001b[0;34m,\u001b[0m \u001b[0mparams\u001b[0m\u001b[0;34m)\u001b[0m\u001b[0;34m\u001b[0m\u001b[0;34m\u001b[0m\u001b[0m\n\u001b[1;32m    320\u001b[0m         \u001b[0;32mif\u001b[0m \u001b[0mresponse\u001b[0m\u001b[0;34m:\u001b[0m\u001b[0;34m\u001b[0m\u001b[0;34m\u001b[0m\u001b[0m\n\u001b[0;32m--> 321\u001b[0;31m             \u001b[0mself\u001b[0m\u001b[0;34m.\u001b[0m\u001b[0merror_handler\u001b[0m\u001b[0;34m.\u001b[0m\u001b[0mcheck_response\u001b[0m\u001b[0;34m(\u001b[0m\u001b[0mresponse\u001b[0m\u001b[0;34m)\u001b[0m\u001b[0;34m\u001b[0m\u001b[0;34m\u001b[0m\u001b[0m\n\u001b[0m\u001b[1;32m    322\u001b[0m             response['value'] = self._unwrap_value(\n\u001b[1;32m    323\u001b[0m                 response.get('value', None))\n",
      "\u001b[0;32m~/anaconda3/lib/python3.7/site-packages/selenium/webdriver/remote/errorhandler.py\u001b[0m in \u001b[0;36mcheck_response\u001b[0;34m(self, response)\u001b[0m\n\u001b[1;32m    240\u001b[0m                 \u001b[0malert_text\u001b[0m \u001b[0;34m=\u001b[0m \u001b[0mvalue\u001b[0m\u001b[0;34m[\u001b[0m\u001b[0;34m'alert'\u001b[0m\u001b[0;34m]\u001b[0m\u001b[0;34m.\u001b[0m\u001b[0mget\u001b[0m\u001b[0;34m(\u001b[0m\u001b[0;34m'text'\u001b[0m\u001b[0;34m)\u001b[0m\u001b[0;34m\u001b[0m\u001b[0;34m\u001b[0m\u001b[0m\n\u001b[1;32m    241\u001b[0m             \u001b[0;32mraise\u001b[0m \u001b[0mexception_class\u001b[0m\u001b[0;34m(\u001b[0m\u001b[0mmessage\u001b[0m\u001b[0;34m,\u001b[0m \u001b[0mscreen\u001b[0m\u001b[0;34m,\u001b[0m \u001b[0mstacktrace\u001b[0m\u001b[0;34m,\u001b[0m \u001b[0malert_text\u001b[0m\u001b[0;34m)\u001b[0m\u001b[0;34m\u001b[0m\u001b[0;34m\u001b[0m\u001b[0m\n\u001b[0;32m--> 242\u001b[0;31m         \u001b[0;32mraise\u001b[0m \u001b[0mexception_class\u001b[0m\u001b[0;34m(\u001b[0m\u001b[0mmessage\u001b[0m\u001b[0;34m,\u001b[0m \u001b[0mscreen\u001b[0m\u001b[0;34m,\u001b[0m \u001b[0mstacktrace\u001b[0m\u001b[0;34m)\u001b[0m\u001b[0;34m\u001b[0m\u001b[0;34m\u001b[0m\u001b[0m\n\u001b[0m\u001b[1;32m    243\u001b[0m \u001b[0;34m\u001b[0m\u001b[0m\n\u001b[1;32m    244\u001b[0m     \u001b[0;32mdef\u001b[0m \u001b[0m_value_or_default\u001b[0m\u001b[0;34m(\u001b[0m\u001b[0mself\u001b[0m\u001b[0;34m,\u001b[0m \u001b[0mobj\u001b[0m\u001b[0;34m,\u001b[0m \u001b[0mkey\u001b[0m\u001b[0;34m,\u001b[0m \u001b[0mdefault\u001b[0m\u001b[0;34m)\u001b[0m\u001b[0;34m:\u001b[0m\u001b[0;34m\u001b[0m\u001b[0;34m\u001b[0m\u001b[0m\n",
      "\u001b[0;31mWebDriverException\u001b[0m: Message: invalid session id\n  (Driver info: chromedriver=73.0.3683.68 (47787ec04b6e38e22703e856e101e840b65afe72),platform=Linux 4.15.0-50-generic x86_64)\n"
     ]
    }
   ],
   "source": [
    "start = \"https://www.researchgate.net/search/authors?q\"\n",
    "try:\n",
    "    driver = webdriver.Chrome(options=options)\n",
    "    driver.implicitly_wait(5)\n",
    "    driver.get(start)\n",
    "    research_gate_scraper(all_faculty.iloc[13],faculty)\n",
    "finally:\n",
    "    driver.close()"
   ]
  },
  {
   "cell_type": "code",
   "execution_count": 26,
   "metadata": {
    "scrolled": true
   },
   "outputs": [
    {
     "ename": "NameError",
     "evalue": "name 'research_gate_scraper' is not defined",
     "output_type": "error",
     "traceback": [
      "\u001b[0;31m---------------------------------------------------------------------------\u001b[0m",
      "\u001b[0;31mNameError\u001b[0m                                 Traceback (most recent call last)",
      "\u001b[0;32m<ipython-input-26-65ddc126ae0a>\u001b[0m in \u001b[0;36m<module>\u001b[0;34m\u001b[0m\n\u001b[1;32m      5\u001b[0m     \u001b[0mdriver\u001b[0m\u001b[0;34m.\u001b[0m\u001b[0mget\u001b[0m\u001b[0;34m(\u001b[0m\u001b[0mresearch_gate\u001b[0m\u001b[0;34m)\u001b[0m\u001b[0;34m\u001b[0m\u001b[0;34m\u001b[0m\u001b[0m\n\u001b[1;32m      6\u001b[0m     \u001b[0;32mfor\u001b[0m \u001b[0mi\u001b[0m \u001b[0;32min\u001b[0m \u001b[0mrange\u001b[0m\u001b[0;34m(\u001b[0m\u001b[0;36m10\u001b[0m\u001b[0;34m)\u001b[0m\u001b[0;34m:\u001b[0m\u001b[0;34m\u001b[0m\u001b[0;34m\u001b[0m\u001b[0m\n\u001b[0;32m----> 7\u001b[0;31m         \u001b[0mresearch_gate_scraper\u001b[0m\u001b[0;34m(\u001b[0m\u001b[0mall_faculty\u001b[0m\u001b[0;34m.\u001b[0m\u001b[0miloc\u001b[0m\u001b[0;34m[\u001b[0m\u001b[0mi\u001b[0m\u001b[0;34m]\u001b[0m\u001b[0;34m,\u001b[0m\u001b[0mfaculty\u001b[0m\u001b[0;34m)\u001b[0m\u001b[0;34m\u001b[0m\u001b[0;34m\u001b[0m\u001b[0m\n\u001b[0m\u001b[1;32m      8\u001b[0m \u001b[0;32mfinally\u001b[0m\u001b[0;34m:\u001b[0m\u001b[0;34m\u001b[0m\u001b[0;34m\u001b[0m\u001b[0m\n\u001b[1;32m      9\u001b[0m     \u001b[0mdriver\u001b[0m\u001b[0;34m.\u001b[0m\u001b[0mclose\u001b[0m\u001b[0;34m(\u001b[0m\u001b[0;34m)\u001b[0m\u001b[0;34m\u001b[0m\u001b[0;34m\u001b[0m\u001b[0m\n",
      "\u001b[0;31mNameError\u001b[0m: name 'research_gate_scraper' is not defined"
     ]
    }
   ],
   "source": [
    "driver = webdriver.Chrome(options=options)\n",
    "driver.implicitly_wait(4)\n",
    "try:\n",
    "    research_gate = \"https://www.researchgate.net/search/authors?q\"\n",
    "    driver.get(research_gate)\n",
    "    for i in range(10):\n",
    "        research_gate_scraper(all_faculty.iloc[i],faculty)\n",
    "finally:\n",
    "    driver.close()"
   ]
  },
  {
   "cell_type": "code",
   "execution_count": null,
   "metadata": {},
   "outputs": [],
   "source": []
  },
  {
   "cell_type": "code",
   "execution_count": null,
   "metadata": {},
   "outputs": [],
   "source": []
  },
  {
   "cell_type": "code",
   "execution_count": 54,
   "metadata": {},
   "outputs": [],
   "source": [
    "test_string = \"hello zappa\\ngoodbye\""
   ]
  },
  {
   "cell_type": "code",
   "execution_count": 55,
   "metadata": {},
   "outputs": [
    {
     "name": "stdout",
     "output_type": "stream",
     "text": [
      "hello zappa\n",
      "goodbye\n"
     ]
    }
   ],
   "source": [
    "print(test_string)"
   ]
  },
  {
   "cell_type": "code",
   "execution_count": 56,
   "metadata": {},
   "outputs": [],
   "source": [
    "test_string = test_string.split(\" \")"
   ]
  },
  {
   "cell_type": "code",
   "execution_count": 57,
   "metadata": {},
   "outputs": [
    {
     "name": "stdout",
     "output_type": "stream",
     "text": [
      "['hello', 'zappa\\ngoodbye']\n"
     ]
    }
   ],
   "source": [
    "print(test_string)"
   ]
  },
  {
   "cell_type": "code",
   "execution_count": 59,
   "metadata": {},
   "outputs": [
    {
     "name": "stdout",
     "output_type": "stream",
     "text": [
      "True\n"
     ]
    }
   ],
   "source": [
    "print(\"\\n\" in test_string[1])"
   ]
  },
  {
   "cell_type": "code",
   "execution_count": 13,
   "metadata": {},
   "outputs": [],
   "source": [
    "string = '\\0'"
   ]
  },
  {
   "cell_type": "code",
   "execution_count": 14,
   "metadata": {},
   "outputs": [
    {
     "name": "stdout",
     "output_type": "stream",
     "text": [
      "\u0000\n"
     ]
    }
   ],
   "source": [
    "print(string)"
   ]
  },
  {
   "cell_type": "code",
   "execution_count": null,
   "metadata": {},
   "outputs": [],
   "source": []
  }
 ],
 "metadata": {
  "kernelspec": {
   "display_name": "Python 3",
   "language": "python",
   "name": "python3"
  },
  "language_info": {
   "codemirror_mode": {
    "name": "ipython",
    "version": 3
   },
   "file_extension": ".py",
   "mimetype": "text/x-python",
   "name": "python",
   "nbconvert_exporter": "python",
   "pygments_lexer": "ipython3",
   "version": "3.7.3"
  }
 },
 "nbformat": 4,
 "nbformat_minor": 2
}
