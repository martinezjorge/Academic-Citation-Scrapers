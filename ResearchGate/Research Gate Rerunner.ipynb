{
 "cells": [
  {
   "cell_type": "code",
   "execution_count": 1,
   "metadata": {},
   "outputs": [
    {
     "name": "stderr",
     "output_type": "stream",
     "text": [
      "/home/frostburn/anaconda3/lib/python3.7/site-packages/fuzzywuzzy/fuzz.py:11: UserWarning: Using slow pure-python SequenceMatcher. Install python-Levenshtein to remove this warning\n",
      "  warnings.warn('Using slow pure-python SequenceMatcher. Install python-Levenshtein to remove this warning')\n"
     ]
    }
   ],
   "source": [
    "import pandas as pd\n",
    "from selenium import webdriver\n",
    "from selenium.webdriver.common.keys import Keys\n",
    "from selenium.common.exceptions import NoSuchElementException\n",
    "from bs4 import BeautifulSoup\n",
    "import os\n",
    "import time\n",
    "from random import randint\n",
    "from fuzzywuzzy import process"
   ]
  },
  {
   "cell_type": "code",
   "execution_count": 2,
   "metadata": {},
   "outputs": [],
   "source": [
    "def get_matches(query,choices,limit=1):\n",
    "    results = process.extract(query,[choices],limit=limit)\n",
    "    return results"
   ]
  },
  {
   "cell_type": "code",
   "execution_count": 3,
   "metadata": {},
   "outputs": [
    {
     "name": "stdout",
     "output_type": "stream",
     "text": [
      "download.default_directory=/home/frostburn/Desktop/Web-Scraping/ResearchGate/Downloads\n"
     ]
    }
   ],
   "source": [
    "print(\"download.default_directory=\" + os.getcwd() + \"/Downloads\")"
   ]
  },
  {
   "cell_type": "code",
   "execution_count": 4,
   "metadata": {},
   "outputs": [],
   "source": [
    "options = webdriver.ChromeOptions()\n",
    "prefs = {\n",
    "    \"download.default_directory\": os.getcwd() + \"/Downloads\",\n",
    "    \"download.prompt_for_download\": False,\n",
    "    \"download.directory_upgrade\": True,\n",
    "    \"headless\":True\n",
    "}\n",
    "options.add_experimental_option('prefs', prefs)"
   ]
  },
  {
   "cell_type": "code",
   "execution_count": 5,
   "metadata": {},
   "outputs": [],
   "source": [
    "start_page = \"https://www.researchgate.net/search/authors?q\""
   ]
  },
  {
   "cell_type": "markdown",
   "metadata": {},
   "source": [
    "\n",
    "Process Flow\n",
    "-------------------\n",
    "Search professors from start_page by name\n",
    "Click Search\n",
    "Find the first reseach item in the research section\n",
    "Determine type of publication\n",
    "Get Abstract if Abstract exists, if not skip to next\n",
    "Click citation download link\n",
    "Select option (1 = RIS, 2 = BibTex, 3 = Plain text)\n",
    "Select option  (1 = citation 2 = citation and abstract)\n",
    "Download\n",
    "Go to most recent downloaded file\n",
    "Read text from that file\n",
    "Place citation into variable\n",
    "If abstract exists for citation place into abstract variable if no abstract found insert \"No abstract found.\""
   ]
  },
  {
   "cell_type": "code",
   "execution_count": 6,
   "metadata": {
    "scrolled": true
   },
   "outputs": [],
   "source": [
    "def research_gate_rerunner(record,driver,j):\n",
    "\n",
    "    search_bar = driver.find_element_by_tag_name('input')\n",
    "    search_bar.clear()\n",
    "    search_bar.send_keys(\"\\\"\" + record.faculty.strip() + \"\\\" CSUN\")\n",
    "    search_bar.send_keys(Keys.ENTER)\n",
    "    results = False\n",
    "\n",
    "    if driver.find_elements_by_xpath('//*[@class=\"nova-o-stack__item\"]/div'):\n",
    "        results = True\n",
    "    else:\n",
    "        search_bar = driver.find_element_by_tag_name('input')\n",
    "        search_bar.clear()\n",
    "        search_bar.send_keys(\"\\\"\" + record.faculty.strip() + \"\\\"\" + \" Northridge\")\n",
    "        search_bar.send_keys(Keys.ENTER)\n",
    "        if driver.find_elements_by_xpath('//*[@class=\"nova-o-stack__item\"]/div'):\n",
    "            results = True\n",
    "\n",
    "    if results:\n",
    "\n",
    "        results = False\n",
    "\n",
    "        cards = driver.find_elements_by_xpath('//*[@class=\"nova-c-card__body nova-c-card__body--spacing-inherit\"]')\n",
    "        profile_links = driver.find_elements_by_link_text('View Profile')\n",
    "\n",
    "        y = 0\n",
    "\n",
    "        for card in cards:\n",
    "\n",
    "            card = card.get_attribute('innerHTML')\n",
    "            card_soup = BeautifulSoup(card, 'html.parser')\n",
    "\n",
    "            name = card_soup.find('a',class_='nova-e-link nova-e-link--color-inherit nova-e-link--theme-bare').text\n",
    "            details = card_soup.find_all('li',class_='nova-e-list__item nova-v-person-item__info-section-list-item')\n",
    "\n",
    "            if len(details) > 1:\n",
    "                institution = details[0].text\n",
    "                department = details[1].text\n",
    "            elif len(details) > 0:\n",
    "                institution = details[0].text\n",
    "                department = \"\"\n",
    "            elif len(details) == 0:\n",
    "                instution = \"\"\n",
    "                department = \"\"\n",
    "\n",
    "            name_match = get_matches(name,record.faculty)\n",
    "            print(name)\n",
    "            institution_match = get_matches(institution,'California State University, Northridge')\n",
    "            print(institution)\n",
    "            department_match = get_matches(department,record.department)\n",
    "            print(department)\n",
    "\n",
    "            if (name_match[0][1] >= 85) and (institution_match[0][1] >= 90) and (department_match[0][1] >= 90):\n",
    "                url = profile_links[y].get_attribute('href')\n",
    "                results = True\n",
    "            if results:\n",
    "                 break    \n",
    "            y += 1\n",
    "\n",
    "    if results:\n",
    "        citation_collector(record,url,j)\n"
   ]
  },
  {
   "cell_type": "code",
   "execution_count": 7,
   "metadata": {},
   "outputs": [],
   "source": [
    "def citation_collector(record,url,j):\n",
    "    \n",
    "    driver = webdriver.Chrome(options=options)\n",
    "    driver.implicitly_wait(5)\n",
    "    driver.get(url)\n",
    "\n",
    "    #Attempt to find the total number of research items for a given professsor \n",
    "    num_research_items = driver.find_element_by_xpath('//div[@class=\"nova-e-text nova-e-text--size-xl nova-e-text--family-sans-serif nova-e-text--spacing-none nova-e-text--color-inherit\"]')\n",
    "    num_research_items = num_research_items.text\n",
    "    num_research_items = int(num_research_items)\n",
    "    print(num_research_items)\n",
    "\n",
    "    # Retrieve all the urls of the first page\n",
    "    research_a_tags = driver.find_elements_by_xpath('//div[@id=\"research\"]//div/a[@class=\"nova-e-link nova-e-link--color-inherit nova-e-link--theme-bare\"]')\n",
    "    urls = [tag.get_attribute(\"href\") for tag in research_a_tags]\n",
    "    titles = [tag.text for tag in research_a_tags]\n",
    "    paper_types = driver.find_elements_by_xpath('//div[@id=\"research\"]//a[@class=\"nova-e-badge nova-e-badge--color-green nova-e-badge--display-block nova-e-badge--luminosity-high nova-e-badge--size-l nova-e-badge--theme-solid nova-e-badge--radius-m nova-v-publication-item__type\"]')\n",
    "    paper_types = [item.text for item in paper_types]\n",
    "    num_research_items -= 100\n",
    "\n",
    "    current_url = driver.current_url\n",
    "\n",
    "    page_count = 2\n",
    "    while num_research_items > 0:\n",
    "        driver.get(current_url + '/' + str(page_count))\n",
    "        temp_tags = driver.find_elements_by_xpath('//div[@id=\"research\"]//div/a[@class=\"nova-e-link nova-e-link--color-inherit nova-e-link--theme-bare\"]')\n",
    "        for tag in temp_tags:\n",
    "            urls.append(tag.get_attribute(\"href\"))\n",
    "            titles.append(tag.text)\n",
    "        temp_papers = driver.find_elements_by_xpath('//div[@id=\"research\"]//a[@class=\"nova-e-badge nova-e-badge--color-green nova-e-badge--display-block nova-e-badge--luminosity-high nova-e-badge--size-l nova-e-badge--theme-solid nova-e-badge--radius-m nova-v-publication-item__type\"]')\n",
    "        for paper in temp_papers:\n",
    "            paper_types.append(paper.text)\n",
    "        num_research_items -= 100\n",
    "        page_count += 1\n",
    "\n",
    "    while \"Full-text available\" in paper_types:\n",
    "        paper_types.remove(\"Full-text available\")\n",
    "\n",
    "    for i in range(j,len(urls)):\n",
    "        \n",
    "        print(i)\n",
    "\n",
    "        citation_text = \"\"\n",
    "        title = \"\"\n",
    "        abstract = \"\"\n",
    "        book_title = \"\"\n",
    "        journal_title = \"\"\n",
    "        date = \"\"\n",
    "        collabs = \"\"\n",
    "        publisher = \"\"\n",
    "        edition = \"\"\n",
    "        series = \"\"\n",
    "        volume = \"\"\n",
    "        issue = \"\"\n",
    "        chapter = \"\"\n",
    "        pages = \"\"\n",
    "        doi = \"\"\n",
    "        issn = \"\"\n",
    "        isbn = \"\"\n",
    "        handle = \"\"\n",
    "\n",
    "        #time.sleep(randint(5,10))\n",
    "        driver.get(urls[i])\n",
    "\n",
    "        # check for the DOI\n",
    "        if driver.find_elements_by_xpath('//*[@id=\"lite-page\"]/main/section/section[1]/div[1]/div[2]'):\n",
    "            # Grab the DOI\n",
    "            meta = driver.find_element_by_xpath('//*[@id=\"lite-page\"]/main/section/section[1]/div[1]/div[2]')\n",
    "            doi = meta.text.split(\" \")\n",
    "            if len(doi) > 1:\n",
    "                if '\\n' in doi[1]:\n",
    "                    doi = doi[1].split(\"\\n\")\n",
    "                    doi = doi[0]\n",
    "                else:\n",
    "                    doi = doi[1]\n",
    "            else:\n",
    "                doi\n",
    "\n",
    "        # check for the abstract\n",
    "        if driver.find_elements_by_xpath('//div[@class=\"nova-e-text nova-e-text--size-m nova-e-text--family-sans-serif nova-e-text--spacing-auto nova-e-text--color-inherit\"]'):\n",
    "            # get the abstract\n",
    "            abstract = driver.find_element_by_xpath('//div[@class=\"nova-e-text nova-e-text--size-m nova-e-text--family-sans-serif nova-e-text--spacing-auto nova-e-text--color-inherit\"]')    \n",
    "            abstract = abstract.text\n",
    "\n",
    "        # then we'll get the collaborators\n",
    "        collab = driver.find_elements_by_xpath('html/body/div[2]/main/section/section/ul/li/div/div/div/div/div[2]/div/div/div/div/div/a')\n",
    "        collabs = \"\"\n",
    "        for person in collab:\n",
    "            collabs += person.text\n",
    "\n",
    "\n",
    "        # Attempt to get the date\n",
    "        if driver.find_elements_by_xpath('html/body/div[2]/main/section/section/div/div/span[2]'):\n",
    "            date = driver.find_element_by_xpath('html/body/div[2]/main/section/section/div/div/span[2]')\n",
    "            date = date.text\n",
    "\n",
    "        #download the citatation\n",
    "        #//*[@id=\"lite-page\"]/main/section/section[1]/div[1]/a\n",
    "        download_link = driver.find_element_by_xpath('//*[@id=\"lite-page\"]/main/section/section/div/a')\n",
    "        download_link.click()\n",
    "\n",
    "        # click the text button\n",
    "        text_radio_btn = driver.find_element_by_xpath(\"//span[contains(.,' Plain Text')]\")\n",
    "        text_radio_btn.click()\n",
    "\n",
    "        # download the citation file\n",
    "        download = driver.find_element_by_xpath('//button[@class=\"nova-c-button nova-c-button--align-center nova-c-button--radius-m nova-c-button--size-m nova-c-button--color-blue nova-c-button--theme-solid nova-c-button--width-auto\"]')\n",
    "        download.click()\n",
    "\n",
    "        time.sleep(3)\n",
    "\n",
    "        #driver.close()\n",
    "\n",
    "\n",
    "        # now that file is downloaded, need to open the file\n",
    "\n",
    "        # here I grab the file name; the trick to this is making sure that its the only file in downloads\n",
    "        citation_file = os.listdir(os.getcwd() + \"/Downloads\")[0]\n",
    "\n",
    "        # grab the citation\n",
    "        # i can probably get the name of the journal from the citation if thats something thats all over\n",
    "        f = open(\"Downloads/\"+citation_file, \"r\")\n",
    "        citation_text = f.read()\n",
    "        f.close()\n",
    "        # delete it\n",
    "        os.remove(\"Downloads/\"+citation_file)\n",
    "\n",
    "        citation_text\n",
    "\n",
    "\n",
    "        pieces = citation_text.split('.')\n",
    "        parts = []\n",
    "        for piece in pieces:\n",
    "            parts.append(piece.strip())\n",
    "        #print(parts[3],\",\",parts[4])\n",
    "\n",
    "        citations = open(\"research_gate_citations.csv\", \"a\")\n",
    "        citations.write(record.faculty.strip() + \"|\" + citation_text + \"|\" + titles[i] + \"|\" + paper_types[i] + \"|\")\n",
    "        citations.write(abstract + \"|\" + book_title + \"|\" + journal_title + \"|\" + date + \"|\")\n",
    "        citations.write(collabs + \"|\" + publisher + \"|\" + edition + \"|\" + series + \"|\")\n",
    "        citations.write(volume + \"|\" + issue + \"|\" + chapter + \"|\" + pages + \"|\")\n",
    "        citations.write(doi + \"|\" + issn + \"|\" + isbn + \"|\" + handle + \"|\" + url + \"\\n\")\n",
    "        citations.close()\n",
    "        i+=1\n",
    "    driver.close()\n",
    "            "
   ]
  },
  {
   "cell_type": "markdown",
   "metadata": {},
   "source": [
    "### The goal is to run all_faculty.csv through this scraper"
   ]
  },
  {
   "cell_type": "code",
   "execution_count": 8,
   "metadata": {
    "scrolled": true
   },
   "outputs": [
    {
     "name": "stdout",
     "output_type": "stream",
     "text": [
      "2579\n",
      "Index(['faculty', 'college', 'department', 'url'], dtype='object')\n"
     ]
    },
    {
     "data": {
      "text/html": [
       "<div>\n",
       "<style scoped>\n",
       "    .dataframe tbody tr th:only-of-type {\n",
       "        vertical-align: middle;\n",
       "    }\n",
       "\n",
       "    .dataframe tbody tr th {\n",
       "        vertical-align: top;\n",
       "    }\n",
       "\n",
       "    .dataframe thead th {\n",
       "        text-align: right;\n",
       "    }\n",
       "</style>\n",
       "<table border=\"1\" class=\"dataframe\">\n",
       "  <thead>\n",
       "    <tr style=\"text-align: right;\">\n",
       "      <th></th>\n",
       "      <th>faculty</th>\n",
       "      <th>college</th>\n",
       "      <th>department</th>\n",
       "      <th>url</th>\n",
       "    </tr>\n",
       "  </thead>\n",
       "  <tbody>\n",
       "    <tr>\n",
       "      <th>0</th>\n",
       "      <td>Keji Chen</td>\n",
       "      <td>College of Business and Economics</td>\n",
       "      <td>Department of Accounting</td>\n",
       "      <td>https://www.csun.edu/acctis/faculty-and-staff-...</td>\n",
       "    </tr>\n",
       "    <tr>\n",
       "      <th>1</th>\n",
       "      <td>Michael E. Doron</td>\n",
       "      <td>College of Business and Economics</td>\n",
       "      <td>Department of Accounting</td>\n",
       "      <td>https://www.csun.edu/acctis/faculty-and-staff-...</td>\n",
       "    </tr>\n",
       "    <tr>\n",
       "      <th>2</th>\n",
       "      <td>Rafi Efrat</td>\n",
       "      <td>College of Business and Economics</td>\n",
       "      <td>Department of Accounting</td>\n",
       "      <td>https://www.csun.edu/acctis/faculty-and-staff-...</td>\n",
       "    </tr>\n",
       "    <tr>\n",
       "      <th>3</th>\n",
       "      <td>Monica Gianni</td>\n",
       "      <td>College of Business and Economics</td>\n",
       "      <td>Department of Accounting</td>\n",
       "      <td>https://www.csun.edu/acctis/faculty-and-staff-...</td>\n",
       "    </tr>\n",
       "    <tr>\n",
       "      <th>4</th>\n",
       "      <td>Young-Won Her</td>\n",
       "      <td>College of Business and Economics</td>\n",
       "      <td>Department of Accounting</td>\n",
       "      <td>https://www.csun.edu/acctis/faculty-and-staff-...</td>\n",
       "    </tr>\n",
       "  </tbody>\n",
       "</table>\n",
       "</div>"
      ],
      "text/plain": [
       "             faculty                            college  \\\n",
       "0          Keji Chen  College of Business and Economics   \n",
       "1   Michael E. Doron  College of Business and Economics   \n",
       "2         Rafi Efrat  College of Business and Economics   \n",
       "3      Monica Gianni  College of Business and Economics   \n",
       "4      Young-Won Her  College of Business and Economics   \n",
       "\n",
       "                 department                                                url  \n",
       "0  Department of Accounting  https://www.csun.edu/acctis/faculty-and-staff-...  \n",
       "1  Department of Accounting  https://www.csun.edu/acctis/faculty-and-staff-...  \n",
       "2  Department of Accounting  https://www.csun.edu/acctis/faculty-and-staff-...  \n",
       "3  Department of Accounting  https://www.csun.edu/acctis/faculty-and-staff-...  \n",
       "4  Department of Accounting  https://www.csun.edu/acctis/faculty-and-staff-...  "
      ]
     },
     "execution_count": 8,
     "metadata": {},
     "output_type": "execute_result"
    }
   ],
   "source": [
    "all_faculty = pd.read_csv(\"../Data Sets/all_faculty.csv\")\n",
    "print(all_faculty.shape[0])\n",
    "print(all_faculty.columns)\n",
    "all_faculty.head()"
   ]
  },
  {
   "cell_type": "code",
   "execution_count": 9,
   "metadata": {},
   "outputs": [
    {
     "data": {
      "text/plain": [
       "faculty                                      Gilberto E. Flores\n",
       "college                                        Science and Math\n",
       "department                                Department of Biology\n",
       "url            https://www.csun.edu/science-mathematics/biol...\n",
       "Name: 2134, dtype: object"
      ]
     },
     "execution_count": 9,
     "metadata": {},
     "output_type": "execute_result"
    }
   ],
   "source": [
    "all_faculty.iloc[2134]"
   ]
  },
  {
   "cell_type": "code",
   "execution_count": 27,
   "metadata": {},
   "outputs": [
    {
     "name": "stdout",
     "output_type": "stream",
     "text": [
      "Teri Berkel\n",
      "California State University, Northridge\n",
      "Department of Kinesiology\n",
      "3\n",
      "1\n",
      "2\n"
     ]
    },
    {
     "ename": "IndexError",
     "evalue": "list index out of range",
     "output_type": "error",
     "traceback": [
      "\u001b[0;31m---------------------------------------------------------------------------\u001b[0m",
      "\u001b[0;31mIndexError\u001b[0m                                Traceback (most recent call last)",
      "\u001b[0;32m<ipython-input-27-9f74abe21f78>\u001b[0m in \u001b[0;36m<module>\u001b[0;34m\u001b[0m\n\u001b[1;32m      4\u001b[0m     \u001b[0mdriver\u001b[0m\u001b[0;34m.\u001b[0m\u001b[0mimplicitly_wait\u001b[0m\u001b[0;34m(\u001b[0m\u001b[0;36m5\u001b[0m\u001b[0;34m)\u001b[0m\u001b[0;34m\u001b[0m\u001b[0;34m\u001b[0m\u001b[0m\n\u001b[1;32m      5\u001b[0m     \u001b[0mdriver\u001b[0m\u001b[0;34m.\u001b[0m\u001b[0mget\u001b[0m\u001b[0;34m(\u001b[0m\u001b[0mstart\u001b[0m\u001b[0;34m)\u001b[0m\u001b[0;34m\u001b[0m\u001b[0;34m\u001b[0m\u001b[0m\n\u001b[0;32m----> 6\u001b[0;31m     \u001b[0mresearch_gate_rerunner\u001b[0m\u001b[0;34m(\u001b[0m\u001b[0mall_faculty\u001b[0m\u001b[0;34m.\u001b[0m\u001b[0miloc\u001b[0m\u001b[0;34m[\u001b[0m\u001b[0;36m2495\u001b[0m\u001b[0;34m]\u001b[0m\u001b[0;34m,\u001b[0m \u001b[0mdriver\u001b[0m\u001b[0;34m,\u001b[0m \u001b[0;36m1\u001b[0m\u001b[0;34m)\u001b[0m\u001b[0;34m\u001b[0m\u001b[0;34m\u001b[0m\u001b[0m\n\u001b[0m\u001b[1;32m      7\u001b[0m \u001b[0;32mfinally\u001b[0m\u001b[0;34m:\u001b[0m\u001b[0;34m\u001b[0m\u001b[0;34m\u001b[0m\u001b[0m\n\u001b[1;32m      8\u001b[0m     \u001b[0;31m#print('Hello World')\u001b[0m\u001b[0;34m\u001b[0m\u001b[0;34m\u001b[0m\u001b[0;34m\u001b[0m\u001b[0m\n",
      "\u001b[0;32m<ipython-input-6-f37be1743c3e>\u001b[0m in \u001b[0;36mresearch_gate_rerunner\u001b[0;34m(record, driver, j)\u001b[0m\n\u001b[1;32m     59\u001b[0m \u001b[0;34m\u001b[0m\u001b[0m\n\u001b[1;32m     60\u001b[0m     \u001b[0;32mif\u001b[0m \u001b[0mresults\u001b[0m\u001b[0;34m:\u001b[0m\u001b[0;34m\u001b[0m\u001b[0;34m\u001b[0m\u001b[0m\n\u001b[0;32m---> 61\u001b[0;31m         \u001b[0mcitation_collector\u001b[0m\u001b[0;34m(\u001b[0m\u001b[0mrecord\u001b[0m\u001b[0;34m,\u001b[0m\u001b[0murl\u001b[0m\u001b[0;34m,\u001b[0m\u001b[0mj\u001b[0m\u001b[0;34m)\u001b[0m\u001b[0;34m\u001b[0m\u001b[0;34m\u001b[0m\u001b[0m\n\u001b[0m",
      "\u001b[0;32m<ipython-input-7-9f3d3007b969>\u001b[0m in \u001b[0;36mcitation_collector\u001b[0;34m(record, url, j)\u001b[0m\n\u001b[1;32m    136\u001b[0m \u001b[0;34m\u001b[0m\u001b[0m\n\u001b[1;32m    137\u001b[0m         \u001b[0mcitations\u001b[0m \u001b[0;34m=\u001b[0m \u001b[0mopen\u001b[0m\u001b[0;34m(\u001b[0m\u001b[0;34m\"research_gate_citations.csv\"\u001b[0m\u001b[0;34m,\u001b[0m \u001b[0;34m\"a\"\u001b[0m\u001b[0;34m)\u001b[0m\u001b[0;34m\u001b[0m\u001b[0;34m\u001b[0m\u001b[0m\n\u001b[0;32m--> 138\u001b[0;31m         \u001b[0mcitations\u001b[0m\u001b[0;34m.\u001b[0m\u001b[0mwrite\u001b[0m\u001b[0;34m(\u001b[0m\u001b[0mrecord\u001b[0m\u001b[0;34m.\u001b[0m\u001b[0mfaculty\u001b[0m\u001b[0;34m.\u001b[0m\u001b[0mstrip\u001b[0m\u001b[0;34m(\u001b[0m\u001b[0;34m)\u001b[0m \u001b[0;34m+\u001b[0m \u001b[0;34m\"|\"\u001b[0m \u001b[0;34m+\u001b[0m \u001b[0mcitation_text\u001b[0m \u001b[0;34m+\u001b[0m \u001b[0;34m\"|\"\u001b[0m \u001b[0;34m+\u001b[0m \u001b[0mtitles\u001b[0m\u001b[0;34m[\u001b[0m\u001b[0mi\u001b[0m\u001b[0;34m]\u001b[0m \u001b[0;34m+\u001b[0m \u001b[0;34m\"|\"\u001b[0m \u001b[0;34m+\u001b[0m \u001b[0mpaper_types\u001b[0m\u001b[0;34m[\u001b[0m\u001b[0mi\u001b[0m\u001b[0;34m]\u001b[0m \u001b[0;34m+\u001b[0m \u001b[0;34m\"|\"\u001b[0m\u001b[0;34m)\u001b[0m\u001b[0;34m\u001b[0m\u001b[0;34m\u001b[0m\u001b[0m\n\u001b[0m\u001b[1;32m    139\u001b[0m         \u001b[0mcitations\u001b[0m\u001b[0;34m.\u001b[0m\u001b[0mwrite\u001b[0m\u001b[0;34m(\u001b[0m\u001b[0mabstract\u001b[0m \u001b[0;34m+\u001b[0m \u001b[0;34m\"|\"\u001b[0m \u001b[0;34m+\u001b[0m \u001b[0mbook_title\u001b[0m \u001b[0;34m+\u001b[0m \u001b[0;34m\"|\"\u001b[0m \u001b[0;34m+\u001b[0m \u001b[0mjournal_title\u001b[0m \u001b[0;34m+\u001b[0m \u001b[0;34m\"|\"\u001b[0m \u001b[0;34m+\u001b[0m \u001b[0mdate\u001b[0m \u001b[0;34m+\u001b[0m \u001b[0;34m\"|\"\u001b[0m\u001b[0;34m)\u001b[0m\u001b[0;34m\u001b[0m\u001b[0;34m\u001b[0m\u001b[0m\n\u001b[1;32m    140\u001b[0m         \u001b[0mcitations\u001b[0m\u001b[0;34m.\u001b[0m\u001b[0mwrite\u001b[0m\u001b[0;34m(\u001b[0m\u001b[0mcollabs\u001b[0m \u001b[0;34m+\u001b[0m \u001b[0;34m\"|\"\u001b[0m \u001b[0;34m+\u001b[0m \u001b[0mpublisher\u001b[0m \u001b[0;34m+\u001b[0m \u001b[0;34m\"|\"\u001b[0m \u001b[0;34m+\u001b[0m \u001b[0medition\u001b[0m \u001b[0;34m+\u001b[0m \u001b[0;34m\"|\"\u001b[0m \u001b[0;34m+\u001b[0m \u001b[0mseries\u001b[0m \u001b[0;34m+\u001b[0m \u001b[0;34m\"|\"\u001b[0m\u001b[0;34m)\u001b[0m\u001b[0;34m\u001b[0m\u001b[0;34m\u001b[0m\u001b[0m\n",
      "\u001b[0;31mIndexError\u001b[0m: list index out of range"
     ]
    }
   ],
   "source": [
    "start = \"https://www.researchgate.net/search/authors?q\"\n",
    "try:\n",
    "    driver = webdriver.Chrome(options=options)\n",
    "    driver.implicitly_wait(5)\n",
    "    driver.get(start)\n",
    "    research_gate_rerunner(all_faculty.iloc[2495], driver, 1)\n",
    "finally:\n",
    "    #print('Hello World')\n",
    "    driver.close()"
   ]
  },
  {
   "cell_type": "code",
   "execution_count": null,
   "metadata": {},
   "outputs": [],
   "source": [
    "1355 Deqing Ren 118/707\n",
    "2123 Larry Allen 118/124\n",
    "2132 Peter Edmunds 57/225"
   ]
  }
 ],
 "metadata": {
  "kernelspec": {
   "display_name": "Python 3",
   "language": "python",
   "name": "python3"
  },
  "language_info": {
   "codemirror_mode": {
    "name": "ipython",
    "version": 3
   },
   "file_extension": ".py",
   "mimetype": "text/x-python",
   "name": "python",
   "nbconvert_exporter": "python",
   "pygments_lexer": "ipython3",
   "version": "3.7.3"
  }
 },
 "nbformat": 4,
 "nbformat_minor": 2
}
