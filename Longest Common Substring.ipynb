{
 "cells": [
  {
   "cell_type": "markdown",
   "metadata": {},
   "source": [
    "<h1>Implementation of LCS for fuzzy matching</h1>"
   ]
  },
  {
   "cell_type": "markdown",
   "metadata": {},
   "source": [
    "We want the match ratio and diff ratio to be close to 1\n",
    "\n",
    "match_ratio = $\\frac{LCS}{targetMatchLength}$\n",
    "\n",
    "diff_ratio = $abs\\left(\\frac{LCS-targetMatchLength}{targetMatchLength-testMatchLength}\\right)$"
   ]
  },
  {
   "cell_type": "code",
   "execution_count": 143,
   "metadata": {},
   "outputs": [],
   "source": [
    "from difflib import SequenceMatcher\n",
    "\n",
    "def LCS(actual,expected):\n",
    "    actual = actual.upper()\n",
    "    expected = expected.upper()\n",
    "    match = SequenceMatcher(None, actual, expected).find_longest_match(0, len(actual), 0, len(expected))\n",
    "    match_ratio = match.size/len(expected)\n",
    "    try:\n",
    "        diff_ratio = abs((len(expected)-match.size)/(len(actual)-len(expected)))\n",
    "    except ZeroDivisionError:\n",
    "        diff_ratio = 1\n",
    "    return match_ratio,diff_ratio\n",
    "\n",
    "def LCS_Analysis(test_name,actual_name):\n",
    "    \n",
    "    match_ratio, diff_ratio = LCS(test_name,actual_name)\n",
    "\n",
    "    print(\"Expected Length: \",len(test_name))\n",
    "    print(\"Actual Length: \",len(actual_name))\n",
    "    print(\"Match Ratio:\\t\\t%.3g\" % match_ratio)\n",
    "    print(\"Difference Ratio:\\t%.3g\" % diff_ratio)\n",
    "    "
   ]
  },
  {
   "cell_type": "code",
   "execution_count": 144,
   "metadata": {},
   "outputs": [
    {
     "name": "stdout",
     "output_type": "stream",
     "text": [
      "Expected Length:  17\n",
      "Actual Length:  18\n",
      "Match Ratio:\t\t0.944\n",
      "Difference Ratio:\t1\n"
     ]
    }
   ],
   "source": [
    "LCS_Analysis(\"Ovande Furtado JR\",\"Ovande Furtado Jr.\")"
   ]
  },
  {
   "cell_type": "code",
   "execution_count": 145,
   "metadata": {},
   "outputs": [
    {
     "name": "stdout",
     "output_type": "stream",
     "text": [
      "Expected Length:  22\n",
      "Actual Length:  15\n",
      "Match Ratio:\t\t0.533\n",
      "Difference Ratio:\t1\n"
     ]
    }
   ],
   "source": [
    "test_name = \"Hilary Silvia-Goldberg\"\n",
    "actual_name = \"Hilary Goldberg\"\n",
    "LCS_Analysis(test_name,actual_name)"
   ]
  },
  {
   "cell_type": "code",
   "execution_count": 146,
   "metadata": {},
   "outputs": [
    {
     "name": "stdout",
     "output_type": "stream",
     "text": [
      "Expected Length:  11\n",
      "Actual Length:  14\n",
      "Match Ratio:\t\t0.643\n",
      "Difference Ratio:\t1.67\n"
     ]
    }
   ],
   "source": [
    "test_name = \"J. Martinez\"\n",
    "actual_name = \"Jorge Martinez\"\n",
    "LCS_Analysis(test_name,actual_name)"
   ]
  },
  {
   "cell_type": "code",
   "execution_count": 147,
   "metadata": {},
   "outputs": [
    {
     "name": "stdout",
     "output_type": "stream",
     "text": [
      "Expected Length:  11\n",
      "Actual Length:  14\n",
      "Match Ratio:\t\t0.643\n",
      "Difference Ratio:\t1.67\n"
     ]
    }
   ],
   "source": [
    "test_name = \"J. Martinez\"\n",
    "actual_name = \"Jorge Martinez\"\n",
    "LCS_Analysis(test_name,actual_name)"
   ]
  },
  {
   "cell_type": "code",
   "execution_count": 148,
   "metadata": {},
   "outputs": [
    {
     "name": "stdout",
     "output_type": "stream",
     "text": [
      "Expected Length:  19\n",
      "Actual Length:  14\n",
      "Match Ratio:\t\t0.214\n",
      "Difference Ratio:\t2.2\n"
     ]
    }
   ],
   "source": [
    "test_name = \"Katherine Stevenson\"\n",
    "actual_name = \"Jorge Martinez\"\n",
    "LCS_Analysis(test_name,actual_name)"
   ]
  },
  {
   "cell_type": "code",
   "execution_count": 149,
   "metadata": {},
   "outputs": [
    {
     "name": "stdout",
     "output_type": "stream",
     "text": [
      "Expected Length:  14\n",
      "Actual Length:  16\n",
      "Match Ratio:\t\t0.562\n",
      "Difference Ratio:\t3.5\n"
     ]
    }
   ],
   "source": [
    "test_name = \"Jorge Martinez\"\n",
    "actual_name = \"Jorge A Martinez\"\n",
    "LCS_Analysis(test_name,actual_name)"
   ]
  },
  {
   "cell_type": "code",
   "execution_count": 150,
   "metadata": {},
   "outputs": [
    {
     "name": "stdout",
     "output_type": "stream",
     "text": [
      "Expected Length:  38\n",
      "Actual Length:  101\n",
      "Match Ratio:\t\t0.0891\n",
      "Difference Ratio:\t1.46\n"
     ]
    }
   ],
   "source": [
    "test_name = \"University ranking as social exclusion\"\n",
    "actual_name = \"International student recruitment to universities in England: Discourse, rationales and globalisation\"\n",
    "LCS_Analysis(test_name,actual_name)"
   ]
  },
  {
   "cell_type": "code",
   "execution_count": 151,
   "metadata": {},
   "outputs": [
    {
     "name": "stdout",
     "output_type": "stream",
     "text": [
      "Expected Length:  101\n",
      "Actual Length:  101\n",
      "Match Ratio:\t\t0.129\n",
      "Difference Ratio:\t1\n"
     ]
    }
   ],
   "source": [
    "test_name = \"Contesting labor internationalism: The “old” trapped in the “new” in Volkswagen’s South African plant\"\n",
    "actual_name = \"International student recruitment to universities in England: Discourse, rationales and globalisation\"\n",
    "LCS_Analysis(test_name,actual_name)"
   ]
  },
  {
   "cell_type": "code",
   "execution_count": 152,
   "metadata": {},
   "outputs": [
    {
     "name": "stdout",
     "output_type": "stream",
     "text": [
      "Expected Length:  14\n",
      "Actual Length:  14\n",
      "Match Ratio:\t\t0.143\n",
      "Difference Ratio:\t1\n"
     ]
    }
   ],
   "source": [
    "test_name = \"Jorge Martinez\"\n",
    "actual_name = \"Jazmin Ramirez\"\n",
    "LCS_Analysis(test_name,actual_name)"
   ]
  },
  {
   "cell_type": "code",
   "execution_count": 159,
   "metadata": {},
   "outputs": [],
   "source": [
    "from fuzzywuzzy import process\n",
    "import pandas as pd"
   ]
  },
  {
   "cell_type": "code",
   "execution_count": 156,
   "metadata": {},
   "outputs": [],
   "source": [
    "def get_matches(query,choices,limit=3):\n",
    "    results = process.extract(query,choices,limit=limit)\n",
    "    return results"
   ]
  },
  {
   "cell_type": "code",
   "execution_count": 165,
   "metadata": {},
   "outputs": [
    {
     "name": "stdout",
     "output_type": "stream",
     "text": [
      "['Sandor Samuels', 'Kurt Saunders', 'Hilary Silvia-Goldberg', 'Melanie Williams', 'Gregory Young', 'Jennifer Berry ', 'Shira Brown ', 'Marie Cartier ', 'Melanie Klein ', 'Kristyan Kouri ', 'Ricky Manoff ', 'Heidi Schumacher ', 'Rosa Angulo-Barroso ', 'Chris Bolsmann ', 'Sean P. Flanagan ', 'Ovande Furtado Jr. ', 'Ivan Guillory ', 'Kim Henige ', 'Jake Hinkel-Lipsker ', 'Victoria Jaque ', 'Danielle Jarvis ', 'Jacob Jensen ', 'Taeyou Jung ', 'George Kioussis ', 'Andrew Linden ', 'Steven Loy ', 'Paulo Marchetti ', 'Douglas W. McLaughlin ', 'Justin Nicoll ', 'Elizabeth Parke ', 'Sean Rogers ATC ', 'Ashley A. Samson ', 'Shane D. Stecyk ', 'Belinda Stillwell ', 'Terry Sweeting ', 'Paula S. Thomson ', 'Teri Todd ', 'K. Dino Vrongistinos ', 'William C. Whiting ', 'Benedict B. Yaspelkis III ', 'Scott Amiss ', 'Richard Andrews ', 'Carolyn Barnes ', 'Teri Berkel ', 'Esteban Campa ', 'Mary Chua ', 'James Clemmensen ', 'Claire Coudray ', 'Emily Curtis ', 'Liezel De Guzman ', 'Robert DeLaCruz ', 'Joanne Divito ', 'Jacqueline Eusanio ', 'John Farr ', 'Jay Fischer ', 'Eve Fleck ', 'Hiroyasu Fujishima ', 'Nick Galli ', 'Elizabeth Garcia ', 'Wendy Hassenpflug ', 'Allen Hope ', 'Ileana Hurtado ', 'Shabnam Islam ', 'Farzad Jalilvand Tehrani ', 'Mai Jara ', 'Jarrod Jonsrud ', 'Nvard Khachatryan ', 'Timothy Komori ', 'Christine LaMonica ', 'Jae Lim ', 'Michele Longoria ', 'Christopher Mcclain ', 'Derek Mena ', 'Dennis Mestas ', 'Victoria Nichols ', 'Matthew Parke ', 'Daniel Parsons ', 'Rebecca Pena ', 'Lino Perez ', 'Judy Pisarro-Grant ', 'Robert Plotke ', 'Michelle Rodriguez ', 'Elizabeth Rohrer ', 'Evan Rosenblatt ', 'Bethana Rosenthal ', 'Daniel Smith ', 'Susan Snyder ', 'Aaron Weinstein ', 'Sharon West-Sell ', 'Hooshang Bagheri ', 'Shane Frehlich ', 'Jennifer L. Romack ', 'Mary J. Sariscsany ', 'Ray Calnan ', 'Mark Campbell ', 'Nanci Carr ', 'Wade Chumney ', 'Allan Cooper ', 'Reid L Denham ', 'Valerie Flugge ', 'Nina Golden ', 'Viren Kapadia ', 'David Newman ', 'Christopher Ng ', 'Stuart Pardau ', 'Tarini Ramaprakash ', 'Lauren Ross ', 'Leonard Rymsza ', 'Douglas Carranza  . ', 'Karla Cativo  ', 'Beatriz Cortez  . ', 'Jocelyn Duarte  ', 'Stephanie Lemus  ', 'Susana Marcelo  ', 'Leslie Rodriguez  ', 'Freya Rojo  ', 'Lizbeth Ruiz-Torres  ', 'Celia Simonds  ', 'Jasmin Tobar  ', 'Joseph Wiltberger  . ', 'An Yountae  . ', 'Arturo Zepeda  ', 'Sandor Samuels ', 'Kurt Saunders ', 'Hilary Silvia-Goldberg ', 'Melanie Williams ', 'Gregory Young ']\n"
     ]
    }
   ],
   "source": [
    "view_content = pd.read_csv(\"view_content.csv\")\n",
    "view_content.head()\n",
    "faculty = list(view_content.faculty)\n",
    "type(faculty)\n",
    "print(faculty)"
   ]
  },
  {
   "cell_type": "code",
   "execution_count": 172,
   "metadata": {},
   "outputs": [],
   "source": [
    "matches = get_matches(\"Hilary Goldberg\",faculty)"
   ]
  },
  {
   "cell_type": "code",
   "execution_count": 175,
   "metadata": {},
   "outputs": [
    {
     "data": {
      "text/plain": [
       "[('Hilary Silvia-Goldberg', 95),\n",
       " ('Hilary Silvia-Goldberg ', 95),\n",
       " ('Nina Golden ', 62)]"
      ]
     },
     "execution_count": 175,
     "metadata": {},
     "output_type": "execute_result"
    }
   ],
   "source": [
    "matches"
   ]
  },
  {
   "cell_type": "code",
   "execution_count": 173,
   "metadata": {},
   "outputs": [
    {
     "data": {
      "text/plain": [
       "95"
      ]
     },
     "execution_count": 173,
     "metadata": {},
     "output_type": "execute_result"
    }
   ],
   "source": [
    "matches[0][1]"
   ]
  },
  {
   "cell_type": "code",
   "execution_count": 174,
   "metadata": {},
   "outputs": [
    {
     "name": "stdout",
     "output_type": "stream",
     "text": [
      "Match found\n"
     ]
    }
   ],
   "source": [
    "if matches[0][1] > 90:\n",
    "    print(\"Match found\")\n",
    "else:\n",
    "    print(\"No match\")"
   ]
  },
  {
   "cell_type": "code",
   "execution_count": null,
   "metadata": {},
   "outputs": [],
   "source": []
  }
 ],
 "metadata": {
  "kernelspec": {
   "display_name": "Python 3",
   "language": "python",
   "name": "python3"
  },
  "language_info": {
   "codemirror_mode": {
    "name": "ipython",
    "version": 3
   },
   "file_extension": ".py",
   "mimetype": "text/x-python",
   "name": "python",
   "nbconvert_exporter": "python",
   "pygments_lexer": "ipython3",
   "version": "3.7.3"
  }
 },
 "nbformat": 4,
 "nbformat_minor": 2
}
