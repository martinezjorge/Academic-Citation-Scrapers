{
 "cells": [
  {
   "cell_type": "code",
   "execution_count": 2,
   "metadata": {},
   "outputs": [],
   "source": [
    "import pandas as pd\n",
    "import numpy as np\n",
    "from selenium import webdriver\n",
    "from selenium.webdriver.common.keys import Keys\n",
    "import time"
   ]
  },
  {
   "cell_type": "markdown",
   "metadata": {},
   "source": [
    "citations = []\n",
    "with open(\"google_scholar_citations.csv\") as file:\n",
    "    citations = file.readlines()\n",
    "file.close()"
   ]
  },
  {
   "cell_type": "markdown",
   "metadata": {},
   "source": [
    "cleaned_citations = []\n",
    "for citation in citations:\n",
    "    if 'Sign in | Create an account. ' in citation:\n",
    "        cleaned_citations.append(citation.replace('Sign in | Create an account. ',''))\n",
    "    else:\n",
    "        cleaned_citations.append(citation)"
   ]
  },
  {
   "cell_type": "markdown",
   "metadata": {},
   "source": [
    "test = open(\"test.csv\",\"w\")\n",
    "for line in cleaned_citations:\n",
    "    test.write(line)\n",
    "test.close()"
   ]
  },
  {
   "cell_type": "code",
   "execution_count": 3,
   "metadata": {},
   "outputs": [],
   "source": [
    "all_faculty = pd.read_csv(\"professors_found_on_google_scholar3.csv\")"
   ]
  },
  {
   "cell_type": "code",
   "execution_count": 4,
   "metadata": {},
   "outputs": [
    {
     "data": {
      "text/html": [
       "<div>\n",
       "<style scoped>\n",
       "    .dataframe tbody tr th:only-of-type {\n",
       "        vertical-align: middle;\n",
       "    }\n",
       "\n",
       "    .dataframe tbody tr th {\n",
       "        vertical-align: top;\n",
       "    }\n",
       "\n",
       "    .dataframe thead th {\n",
       "        text-align: right;\n",
       "    }\n",
       "</style>\n",
       "<table border=\"1\" class=\"dataframe\">\n",
       "  <thead>\n",
       "    <tr style=\"text-align: right;\">\n",
       "      <th></th>\n",
       "      <th>faculty</th>\n",
       "      <th>college</th>\n",
       "      <th>department</th>\n",
       "      <th>url</th>\n",
       "    </tr>\n",
       "  </thead>\n",
       "  <tbody>\n",
       "    <tr>\n",
       "      <th>0</th>\n",
       "      <td>Kyle Dewey</td>\n",
       "      <td>Engineering &amp; Computer Science</td>\n",
       "      <td>Department of Computer Science</td>\n",
       "      <td>https://www.csun.edu/engineering-computer-sci...</td>\n",
       "    </tr>\n",
       "    <tr>\n",
       "      <th>1</th>\n",
       "      <td>Steven Fitzgerald</td>\n",
       "      <td>Engineering &amp; Computer Science</td>\n",
       "      <td>Department of Computer Science</td>\n",
       "      <td>https://www.csun.edu/engineering-computer-sci...</td>\n",
       "    </tr>\n",
       "    <tr>\n",
       "      <th>2</th>\n",
       "      <td>Ani Nahapetian</td>\n",
       "      <td>Engineering &amp; Computer Science</td>\n",
       "      <td>Department of Computer Science</td>\n",
       "      <td>https://www.csun.edu/engineering-computer-sci...</td>\n",
       "    </tr>\n",
       "    <tr>\n",
       "      <th>3</th>\n",
       "      <td>Peter L Bishay</td>\n",
       "      <td>Engineering &amp; Computer Science</td>\n",
       "      <td>Department of Mechanical Engineering</td>\n",
       "      <td>https://www.csun.edu/engineering-computer-sci...</td>\n",
       "    </tr>\n",
       "    <tr>\n",
       "      <th>4</th>\n",
       "      <td>Hamid Johari</td>\n",
       "      <td>Engineering &amp; Computer Science</td>\n",
       "      <td>Department of Mechanical Engineering</td>\n",
       "      <td>https://www.csun.edu/engineering-computer-sci...</td>\n",
       "    </tr>\n",
       "  </tbody>\n",
       "</table>\n",
       "</div>"
      ],
      "text/plain": [
       "             faculty                          college  \\\n",
       "0         Kyle Dewey   Engineering & Computer Science   \n",
       "1  Steven Fitzgerald   Engineering & Computer Science   \n",
       "2     Ani Nahapetian   Engineering & Computer Science   \n",
       "3     Peter L Bishay   Engineering & Computer Science   \n",
       "4       Hamid Johari   Engineering & Computer Science   \n",
       "\n",
       "                              department  \\\n",
       "0         Department of Computer Science   \n",
       "1         Department of Computer Science   \n",
       "2         Department of Computer Science   \n",
       "3   Department of Mechanical Engineering   \n",
       "4   Department of Mechanical Engineering   \n",
       "\n",
       "                                                 url  \n",
       "0   https://www.csun.edu/engineering-computer-sci...  \n",
       "1   https://www.csun.edu/engineering-computer-sci...  \n",
       "2   https://www.csun.edu/engineering-computer-sci...  \n",
       "3   https://www.csun.edu/engineering-computer-sci...  \n",
       "4   https://www.csun.edu/engineering-computer-sci...  "
      ]
     },
     "execution_count": 4,
     "metadata": {},
     "output_type": "execute_result"
    }
   ],
   "source": [
    "all_faculty.head()"
   ]
  },
  {
   "cell_type": "code",
   "execution_count": 5,
   "metadata": {},
   "outputs": [],
   "source": [
    "def google_scholar_interests_scraper(record,driver):\n",
    "    \n",
    "    bio = \"\"\n",
    "    dept = \"\"\n",
    "    personal = \"\"\n",
    "    academic = \"\"\n",
    "    research = \"\"\n",
    "    orcid = \"\"\n",
    "    scopus = \"\" \n",
    "    \n",
    "    # Set driver to go to start_page and search a given name with valid scholar profile    \n",
    "    google_scholar = \"https://scholar.google.com/citations?hl=en&view_op=search_authors&mauthors=&btnG=\"\n",
    "    driver.get(google_scholar)\n",
    "\n",
    "    time.sleep(3)\n",
    "    \n",
    "    search_bar = driver.find_element_by_class_name('gs_in_txt')\n",
    "    search_bar.clear()\n",
    "    search_bar.send_keys(\"\\\"\" + record.faculty.strip() + \"\\\"\" + \" CSUN\")\n",
    "    search_bar.send_keys(Keys.ENTER)\n",
    "    \n",
    "    \n",
    "    # here i would need to grab the interests\n",
    "    research_interests = driver.find_elements_by_xpath('//*[@id=\"gsc_sa_ccl\"]//div[@class=\"gs_ai_int\"]/a')\n",
    "    \n",
    "    for thing in research_interests:\n",
    "        research += thing.text + \" \"\n",
    "    \n",
    "\n",
    "    profile = open(\"google_scholar_profiles.csv\", \"a\")\n",
    "    profile.write(record.faculty.strip() + \"|\" + record.college + \"|\")\n",
    "    profile.write(record.department + \"|\" + bio + \"|\" + personal + \"|\")\n",
    "    profile.write(academic + \"|\" + research + \"|\")\n",
    "    profile.write(orcid + \"|\" + scopus + \"\\n\")\n",
    "    profile.close()\n",
    "        \n",
    "        "
   ]
  },
  {
   "cell_type": "code",
   "execution_count": 314,
   "metadata": {},
   "outputs": [
    {
     "data": {
      "text/plain": [
       "faculty                                         Robert Espinoza\n",
       "college                                        Science and Math\n",
       "department                                Department of Biology\n",
       "url            https://www.csun.edu/science-mathematics/biol...\n",
       "Name: 70, dtype: object"
      ]
     },
     "execution_count": 314,
     "metadata": {},
     "output_type": "execute_result"
    }
   ],
   "source": [
    "all_faculty.iloc[71]"
   ]
  },
  {
   "cell_type": "code",
   "execution_count": 6,
   "metadata": {},
   "outputs": [],
   "source": [
    "try:\n",
    "    driver = webdriver.Chrome()\n",
    "    for i in range(all_faculty.shape[0]):\n",
    "        google_scholar_interests_scraper(all_faculty.iloc[i],driver)\n",
    "finally:\n",
    "    driver.close()"
   ]
  },
  {
   "cell_type": "code",
   "execution_count": null,
   "metadata": {},
   "outputs": [],
   "source": []
  },
  {
   "cell_type": "code",
   "execution_count": null,
   "metadata": {},
   "outputs": [],
   "source": []
  },
  {
   "cell_type": "code",
   "execution_count": null,
   "metadata": {},
   "outputs": [],
   "source": []
  }
 ],
 "metadata": {
  "kernelspec": {
   "display_name": "Python 3",
   "language": "python",
   "name": "python3"
  },
  "language_info": {
   "codemirror_mode": {
    "name": "ipython",
    "version": 3
   },
   "file_extension": ".py",
   "mimetype": "text/x-python",
   "name": "python",
   "nbconvert_exporter": "python",
   "pygments_lexer": "ipython3",
   "version": "3.7.3"
  }
 },
 "nbformat": 4,
 "nbformat_minor": 2
}
