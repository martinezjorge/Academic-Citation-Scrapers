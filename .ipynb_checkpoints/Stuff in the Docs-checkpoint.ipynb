{
 "cells": [
  {
   "cell_type": "code",
   "execution_count": 5,
   "metadata": {},
   "outputs": [],
   "source": [
    "from selenium import webdriver\n",
    "import pandas as pd\n",
    "import matplotlib.pyplot as plt"
   ]
  },
  {
   "cell_type": "markdown",
   "metadata": {},
   "source": [
    "Getting Cookies from a Page"
   ]
  },
  {
   "cell_type": "code",
   "execution_count": 9,
   "metadata": {},
   "outputs": [
    {
     "name": "stdout",
     "output_type": "stream",
     "text": [
      "{'domain': '.facebook.com', 'expiry': 1563952647.628756, 'httpOnly': True, 'name': 'fr', 'path': '/', 'secure': True, 'value': '1RkH6NP0FsmPY4jOW..BcwV8H.f4.AAA.0.0.BcwV8H.AWXde6lq'}\n",
      "{'domain': '.facebook.com', 'expiry': 1619248647.628788, 'httpOnly': True, 'name': 'sb', 'path': '/', 'secure': True, 'value': 'B1_BXECRj62Oy5Ao9QJCtYlc'}\n",
      "{'domain': '.facebook.com', 'expiry': 1556781449, 'httpOnly': False, 'name': 'wd', 'path': '/', 'secure': True, 'value': '1038x633'}\n",
      "{'domain': '.facebook.com', 'expiry': 1619248649.434671, 'httpOnly': True, 'name': 'datr', 'path': '/', 'secure': True, 'value': 'B1_BXLSNcthW11LL1Xa1BfGS'}\n"
     ]
    }
   ],
   "source": [
    "driver = webdriver.Chrome()\n",
    "driver.get(\"https://www.facebook.com/\")\n",
    "cookies = driver.get_cookies()\n",
    "\n",
    "# adds a cookie to the current URL; valid for the entire domain\n",
    "cookie = {‘name’ : ‘foo’, ‘value’ : ‘bar’}\n",
    "driver.add_cookie(cookie)\n",
    "\n",
    "\n",
    "# And now output all the available cookies for the current URL\n",
    "\n",
    "for cookie in cookies:\n",
    "    print(cookie)\n",
    "\n",
    "\n",
    "driver.close()"
   ]
  },
  {
   "cell_type": "code",
   "execution_count": 11,
   "metadata": {},
   "outputs": [
    {
     "name": "stdout",
     "output_type": "stream",
     "text": [
      "[5, 2, 3]\n"
     ]
    }
   ],
   "source": [
    "i = [1,2,3]   # create the list instance, and bind it to i\n",
    "j = i         # bind j to the same list as i\n",
    "i[0] = 5      # change the first item of i\n",
    "print(j)      # j is still bound to the same list as i"
   ]
  },
  {
   "cell_type": "code",
   "execution_count": null,
   "metadata": {},
   "outputs": [],
   "source": []
  }
 ],
 "metadata": {
  "kernelspec": {
   "display_name": "Python 3",
   "language": "python",
   "name": "python3"
  },
  "language_info": {
   "codemirror_mode": {
    "name": "ipython",
    "version": 3
   },
   "file_extension": ".py",
   "mimetype": "text/x-python",
   "name": "python",
   "nbconvert_exporter": "python",
   "pygments_lexer": "ipython3",
   "version": "3.7.1"
  }
 },
 "nbformat": 4,
 "nbformat_minor": 2
}
