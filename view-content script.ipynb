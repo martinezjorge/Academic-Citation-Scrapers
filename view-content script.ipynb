{
 "cells": [
  {
   "cell_type": "code",
   "execution_count": 2,
   "metadata": {},
   "outputs": [],
   "source": [
    "import pandas as pd\n",
    "from selenium import webdriver\n",
    "from selenium.webdriver.common.by import By\n",
    "from bs4 import BeautifulSoup as soup"
   ]
  },
  {
   "cell_type": "code",
   "execution_count": 3,
   "metadata": {
    "scrolled": true
   },
   "outputs": [],
   "source": [
    "college_data = pd.read_csv(\"department_urls.csv\")"
   ]
  },
  {
   "cell_type": "code",
   "execution_count": 4,
   "metadata": {},
   "outputs": [
    {
     "data": {
      "text/html": [
       "<div>\n",
       "<style scoped>\n",
       "    .dataframe tbody tr th:only-of-type {\n",
       "        vertical-align: middle;\n",
       "    }\n",
       "\n",
       "    .dataframe tbody tr th {\n",
       "        vertical-align: top;\n",
       "    }\n",
       "\n",
       "    .dataframe thead th {\n",
       "        text-align: right;\n",
       "    }\n",
       "</style>\n",
       "<table border=\"1\" class=\"dataframe\">\n",
       "  <thead>\n",
       "    <tr style=\"text-align: right;\">\n",
       "      <th></th>\n",
       "      <th>variable_name</th>\n",
       "      <th>College</th>\n",
       "      <th>classes</th>\n",
       "      <th>id</th>\n",
       "      <th>url</th>\n",
       "    </tr>\n",
       "  </thead>\n",
       "  <tbody>\n",
       "    <tr>\n",
       "      <th>115</th>\n",
       "      <td>kines</td>\n",
       "      <td>Health &amp; Human Development</td>\n",
       "      <td>view-content</td>\n",
       "      <td>NaN</td>\n",
       "      <td>https://www.csun.edu/health-human-development/...</td>\n",
       "    </tr>\n",
       "    <tr>\n",
       "      <th>116</th>\n",
       "      <td>kines_lect</td>\n",
       "      <td>Health &amp; Human Development</td>\n",
       "      <td>view-content</td>\n",
       "      <td>NaN</td>\n",
       "      <td>https://www.csun.edu/health-human-development/...</td>\n",
       "    </tr>\n",
       "    <tr>\n",
       "      <th>117</th>\n",
       "      <td>kines_staff</td>\n",
       "      <td>Health &amp; Human Development</td>\n",
       "      <td>view-content</td>\n",
       "      <td>NaN</td>\n",
       "      <td>https://www.csun.edu/health-human-development/...</td>\n",
       "    </tr>\n",
       "    <tr>\n",
       "      <th>118</th>\n",
       "      <td>kines_em</td>\n",
       "      <td>Health &amp; Human Development</td>\n",
       "      <td>view-content</td>\n",
       "      <td>NaN</td>\n",
       "      <td>https://www.csun.edu/health-human-development/...</td>\n",
       "    </tr>\n",
       "    <tr>\n",
       "      <th>119</th>\n",
       "      <td>blaw</td>\n",
       "      <td>College of Business and Economics</td>\n",
       "      <td>view-content</td>\n",
       "      <td>NaN</td>\n",
       "      <td>https://www.csun.edu/blaw/faculty-directory</td>\n",
       "    </tr>\n",
       "    <tr>\n",
       "      <th>120</th>\n",
       "      <td>blaw2</td>\n",
       "      <td>College of Business and Economics</td>\n",
       "      <td>view-content</td>\n",
       "      <td>NaN</td>\n",
       "      <td>https://www.csun.edu/blaw/faculty-directory?fi...</td>\n",
       "    </tr>\n",
       "    <tr>\n",
       "      <th>121</th>\n",
       "      <td>blaw3</td>\n",
       "      <td>College of Business and Economics</td>\n",
       "      <td>view-content</td>\n",
       "      <td>NaN</td>\n",
       "      <td>https://www.csun.edu/blaw/faculty-directory?fi...</td>\n",
       "    </tr>\n",
       "    <tr>\n",
       "      <th>122</th>\n",
       "      <td>central_american_faculty</td>\n",
       "      <td>College of Humanities</td>\n",
       "      <td>view-content</td>\n",
       "      <td>NaN</td>\n",
       "      <td>https://www.csun.edu/humanities/central-americ...</td>\n",
       "    </tr>\n",
       "    <tr>\n",
       "      <th>123</th>\n",
       "      <td>blaw4</td>\n",
       "      <td>College of Business and Economics</td>\n",
       "      <td>view-content</td>\n",
       "      <td>NaN</td>\n",
       "      <td>https://www.csun.edu/blaw/faculty-directory?fi...</td>\n",
       "    </tr>\n",
       "  </tbody>\n",
       "</table>\n",
       "</div>"
      ],
      "text/plain": [
       "                variable_name                            College  \\\n",
       "115                     kines         Health & Human Development   \n",
       "116                kines_lect         Health & Human Development   \n",
       "117               kines_staff         Health & Human Development   \n",
       "118                  kines_em         Health & Human Development   \n",
       "119                      blaw  College of Business and Economics   \n",
       "120                     blaw2  College of Business and Economics   \n",
       "121                     blaw3  College of Business and Economics   \n",
       "122  central_american_faculty              College of Humanities   \n",
       "123                     blaw4  College of Business and Economics   \n",
       "\n",
       "          classes   id                                                url  \n",
       "115  view-content  NaN  https://www.csun.edu/health-human-development/...  \n",
       "116  view-content  NaN  https://www.csun.edu/health-human-development/...  \n",
       "117  view-content  NaN  https://www.csun.edu/health-human-development/...  \n",
       "118  view-content  NaN  https://www.csun.edu/health-human-development/...  \n",
       "119  view-content  NaN        https://www.csun.edu/blaw/faculty-directory  \n",
       "120  view-content  NaN  https://www.csun.edu/blaw/faculty-directory?fi...  \n",
       "121  view-content  NaN  https://www.csun.edu/blaw/faculty-directory?fi...  \n",
       "122  view-content  NaN  https://www.csun.edu/humanities/central-americ...  \n",
       "123  view-content  NaN  https://www.csun.edu/blaw/faculty-directory?fi...  "
      ]
     },
     "execution_count": 4,
     "metadata": {},
     "output_type": "execute_result"
    }
   ],
   "source": [
    "view_content = college_data[college_data.classes == 'view-content']\n",
    "view_content"
   ]
  },
  {
   "cell_type": "code",
   "execution_count": 5,
   "metadata": {},
   "outputs": [],
   "source": [
    "urls = view_content.url.tolist()"
   ]
  },
  {
   "cell_type": "code",
   "execution_count": 6,
   "metadata": {
    "scrolled": true
   },
   "outputs": [
    {
     "name": "stdout",
     "output_type": "stream",
     "text": [
      "0 : https://www.csun.edu/health-human-development/kinesiology/faculty-type/Full%20Time\n",
      "1 : https://www.csun.edu/health-human-development/kinesiology/faculty-type/Lecturer\n",
      "2 : https://www.csun.edu/health-human-development/kinesiology/faculty-type/Staff\n",
      "3 : https://www.csun.edu/health-human-development/kinesiology/faculty-type/Emeritus\n",
      "4 : https://www.csun.edu/blaw/faculty-directory\n",
      "5 : https://www.csun.edu/blaw/faculty-directory?field_person_type_value%5Bfaculty%5D=faculty&field_person_type_value%5Bstaff%5D=staff&page=1\n",
      "6 : https://www.csun.edu/blaw/faculty-directory?field_person_type_value%5Bfaculty%5D=faculty&field_person_type_value%5Bstaff%5D=staff&page=2\n",
      "7 : https://www.csun.edu/humanities/central-american-studies/faculty-type-photo\n",
      "8 : https://www.csun.edu/blaw/faculty-directory?field_person_type_value%5Bfaculty%5D=faculty&field_person_type_value%5Bstaff%5D=staff&page=3\n"
     ]
    }
   ],
   "source": [
    "counter = 0\n",
    "for url in urls:\n",
    "    print(counter,\":\",url)\n",
    "    counter += 1"
   ]
  },
  {
   "cell_type": "code",
   "execution_count": 38,
   "metadata": {},
   "outputs": [],
   "source": [
    "def view_content_name_scrape(url):\n",
    "    \n",
    "    #Declare the driver \n",
    "    driver = webdriver.Chrome()\n",
    "    driver.get(url)\n",
    "    \n",
    "    view_content_element = driver.find_element_by_class_name(\"view-content\")\n",
    "    #print(view_content_element)\n",
    "\n",
    "    #Case for names stored within span tags\n",
    "    if view_content_element.find_elements_by_css_selector('span'):\n",
    "        \n",
    "        #Locate first name and last name by absolute path\n",
    "        first_names_html = view_content_element.find_elements_by_xpath(\"//article/span[1]\")\n",
    "        last_names_html = view_content_element.find_elements_by_xpath(\"//article/span[2]\")\n",
    "        #Declare a list of first names and last names\n",
    "        first_names = [name.text for name in first_names_html]\n",
    "        last_names = [name.text for name in last_names_html]\n",
    "        \n",
    "        names = []\n",
    "        for fname,lname in zip(first_names, last_names):\n",
    "            names.append([fname,lname])\n",
    "            \n",
    "        \n",
    "    else:\n",
    "        print('Not Found')\n",
    "        \n",
    "    #Close the driver\n",
    "    driver.close()\n",
    "    return names"
   ]
  },
  {
   "cell_type": "code",
   "execution_count": 36,
   "metadata": {},
   "outputs": [
    {
     "name": "stdout",
     "output_type": "stream",
     "text": [
      "['Rosa', 'Chris', 'Sean P.', 'Ovande', 'Ivan', 'Kim', 'Jake', 'Victoria', 'Danielle', 'Jacob', 'Taeyou', 'George', 'Andrew', 'Steven', 'Paulo', 'Douglas W.', 'Justin', 'Elizabeth', 'Sean', 'Ashley A.', 'Shane D.', 'Belinda', 'Terry', 'Paula S.', 'Teri', 'K. Dino', 'William C.', 'Benedict B.']\n",
      "[['Rosa', 'Angulo-Barroso'], ['Chris', 'Bolsmann'], ['Sean P.', 'Flanagan'], ['Ovande', 'Furtado, Jr.'], ['Ivan', 'Guillory'], ['Kim', 'Henige'], ['Jake', 'Hinkel-Lipsker'], ['Victoria', 'Jaque'], ['Danielle', 'Jarvis'], ['Jacob', 'Jensen'], ['Taeyou', 'Jung, ATC, CAPE'], ['George', 'Kioussis'], ['Andrew', 'Linden'], ['Steven', 'Loy'], ['Paulo', 'Marchetti'], ['Douglas W.', 'McLaughlin'], ['Justin', 'Nicoll'], ['Elizabeth', 'Parke'], ['Sean', 'Rogers, DAT, ATC'], ['Ashley A.', 'Samson'], ['Shane D.', 'Stecyk'], ['Belinda', 'Stillwell'], ['Terry', 'Sweeting'], ['Paula S.', 'Thomson'], ['Teri', 'Todd'], ['K. Dino', 'Vrongistinos'], ['William C.', 'Whiting'], ['Benedict B.', 'Yaspelkis III']]\n"
     ]
    },
    {
     "data": {
      "text/plain": [
       "[['Rosa', 'Angulo-Barroso'],\n",
       " ['Chris', 'Bolsmann'],\n",
       " ['Sean P.', 'Flanagan'],\n",
       " ['Ovande', 'Furtado, Jr.'],\n",
       " ['Ivan', 'Guillory'],\n",
       " ['Kim', 'Henige'],\n",
       " ['Jake', 'Hinkel-Lipsker'],\n",
       " ['Victoria', 'Jaque'],\n",
       " ['Danielle', 'Jarvis'],\n",
       " ['Jacob', 'Jensen'],\n",
       " ['Taeyou', 'Jung, ATC, CAPE'],\n",
       " ['George', 'Kioussis'],\n",
       " ['Andrew', 'Linden'],\n",
       " ['Steven', 'Loy'],\n",
       " ['Paulo', 'Marchetti'],\n",
       " ['Douglas W.', 'McLaughlin'],\n",
       " ['Justin', 'Nicoll'],\n",
       " ['Elizabeth', 'Parke'],\n",
       " ['Sean', 'Rogers, DAT, ATC'],\n",
       " ['Ashley A.', 'Samson'],\n",
       " ['Shane D.', 'Stecyk'],\n",
       " ['Belinda', 'Stillwell'],\n",
       " ['Terry', 'Sweeting'],\n",
       " ['Paula S.', 'Thomson'],\n",
       " ['Teri', 'Todd'],\n",
       " ['K. Dino', 'Vrongistinos'],\n",
       " ['William C.', 'Whiting'],\n",
       " ['Benedict B.', 'Yaspelkis III']]"
      ]
     },
     "execution_count": 36,
     "metadata": {},
     "output_type": "execute_result"
    }
   ],
   "source": [
    "# Sample test case:\n",
    "view_content_name_scrape(urls[0])"
   ]
  },
  {
   "cell_type": "code",
   "execution_count": 40,
   "metadata": {
    "scrolled": true
   },
   "outputs": [
    {
     "name": "stdout",
     "output_type": "stream",
     "text": [
      "URL  0\n",
      "URL  1\n",
      "URL  2\n",
      "URL  3\n",
      "URL  4\n",
      "URL  5\n",
      "URL  6\n",
      "URL  7\n",
      "URL  8\n",
      "[[['Rosa', 'Angulo-Barroso'], ['Chris', 'Bolsmann'], ['Sean P.', 'Flanagan'], ['Ovande', 'Furtado, Jr.'], ['Ivan', 'Guillory'], ['Kim', 'Henige'], ['Jake', 'Hinkel-Lipsker'], ['Victoria', 'Jaque'], ['Danielle', 'Jarvis'], ['Jacob', 'Jensen'], ['Taeyou', 'Jung, ATC, CAPE'], ['George', 'Kioussis'], ['Andrew', 'Linden'], ['Steven', 'Loy'], ['Paulo', 'Marchetti'], ['Douglas W.', 'McLaughlin'], ['Justin', 'Nicoll'], ['Elizabeth', 'Parke'], ['Sean', 'Rogers, DAT, ATC'], ['Ashley A.', 'Samson'], ['Shane D.', 'Stecyk'], ['Belinda', 'Stillwell'], ['Terry', 'Sweeting'], ['Paula S.', 'Thomson'], ['Teri', 'Todd'], ['K. Dino', 'Vrongistinos'], ['William C.', 'Whiting'], ['Benedict B.', 'Yaspelkis III']], [['Scott', 'Amiss'], ['Richard', 'Andrews'], ['Carolyn', 'Barnes'], ['Teri', 'Berkel'], ['Esteban', 'Campa'], ['Mary', 'Chua'], ['James', 'Clemmensen'], ['Claire', 'Coudray'], ['Emily', 'Curtis'], ['Liezel', 'De Guzman'], ['Robert', 'DeLaCruz'], ['Joanne', 'Divito'], ['Jacqueline', 'Eusanio'], ['John', 'Farr'], ['Jay', 'Fischer'], ['Eve', 'Fleck'], ['Hiroyasu', 'Fujishima'], ['Nick', 'Galli'], ['Elizabeth', 'Garcia'], ['Wendy', 'Hassenpflug'], ['Allen', 'Hope'], ['Ileana', 'Hurtado'], ['Shabnam', 'Islam'], ['Farzad', 'Jalilvand Tehrani'], ['Mai', 'Jara'], ['Jarrod', 'Jonsrud'], ['Nvard', 'Khachatryan'], ['Timothy', 'Komori'], ['Christine', 'LaMonica'], ['Jae', 'Lim'], ['Michele', 'Longoria'], ['Christopher', 'Mcclain'], ['Derek', 'Mena'], ['Dennis', 'Mestas'], ['Victoria', 'Nichols'], ['Matthew', 'Parke'], ['Daniel', 'Parsons'], ['Rebecca', 'Pena'], ['Lino', 'Perez'], ['Judy', 'Pisarro-Grant'], ['Robert', 'Plotke'], ['Michelle', 'Rodriguez'], ['Elizabeth', 'Rohrer'], ['Evan', 'Rosenblatt'], ['Bethana', 'Rosenthal'], ['Daniel', 'Smith'], ['Susan', 'Snyder'], ['Aaron', 'Weinstein'], ['Sharon', 'West-Sell']], [['Sangita', 'Dube'], ['Concha D.', 'Madrid-Silva'], ['Blanca', 'Maldonado'], ['Marc', 'Netter'], ['Steven', 'Paredes'], ['Marina', 'Sanchez']], [['Hooshang', 'Bagheri'], ['Shane', 'Frehlich'], ['Jennifer L.', 'Romack'], ['Mary J.', 'Sariscsany']], [['Ray', 'Calnan'], ['Mark', 'Campbell'], ['Nanci', 'Carr'], ['Wade', 'Chumney'], ['Allan', 'Cooper']], [['Reid L', 'Denham'], ['Valerie', 'Flugge'], ['Nina', 'Golden'], ['Viren', 'Kapadia'], ['David', 'Newman']], [['Christopher', 'Ng'], ['Stuart', 'Pardau'], ['Tarini', 'Ramaprakash'], ['Lauren', 'Ross'], ['Leonard', 'Rymsza']], [['Douglas', 'Carranza, Ph.D.'], ['Karla', 'Cativo, M.A.'], ['Beatriz', 'Cortez, Ph.D.'], ['Jocelyn', 'Duarte, M.A.'], ['Stephanie', 'Lemus, M.A.'], ['Susana', 'Marcelo, M.A.'], ['Leslie', 'Rodriguez, M.A.'], ['Freya', 'Rojo, M.A.'], ['Lizbeth', 'Ruiz-Torres, M.A.'], ['Celia', 'Simonds, M.A.'], ['Jasmin', 'Tobar, MSW'], ['Joseph', 'Wiltberger, Ph.D.'], ['An', 'Yountae, Ph.D.'], ['Arturo', 'Zepeda, M.A.']], [['Sandor', 'Samuels'], ['Kurt', 'Saunders'], ['Hilary', 'Silvia-Goldberg'], ['Melanie', 'Williams'], ['Gregory', 'Young']]]\n"
     ]
    }
   ],
   "source": [
    "counter = 0\n",
    "all_names = []\n",
    "for url in urls:\n",
    "    print(\"URL \", counter)\n",
    "    temp = view_content_name_scrape(url)\n",
    "    all_names.append(temp)\n",
    "    counter += 1\n",
    "print(all_names)"
   ]
  },
  {
   "cell_type": "code",
   "execution_count": 42,
   "metadata": {},
   "outputs": [
    {
     "data": {
      "text/plain": [
       "[['Rosa', 'Angulo-Barroso'],\n",
       " ['Chris', 'Bolsmann'],\n",
       " ['Sean P.', 'Flanagan'],\n",
       " ['Ovande', 'Furtado, Jr.'],\n",
       " ['Ivan', 'Guillory'],\n",
       " ['Kim', 'Henige'],\n",
       " ['Jake', 'Hinkel-Lipsker'],\n",
       " ['Victoria', 'Jaque'],\n",
       " ['Danielle', 'Jarvis'],\n",
       " ['Jacob', 'Jensen'],\n",
       " ['Taeyou', 'Jung, ATC, CAPE'],\n",
       " ['George', 'Kioussis'],\n",
       " ['Andrew', 'Linden'],\n",
       " ['Steven', 'Loy'],\n",
       " ['Paulo', 'Marchetti'],\n",
       " ['Douglas W.', 'McLaughlin'],\n",
       " ['Justin', 'Nicoll'],\n",
       " ['Elizabeth', 'Parke'],\n",
       " ['Sean', 'Rogers, DAT, ATC'],\n",
       " ['Ashley A.', 'Samson'],\n",
       " ['Shane D.', 'Stecyk'],\n",
       " ['Belinda', 'Stillwell'],\n",
       " ['Terry', 'Sweeting'],\n",
       " ['Paula S.', 'Thomson'],\n",
       " ['Teri', 'Todd'],\n",
       " ['K. Dino', 'Vrongistinos'],\n",
       " ['William C.', 'Whiting'],\n",
       " ['Benedict B.', 'Yaspelkis III']]"
      ]
     },
     "execution_count": 42,
     "metadata": {},
     "output_type": "execute_result"
    }
   ],
   "source": [
    "all_names[0]"
   ]
  },
  {
   "cell_type": "code",
   "execution_count": 84,
   "metadata": {},
   "outputs": [
    {
     "name": "stdout",
     "output_type": "stream",
     "text": [
      "['Rosa', 'Angulo-Barroso', 'Chris', 'Bolsmann', 'Sean P.', 'Flanagan', 'Ovande', 'Furtado Jr.', 'Ivan', 'Guillory', 'Kim', 'Henige', 'Jake', 'Hinkel-Lipsker', 'Victoria', 'Jaque', 'Danielle', 'Jarvis', 'Jacob', 'Jensen', 'Taeyou', 'Jung', 'George', 'Kioussis', 'Andrew', 'Linden', 'Steven', 'Loy', 'Paulo', 'Marchetti', 'Douglas W.', 'McLaughlin', 'Justin', 'Nicoll', 'Elizabeth', 'Parke', 'Sean', 'Rogers ATC', 'Ashley A.', 'Samson', 'Shane D.', 'Stecyk', 'Belinda', 'Stillwell', 'Terry', 'Sweeting', 'Paula S.', 'Thomson', 'Teri', 'Todd', 'K. Dino', 'Vrongistinos', 'William C.', 'Whiting', 'Benedict B.', 'Yaspelkis III', 'Scott', 'Amiss', 'Richard', 'Andrews', 'Carolyn', 'Barnes', 'Teri', 'Berkel', 'Esteban', 'Campa', 'Mary', 'Chua', 'James', 'Clemmensen', 'Claire', 'Coudray', 'Emily', 'Curtis', 'Liezel', 'De Guzman', 'Robert', 'DeLaCruz', 'Joanne', 'Divito', 'Jacqueline', 'Eusanio', 'John', 'Farr', 'Jay', 'Fischer', 'Eve', 'Fleck', 'Hiroyasu', 'Fujishima', 'Nick', 'Galli', 'Elizabeth', 'Garcia', 'Wendy', 'Hassenpflug', 'Allen', 'Hope', 'Ileana', 'Hurtado', 'Shabnam', 'Islam', 'Farzad', 'Jalilvand Tehrani', 'Mai', 'Jara', 'Jarrod', 'Jonsrud', 'Nvard', 'Khachatryan', 'Timothy', 'Komori', 'Christine', 'LaMonica', 'Jae', 'Lim', 'Michele', 'Longoria', 'Christopher', 'Mcclain', 'Derek', 'Mena', 'Dennis', 'Mestas', 'Victoria', 'Nichols', 'Matthew', 'Parke', 'Daniel', 'Parsons', 'Rebecca', 'Pena', 'Lino', 'Perez', 'Judy', 'Pisarro-Grant', 'Robert', 'Plotke', 'Michelle', 'Rodriguez', 'Elizabeth', 'Rohrer', 'Evan', 'Rosenblatt', 'Bethana', 'Rosenthal', 'Daniel', 'Smith', 'Susan', 'Snyder', 'Aaron', 'Weinstein', 'Sharon', 'West-Sell', 'Sangita', 'Dube', 'Concha D.', 'Madrid-Silva', 'Blanca', 'Maldonado', 'Marc', 'Netter', 'Steven', 'Paredes', 'Marina', 'Sanchez', 'Hooshang', 'Bagheri', 'Shane', 'Frehlich', 'Jennifer L.', 'Romack', 'Mary J.', 'Sariscsany', 'Ray', 'Calnan', 'Mark', 'Campbell', 'Nanci', 'Carr', 'Wade', 'Chumney', 'Allan', 'Cooper', 'Reid L', 'Denham', 'Valerie', 'Flugge', 'Nina', 'Golden', 'Viren', 'Kapadia', 'David', 'Newman', 'Christopher', 'Ng', 'Stuart', 'Pardau', 'Tarini', 'Ramaprakash', 'Lauren', 'Ross', 'Leonard', 'Rymsza', 'Douglas', 'Carranza  .', 'Karla', 'Cativo ', 'Beatriz', 'Cortez  .', 'Jocelyn', 'Duarte ', 'Stephanie', 'Lemus ', 'Susana', 'Marcelo ', 'Leslie', 'Rodriguez ', 'Freya', 'Rojo ', 'Lizbeth', 'Ruiz-Torres ', 'Celia', 'Simonds ', 'Jasmin', 'Tobar ', 'Joseph', 'Wiltberger  .', 'An', 'Yountae  .', 'Arturo', 'Zepeda ', 'Sandor', 'Samuels', 'Kurt', 'Saunders', 'Hilary', 'Silvia-Goldberg', 'Melanie', 'Williams', 'Gregory', 'Young']\n"
     ]
    }
   ],
   "source": [
    "new_list = []\n",
    "for name_list in all_names:\n",
    "    for names in name_list:\n",
    "        for name in names:\n",
    "            new_list.append(name.replace(\"Ph.D\", \" \").replace(\",\", \"\").replace(\"CAPE\", \"\").replace(\"M.A.\", \"\").replace(\" DAT\", \"\").replace(\"MSW\", \"\").replace(\" ATC \", \"\"))\n",
    "    \n",
    "print(new_list)\n",
    "\n"
   ]
  },
  {
   "cell_type": "code",
   "execution_count": 81,
   "metadata": {},
   "outputs": [
    {
     "data": {
      "text/plain": [
       "['Rosa Angulo-Barroso',\n",
       " 'Chris Bolsmann',\n",
       " 'Sean P. Flanagan',\n",
       " 'Ovande Furtado Jr.',\n",
       " 'Ivan Guillory',\n",
       " 'Kim Henige',\n",
       " 'Jake Hinkel-Lipsker',\n",
       " 'Victoria Jaque',\n",
       " 'Danielle Jarvis',\n",
       " 'Jacob Jensen',\n",
       " 'Taeyou Jung ATC ',\n",
       " 'George Kioussis',\n",
       " 'Andrew Linden',\n",
       " 'Steven Loy',\n",
       " 'Paulo Marchetti',\n",
       " 'Douglas W. McLaughlin',\n",
       " 'Justin Nicoll',\n",
       " 'Elizabeth Parke',\n",
       " 'Sean Rogers DAT ATC',\n",
       " 'Ashley A. Samson',\n",
       " 'Shane D. Stecyk',\n",
       " 'Belinda Stillwell',\n",
       " 'Terry Sweeting',\n",
       " 'Paula S. Thomson',\n",
       " 'Teri Todd',\n",
       " 'K. Dino Vrongistinos',\n",
       " 'William C. Whiting',\n",
       " 'Benedict B. Yaspelkis III',\n",
       " 'Scott Amiss',\n",
       " 'Richard Andrews',\n",
       " 'Carolyn Barnes',\n",
       " 'Teri Berkel',\n",
       " 'Esteban Campa',\n",
       " 'Mary Chua',\n",
       " 'James Clemmensen',\n",
       " 'Claire Coudray',\n",
       " 'Emily Curtis',\n",
       " 'Liezel De Guzman',\n",
       " 'Robert DeLaCruz',\n",
       " 'Joanne Divito',\n",
       " 'Jacqueline Eusanio',\n",
       " 'John Farr',\n",
       " 'Jay Fischer',\n",
       " 'Eve Fleck',\n",
       " 'Hiroyasu Fujishima',\n",
       " 'Nick Galli',\n",
       " 'Elizabeth Garcia',\n",
       " 'Wendy Hassenpflug',\n",
       " 'Allen Hope',\n",
       " 'Ileana Hurtado',\n",
       " 'Shabnam Islam',\n",
       " 'Farzad Jalilvand Tehrani',\n",
       " 'Mai Jara',\n",
       " 'Jarrod Jonsrud',\n",
       " 'Nvard Khachatryan',\n",
       " 'Timothy Komori',\n",
       " 'Christine LaMonica',\n",
       " 'Jae Lim',\n",
       " 'Michele Longoria',\n",
       " 'Christopher Mcclain',\n",
       " 'Derek Mena',\n",
       " 'Dennis Mestas',\n",
       " 'Victoria Nichols',\n",
       " 'Matthew Parke',\n",
       " 'Daniel Parsons',\n",
       " 'Rebecca Pena',\n",
       " 'Lino Perez',\n",
       " 'Judy Pisarro-Grant',\n",
       " 'Robert Plotke',\n",
       " 'Michelle Rodriguez',\n",
       " 'Elizabeth Rohrer',\n",
       " 'Evan Rosenblatt',\n",
       " 'Bethana Rosenthal',\n",
       " 'Daniel Smith',\n",
       " 'Susan Snyder',\n",
       " 'Aaron Weinstein',\n",
       " 'Sharon West-Sell',\n",
       " 'Sangita Dube',\n",
       " 'Concha D. Madrid-Silva',\n",
       " 'Blanca Maldonado',\n",
       " 'Marc Netter',\n",
       " 'Steven Paredes',\n",
       " 'Marina Sanchez',\n",
       " 'Hooshang Bagheri',\n",
       " 'Shane Frehlich',\n",
       " 'Jennifer L. Romack',\n",
       " 'Mary J. Sariscsany',\n",
       " 'Ray Calnan',\n",
       " 'Mark Campbell',\n",
       " 'Nanci Carr',\n",
       " 'Wade Chumney',\n",
       " 'Allan Cooper',\n",
       " 'Reid L Denham',\n",
       " 'Valerie Flugge',\n",
       " 'Nina Golden',\n",
       " 'Viren Kapadia',\n",
       " 'David Newman',\n",
       " 'Christopher Ng',\n",
       " 'Stuart Pardau',\n",
       " 'Tarini Ramaprakash',\n",
       " 'Lauren Ross',\n",
       " 'Leonard Rymsza',\n",
       " 'Douglas Carranza  .',\n",
       " 'Karla Cativo ',\n",
       " 'Beatriz Cortez  .',\n",
       " 'Jocelyn Duarte ',\n",
       " 'Stephanie Lemus ',\n",
       " 'Susana Marcelo ',\n",
       " 'Leslie Rodriguez ',\n",
       " 'Freya Rojo ',\n",
       " 'Lizbeth Ruiz-Torres ',\n",
       " 'Celia Simonds ',\n",
       " 'Jasmin Tobar ',\n",
       " 'Joseph Wiltberger  .',\n",
       " 'An Yountae  .',\n",
       " 'Arturo Zepeda ',\n",
       " 'Sandor Samuels',\n",
       " 'Kurt Saunders',\n",
       " 'Hilary Silvia-Goldberg',\n",
       " 'Melanie Williams',\n",
       " 'Gregory Young']"
      ]
     },
     "execution_count": 81,
     "metadata": {},
     "output_type": "execute_result"
    }
   ],
   "source": [
    "new_list[0::2]\n",
    "new_list[1::2]\n",
    "newer_list = [i+ \" \" +j for i,j in zip(new_list[0::2], new_list[1::2])]\n",
    "newer_list"
   ]
  },
  {
   "cell_type": "code",
   "execution_count": null,
   "metadata": {},
   "outputs": [],
   "source": []
  }
 ],
 "metadata": {
  "kernelspec": {
   "display_name": "Python 3",
   "language": "python",
   "name": "python3"
  },
  "language_info": {
   "codemirror_mode": {
    "name": "ipython",
    "version": 3
   },
   "file_extension": ".py",
   "mimetype": "text/x-python",
   "name": "python",
   "nbconvert_exporter": "python",
   "pygments_lexer": "ipython3",
   "version": "3.6.5"
  }
 },
 "nbformat": 4,
 "nbformat_minor": 2
}
