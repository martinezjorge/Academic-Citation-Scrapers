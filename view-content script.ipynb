{
 "cells": [
  {
   "cell_type": "code",
   "execution_count": 1,
   "metadata": {},
   "outputs": [],
   "source": [
    "import pandas as pd\n",
    "from selenium import webdriver\n",
    "from selenium.webdriver.common.by import By\n",
    "from bs4 import BeautifulSoup as soup"
   ]
  },
  {
   "cell_type": "code",
   "execution_count": 2,
   "metadata": {
    "scrolled": true
   },
   "outputs": [],
   "source": [
    "college_data = pd.read_csv(\"department_urls.csv\")"
   ]
  },
  {
   "cell_type": "code",
   "execution_count": 3,
   "metadata": {},
   "outputs": [
    {
     "data": {
      "text/html": [
       "<div>\n",
       "<style scoped>\n",
       "    .dataframe tbody tr th:only-of-type {\n",
       "        vertical-align: middle;\n",
       "    }\n",
       "\n",
       "    .dataframe tbody tr th {\n",
       "        vertical-align: top;\n",
       "    }\n",
       "\n",
       "    .dataframe thead th {\n",
       "        text-align: right;\n",
       "    }\n",
       "</style>\n",
       "<table border=\"1\" class=\"dataframe\">\n",
       "  <thead>\n",
       "    <tr style=\"text-align: right;\">\n",
       "      <th></th>\n",
       "      <th>variable_name</th>\n",
       "      <th>College</th>\n",
       "      <th>Department</th>\n",
       "      <th>classes</th>\n",
       "      <th>id</th>\n",
       "      <th>url</th>\n",
       "    </tr>\n",
       "  </thead>\n",
       "  <tbody>\n",
       "    <tr>\n",
       "      <th>99</th>\n",
       "      <td>gender_women_faculty</td>\n",
       "      <td>College of Humanities</td>\n",
       "      <td>Department of Gender's &amp; Women's Studies</td>\n",
       "      <td>view-content</td>\n",
       "      <td>NaN</td>\n",
       "      <td>https://www.csun.edu/humanities/gender-womens-...</td>\n",
       "    </tr>\n",
       "    <tr>\n",
       "      <th>100</th>\n",
       "      <td>gender_women_lecturers</td>\n",
       "      <td>College of Humanities</td>\n",
       "      <td>Department of Gender's &amp; Women's Studies</td>\n",
       "      <td>view-content</td>\n",
       "      <td>NaN</td>\n",
       "      <td>https://www.csun.edu/humanities/gender-womens-...</td>\n",
       "    </tr>\n",
       "    <tr>\n",
       "      <th>101</th>\n",
       "      <td>kines</td>\n",
       "      <td>Health &amp; Human Development</td>\n",
       "      <td>Department of Kinesiology</td>\n",
       "      <td>view-content</td>\n",
       "      <td>NaN</td>\n",
       "      <td>https://www.csun.edu/health-human-development/...</td>\n",
       "    </tr>\n",
       "    <tr>\n",
       "      <th>102</th>\n",
       "      <td>kines_lect</td>\n",
       "      <td>Health &amp; Human Development</td>\n",
       "      <td>Department of Kinesiology</td>\n",
       "      <td>view-content</td>\n",
       "      <td>NaN</td>\n",
       "      <td>https://www.csun.edu/health-human-development/...</td>\n",
       "    </tr>\n",
       "    <tr>\n",
       "      <th>103</th>\n",
       "      <td>kines_em</td>\n",
       "      <td>Health &amp; Human Development</td>\n",
       "      <td>Department of Kinesiology</td>\n",
       "      <td>view-content</td>\n",
       "      <td>NaN</td>\n",
       "      <td>https://www.csun.edu/health-human-development/...</td>\n",
       "    </tr>\n",
       "    <tr>\n",
       "      <th>104</th>\n",
       "      <td>blaw</td>\n",
       "      <td>College of Business and Economics</td>\n",
       "      <td>Department of Business Law</td>\n",
       "      <td>view-content</td>\n",
       "      <td>NaN</td>\n",
       "      <td>https://www.csun.edu/blaw/faculty-directory</td>\n",
       "    </tr>\n",
       "    <tr>\n",
       "      <th>105</th>\n",
       "      <td>blaw2</td>\n",
       "      <td>College of Business and Economics</td>\n",
       "      <td>Department of Business Law</td>\n",
       "      <td>view-content</td>\n",
       "      <td>NaN</td>\n",
       "      <td>https://www.csun.edu/blaw/faculty-directory?fi...</td>\n",
       "    </tr>\n",
       "    <tr>\n",
       "      <th>106</th>\n",
       "      <td>blaw3</td>\n",
       "      <td>College of Business and Economics</td>\n",
       "      <td>Department of Business Law</td>\n",
       "      <td>view-content</td>\n",
       "      <td>NaN</td>\n",
       "      <td>https://www.csun.edu/blaw/faculty-directory?fi...</td>\n",
       "    </tr>\n",
       "    <tr>\n",
       "      <th>107</th>\n",
       "      <td>central_american_faculty</td>\n",
       "      <td>College of Humanities</td>\n",
       "      <td>Department of Central American Studies</td>\n",
       "      <td>view-content</td>\n",
       "      <td>NaN</td>\n",
       "      <td>https://www.csun.edu/humanities/central-americ...</td>\n",
       "    </tr>\n",
       "    <tr>\n",
       "      <th>108</th>\n",
       "      <td>blaw4</td>\n",
       "      <td>College of Business and Economics</td>\n",
       "      <td>Department of Business Law</td>\n",
       "      <td>view-content</td>\n",
       "      <td>NaN</td>\n",
       "      <td>https://www.csun.edu/blaw/faculty-directory?fi...</td>\n",
       "    </tr>\n",
       "  </tbody>\n",
       "</table>\n",
       "</div>"
      ],
      "text/plain": [
       "                variable_name                            College  \\\n",
       "99       gender_women_faculty              College of Humanities   \n",
       "100    gender_women_lecturers              College of Humanities   \n",
       "101                     kines         Health & Human Development   \n",
       "102                kines_lect         Health & Human Development   \n",
       "103                  kines_em         Health & Human Development   \n",
       "104                      blaw  College of Business and Economics   \n",
       "105                     blaw2  College of Business and Economics   \n",
       "106                     blaw3  College of Business and Economics   \n",
       "107  central_american_faculty              College of Humanities   \n",
       "108                     blaw4  College of Business and Economics   \n",
       "\n",
       "                                   Department       classes   id  \\\n",
       "99   Department of Gender's & Women's Studies  view-content  NaN   \n",
       "100  Department of Gender's & Women's Studies  view-content  NaN   \n",
       "101                 Department of Kinesiology  view-content  NaN   \n",
       "102                 Department of Kinesiology  view-content  NaN   \n",
       "103                 Department of Kinesiology  view-content  NaN   \n",
       "104                Department of Business Law  view-content  NaN   \n",
       "105                Department of Business Law  view-content  NaN   \n",
       "106                Department of Business Law  view-content  NaN   \n",
       "107    Department of Central American Studies  view-content  NaN   \n",
       "108                Department of Business Law  view-content  NaN   \n",
       "\n",
       "                                                   url  \n",
       "99   https://www.csun.edu/humanities/gender-womens-...  \n",
       "100  https://www.csun.edu/humanities/gender-womens-...  \n",
       "101  https://www.csun.edu/health-human-development/...  \n",
       "102  https://www.csun.edu/health-human-development/...  \n",
       "103  https://www.csun.edu/health-human-development/...  \n",
       "104        https://www.csun.edu/blaw/faculty-directory  \n",
       "105  https://www.csun.edu/blaw/faculty-directory?fi...  \n",
       "106  https://www.csun.edu/blaw/faculty-directory?fi...  \n",
       "107  https://www.csun.edu/humanities/central-americ...  \n",
       "108  https://www.csun.edu/blaw/faculty-directory?fi...  "
      ]
     },
     "execution_count": 3,
     "metadata": {},
     "output_type": "execute_result"
    }
   ],
   "source": [
    "view_content = college_data[college_data.classes == 'view-content']\n",
    "view_content"
   ]
  },
  {
   "cell_type": "code",
   "execution_count": 4,
   "metadata": {},
   "outputs": [],
   "source": [
    "urls = view_content.url.tolist()"
   ]
  },
  {
   "cell_type": "code",
   "execution_count": 5,
   "metadata": {
    "scrolled": true
   },
   "outputs": [
    {
     "name": "stdout",
     "output_type": "stream",
     "text": [
      "0 : https://www.csun.edu/humanities/gender-womens-studies/faculty\n",
      "1 : https://www.csun.edu/humanities/gender-womens-studies/lecturers\n",
      "2 : https://www.csun.edu/health-human-development/kinesiology/faculty-type/Full%20Time\n",
      "3 : https://www.csun.edu/health-human-development/kinesiology/faculty-type/Lecturer\n",
      "4 : https://www.csun.edu/health-human-development/kinesiology/faculty-type/Emeritus\n",
      "5 : https://www.csun.edu/blaw/faculty-directory\n",
      "6 : https://www.csun.edu/blaw/faculty-directory?field_person_type_value%5Bfaculty%5D=faculty&field_person_type_value%5Bstaff%5D=staff&page=1\n",
      "7 : https://www.csun.edu/blaw/faculty-directory?field_person_type_value%5Bfaculty%5D=faculty&field_person_type_value%5Bstaff%5D=staff&page=2\n",
      "8 : https://www.csun.edu/humanities/central-american-studies/faculty-type-photo\n",
      "9 : https://www.csun.edu/blaw/faculty-directory?field_person_type_value%5Bfaculty%5D=faculty&field_person_type_value%5Bstaff%5D=staff&page=3\n"
     ]
    }
   ],
   "source": [
    "counter = 0\n",
    "for url in urls:\n",
    "    print(counter,\":\",url)\n",
    "    counter += 1"
   ]
  },
  {
   "cell_type": "code",
   "execution_count": 6,
   "metadata": {},
   "outputs": [],
   "source": [
    "def view_content_name_scrape(url):\n",
    "    \n",
    "    #Declare the driver \n",
    "    driver = webdriver.Chrome()\n",
    "    driver.get(url)\n",
    "    \n",
    "    view_content_element = driver.find_element_by_class_name(\"view-content\")\n",
    "    #print(view_content_element)\n",
    "\n",
    "    #Case for names stored within span tags\n",
    "    if view_content_element.find_elements_by_css_selector('span'):\n",
    "        \n",
    "        #Locate first name and last name by absolute path\n",
    "        first_names_html = view_content_element.find_elements_by_xpath(\"//article/span[1]\")\n",
    "        last_names_html = view_content_element.find_elements_by_xpath(\"//article/span[2]\")\n",
    "        #Declare a list of first names and last names\n",
    "        first_names = [name.text for name in first_names_html]\n",
    "        last_names = [name.text for name in last_names_html]\n",
    "        \n",
    "        names = []\n",
    "        for fname,lname in zip(first_names, last_names):\n",
    "            names.append([fname,lname])\n",
    "            \n",
    "        \n",
    "    else:\n",
    "        print('Not Found')\n",
    "        \n",
    "    #Close the driver\n",
    "    driver.close()\n",
    "    return names"
   ]
  },
  {
   "cell_type": "code",
   "execution_count": 7,
   "metadata": {},
   "outputs": [
    {
     "data": {
      "text/plain": [
       "[['Dianne', 'Bartlow'],\n",
       " ['Tina', 'Beyene'],\n",
       " ['Florence', 'Kyomugisha'],\n",
       " ['Marta', 'Lopez-Garza'],\n",
       " ['Sheena', 'Malhotra'],\n",
       " ['Breny', 'Mendoza'],\n",
       " ['Khanum', 'Shaikh'],\n",
       " ['Nayereh', 'Tohidi']]"
      ]
     },
     "execution_count": 7,
     "metadata": {},
     "output_type": "execute_result"
    }
   ],
   "source": [
    "# Sample test case:\n",
    "view_content_name_scrape(urls[0])"
   ]
  },
  {
   "cell_type": "code",
   "execution_count": 29,
   "metadata": {
    "scrolled": true
   },
   "outputs": [
    {
     "name": "stdout",
     "output_type": "stream",
     "text": [
      "URL  0\n",
      "URL  1\n",
      "URL  2\n",
      "URL  3\n",
      "URL  4\n",
      "URL  5\n",
      "URL  6\n",
      "URL  7\n",
      "URL  8\n",
      "URL  9\n",
      "[[['Dianne', 'Bartlow'], ['Tina', 'Beyene'], ['Florence', 'Kyomugisha'], ['Marta', 'Lopez-Garza'], ['Sheena', 'Malhotra'], ['Breny', 'Mendoza'], ['Khanum', 'Shaikh'], ['Nayereh', 'Tohidi']], [['Jennifer', 'Berry'], ['Shira', 'Brown'], ['Marie', 'Cartier'], ['Melanie', 'Klein'], ['Kristyan', 'Kouri'], ['Ricky', 'Manoff'], ['Heidi', 'Schumacher']], [['Rosa', 'Angulo-Barroso'], ['Chris', 'Bolsmann'], ['Sean P.', 'Flanagan'], ['Ovande', 'Furtado, Jr.'], ['Ivan', 'Guillory'], ['Kim', 'Henige'], ['Jake', 'Hinkel-Lipsker'], ['Victoria', 'Jaque'], ['Danielle', 'Jarvis'], ['Jacob', 'Jensen'], ['Taeyou', 'Jung, ATC, CAPE'], ['George', 'Kioussis'], ['Andrew', 'Linden'], ['Steven', 'Loy'], ['Paulo', 'Marchetti'], ['Douglas W.', 'McLaughlin'], ['Justin', 'Nicoll'], ['Elizabeth', 'Parke'], ['Sean', 'Rogers, DAT, ATC'], ['Ashley A.', 'Samson'], ['Shane D.', 'Stecyk'], ['Belinda', 'Stillwell'], ['Terry', 'Sweeting'], ['Paula S.', 'Thomson'], ['Teri', 'Todd'], ['K. Dino', 'Vrongistinos'], ['William C.', 'Whiting'], ['Benedict B.', 'Yaspelkis III']], [['Scott', 'Amiss'], ['Richard', 'Andrews'], ['Carolyn', 'Barnes'], ['Teri', 'Berkel'], ['Esteban', 'Campa'], ['Mary', 'Chua'], ['James', 'Clemmensen'], ['Claire', 'Coudray'], ['Emily', 'Curtis'], ['Liezel', 'De Guzman'], ['Robert', 'DeLaCruz'], ['Joanne', 'Divito'], ['Jacqueline', 'Eusanio'], ['John', 'Farr'], ['Jay', 'Fischer'], ['Eve', 'Fleck'], ['Hiroyasu', 'Fujishima'], ['Nick', 'Galli'], ['Elizabeth', 'Garcia'], ['Wendy', 'Hassenpflug'], ['Allen', 'Hope'], ['Ileana', 'Hurtado'], ['Shabnam', 'Islam'], ['Farzad', 'Jalilvand Tehrani'], ['Mai', 'Jara'], ['Jarrod', 'Jonsrud'], ['Nvard', 'Khachatryan'], ['Timothy', 'Komori'], ['Christine', 'LaMonica'], ['Jae', 'Lim'], ['Michele', 'Longoria'], ['Christopher', 'Mcclain'], ['Derek', 'Mena'], ['Dennis', 'Mestas'], ['Victoria', 'Nichols'], ['Matthew', 'Parke'], ['Daniel', 'Parsons'], ['Rebecca', 'Pena'], ['Lino', 'Perez'], ['Judy', 'Pisarro-Grant'], ['Robert', 'Plotke'], ['Michelle', 'Rodriguez'], ['Elizabeth', 'Rohrer'], ['Evan', 'Rosenblatt'], ['Bethana', 'Rosenthal'], ['Daniel', 'Smith'], ['Susan', 'Snyder'], ['Aaron', 'Weinstein'], ['Sharon', 'West-Sell']], [['Hooshang', 'Bagheri'], ['Shane', 'Frehlich'], ['Jennifer L.', 'Romack'], ['Mary J.', 'Sariscsany']], [['Ray', 'Calnan'], ['Mark', 'Campbell'], ['Nanci', 'Carr'], ['Wade', 'Chumney'], ['Allan', 'Cooper']], [['Reid L', 'Denham'], ['Valerie', 'Flugge'], ['Nina', 'Golden'], ['Viren', 'Kapadia'], ['David', 'Newman']], [['Christopher', 'Ng'], ['Stuart', 'Pardau'], ['Tarini', 'Ramaprakash'], ['Lauren', 'Ross'], ['Leonard', 'Rymsza']], [['Douglas', 'Carranza, Ph.D.'], ['Karla', 'Cativo, M.A.'], ['Beatriz', 'Cortez, Ph.D.'], ['Jocelyn', 'Duarte, M.A.'], ['Stephanie', 'Lemus, M.A.'], ['Susana', 'Marcelo, M.A.'], ['Leslie', 'Rodriguez, M.A.'], ['Freya', 'Rojo, M.A.'], ['Lizbeth', 'Ruiz-Torres, M.A.'], ['Celia', 'Simonds, M.A.'], ['Jasmin', 'Tobar, MSW'], ['Joseph', 'Wiltberger, Ph.D.'], ['An', 'Yountae, Ph.D.'], ['Arturo', 'Zepeda, M.A.']], [['Sandor', 'Samuels'], ['Kurt', 'Saunders'], ['Hilary', 'Silvia-Goldberg'], ['Melanie', 'Williams'], ['Gregory', 'Young']]]\n"
     ]
    }
   ],
   "source": [
    "counter = 0\n",
    "all_names = []\n",
    "for url in urls:\n",
    "    print(\"URL \", counter)\n",
    "    temp = view_content_name_scrape(url)\n",
    "    all_names.append(temp)\n",
    "    counter += 1\n",
    "print(all_names)"
   ]
  },
  {
   "cell_type": "code",
   "execution_count": 41,
   "metadata": {},
   "outputs": [
    {
     "data": {
      "text/plain": [
       "['Sandor Samuels ',\n",
       " 'Kurt Saunders ',\n",
       " 'Hilary Silvia-Goldberg ',\n",
       " 'Melanie Williams ',\n",
       " 'Gregory Young ']"
      ]
     },
     "execution_count": 41,
     "metadata": {},
     "output_type": "execute_result"
    }
   ],
   "source": [
    "all_names[9]"
   ]
  },
  {
   "cell_type": "code",
   "execution_count": 30,
   "metadata": {},
   "outputs": [
    {
     "name": "stdout",
     "output_type": "stream",
     "text": [
      "[['Dianne', 'Bartlow', 'Tina', 'Beyene', 'Florence', 'Kyomugisha', 'Marta', 'Lopez-Garza', 'Sheena', 'Malhotra', 'Breny', 'Mendoza', 'Khanum', 'Shaikh', 'Nayereh', 'Tohidi'], ['Jennifer', 'Berry', 'Shira', 'Brown', 'Marie', 'Cartier', 'Melanie', 'Klein', 'Kristyan', 'Kouri', 'Ricky', 'Manoff', 'Heidi', 'Schumacher'], ['Rosa', 'Angulo-Barroso', 'Chris', 'Bolsmann', 'Sean P.', 'Flanagan', 'Ovande', 'Furtado Jr.', 'Ivan', 'Guillory', 'Kim', 'Henige', 'Jake', 'Hinkel-Lipsker', 'Victoria', 'Jaque', 'Danielle', 'Jarvis', 'Jacob', 'Jensen', 'Taeyou', 'Jung', 'George', 'Kioussis', 'Andrew', 'Linden', 'Steven', 'Loy', 'Paulo', 'Marchetti', 'Douglas W.', 'McLaughlin', 'Justin', 'Nicoll', 'Elizabeth', 'Parke', 'Sean', 'Rogers ATC', 'Ashley A.', 'Samson', 'Shane D.', 'Stecyk', 'Belinda', 'Stillwell', 'Terry', 'Sweeting', 'Paula S.', 'Thomson', 'Teri', 'Todd', 'K. Dino', 'Vrongistinos', 'William C.', 'Whiting', 'Benedict B.', 'Yaspelkis III'], ['Scott', 'Amiss', 'Richard', 'Andrews', 'Carolyn', 'Barnes', 'Teri', 'Berkel', 'Esteban', 'Campa', 'Mary', 'Chua', 'James', 'Clemmensen', 'Claire', 'Coudray', 'Emily', 'Curtis', 'Liezel', 'De Guzman', 'Robert', 'DeLaCruz', 'Joanne', 'Divito', 'Jacqueline', 'Eusanio', 'John', 'Farr', 'Jay', 'Fischer', 'Eve', 'Fleck', 'Hiroyasu', 'Fujishima', 'Nick', 'Galli', 'Elizabeth', 'Garcia', 'Wendy', 'Hassenpflug', 'Allen', 'Hope', 'Ileana', 'Hurtado', 'Shabnam', 'Islam', 'Farzad', 'Jalilvand Tehrani', 'Mai', 'Jara', 'Jarrod', 'Jonsrud', 'Nvard', 'Khachatryan', 'Timothy', 'Komori', 'Christine', 'LaMonica', 'Jae', 'Lim', 'Michele', 'Longoria', 'Christopher', 'Mcclain', 'Derek', 'Mena', 'Dennis', 'Mestas', 'Victoria', 'Nichols', 'Matthew', 'Parke', 'Daniel', 'Parsons', 'Rebecca', 'Pena', 'Lino', 'Perez', 'Judy', 'Pisarro-Grant', 'Robert', 'Plotke', 'Michelle', 'Rodriguez', 'Elizabeth', 'Rohrer', 'Evan', 'Rosenblatt', 'Bethana', 'Rosenthal', 'Daniel', 'Smith', 'Susan', 'Snyder', 'Aaron', 'Weinstein', 'Sharon', 'West-Sell'], ['Hooshang', 'Bagheri', 'Shane', 'Frehlich', 'Jennifer L.', 'Romack', 'Mary J.', 'Sariscsany'], ['Ray', 'Calnan', 'Mark', 'Campbell', 'Nanci', 'Carr', 'Wade', 'Chumney', 'Allan', 'Cooper'], ['Reid L', 'Denham', 'Valerie', 'Flugge', 'Nina', 'Golden', 'Viren', 'Kapadia', 'David', 'Newman'], ['Christopher', 'Ng', 'Stuart', 'Pardau', 'Tarini', 'Ramaprakash', 'Lauren', 'Ross', 'Leonard', 'Rymsza'], ['Douglas', 'Carranza  .', 'Karla', 'Cativo ', 'Beatriz', 'Cortez  .', 'Jocelyn', 'Duarte ', 'Stephanie', 'Lemus ', 'Susana', 'Marcelo ', 'Leslie', 'Rodriguez ', 'Freya', 'Rojo ', 'Lizbeth', 'Ruiz-Torres ', 'Celia', 'Simonds ', 'Jasmin', 'Tobar ', 'Joseph', 'Wiltberger  .', 'An', 'Yountae  .', 'Arturo', 'Zepeda '], ['Sandor', 'Samuels', 'Kurt', 'Saunders', 'Hilary', 'Silvia-Goldberg', 'Melanie', 'Williams', 'Gregory', 'Young']]\n"
     ]
    }
   ],
   "source": [
    "i = 0\n",
    "for name_list in all_names:\n",
    "    temp = []\n",
    "    for names in name_list:\n",
    "        for name in names:\n",
    "            temp.append(name.replace(\"Ph.D\", \" \").replace(\",\", \"\").replace(\"CAPE\", \"\").replace(\"M.A.\", \"\").replace(\" DAT\", \"\").replace(\"MSW\", \"\").replace(\" ATC \", \"\"))\n",
    "    all_names[i] = temp\n",
    "    i+=1\n",
    "print(all_names)\n",
    "\n"
   ]
  },
  {
   "cell_type": "code",
   "execution_count": 31,
   "metadata": {},
   "outputs": [],
   "source": [
    "# keeps track of all_names index\n",
    "j = 0\n",
    "#goes through each list in all_names\n",
    "for name_list in all_names:\n",
    "    # empty string to hold the full name\n",
    "    full_name = \"\"\n",
    "    # i starts at 1, 0%2=0, 1%2=1, 2%2=0\n",
    "    i = 0\n",
    "    # temp array to hold the fixed names\n",
    "    fixed_names = []\n",
    "    # go through each name in name_list\n",
    "    for name in name_list:\n",
    "        # add the name to full_name\n",
    "        full_name += name + \" \"\n",
    "        # increment the counter\n",
    "        i+=1\n",
    "        # if full name has added two names i should = 2\n",
    "        if i % 2 == 0:\n",
    "            #so we add the names to fixed_names\n",
    "            fixed_names.append(full_name)\n",
    "            # reset variable to hold names\n",
    "            full_name = \"\"\n",
    "            # reset the counter\n",
    "            i = 0\n",
    "    all_names[j] = fixed_names\n",
    "    j+=1\n",
    "        "
   ]
  },
  {
   "cell_type": "code",
   "execution_count": 42,
   "metadata": {},
   "outputs": [],
   "source": [
    "i = 0\n",
    "for name_list in all_names:\n",
    "    temp = []\n",
    "    for name in name_list:\n",
    "        temp.append(name.strip())\n",
    "    all_names[i] = temp"
   ]
  },
  {
   "cell_type": "code",
   "execution_count": 46,
   "metadata": {},
   "outputs": [],
   "source": [
    "f = open(\"view_content.csv\", \"a\")\n",
    "\n",
    "i = 0\n",
    "for name_list in all_names:\n",
    "    for name in name_list:\n",
    "        f.write(name + \", \" + view_content.iloc[i].College + \", \" + view_content.iloc[i].Department + \", \" + view_content.iloc[i].url + \"\\n\")\n",
    "    i+=1\n",
    "f.close()"
   ]
  },
  {
   "cell_type": "code",
   "execution_count": null,
   "metadata": {},
   "outputs": [],
   "source": []
  }
 ],
 "metadata": {
  "kernelspec": {
   "display_name": "Python 3",
   "language": "python",
   "name": "python3"
  },
  "language_info": {
   "codemirror_mode": {
    "name": "ipython",
    "version": 3
   },
   "file_extension": ".py",
   "mimetype": "text/x-python",
   "name": "python",
   "nbconvert_exporter": "python",
   "pygments_lexer": "ipython3",
   "version": "3.7.1"
  }
 },
 "nbformat": 4,
 "nbformat_minor": 2
}
