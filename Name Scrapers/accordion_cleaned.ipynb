{
 "cells": [
  {
   "cell_type": "code",
   "execution_count": 17,
   "metadata": {},
   "outputs": [],
   "source": [
    "import pandas as pd\n",
    "from urllib.request import urlopen as uReq\n",
    "import matplotlib.pyplot as plt\n",
    "from selenium import webdriver\n",
    "from bs4 import BeautifulSoup as soup\n",
    "import time"
   ]
  },
  {
   "cell_type": "code",
   "execution_count": 18,
   "metadata": {
    "scrolled": true
   },
   "outputs": [],
   "source": [
    "college_data = pd.read_csv(\"department_urls.csv\")"
   ]
  },
  {
   "cell_type": "code",
   "execution_count": 19,
   "metadata": {
    "scrolled": true
   },
   "outputs": [],
   "source": [
    "college_data_accordion = college_data[college_data.id == 'accordion']\n",
    "college_data_accordion_urls = college_data_accordion.url.tolist()"
   ]
  },
  {
   "cell_type": "code",
   "execution_count": 20,
   "metadata": {
    "scrolled": true
   },
   "outputs": [
    {
     "name": "stdout",
     "output_type": "stream",
     "text": [
      "0 : https://www.csun.edu/acctis/faculty-and-staff-directory\n",
      "1 : https://www.csun.edu/health-human-development/family-consumer-sciences/faculty-staff\n",
      "2 : https://www.csun.edu/nursing/faculty-staff\n",
      "3 : https://www.csun.edu/health-human-development/physical-therapy/adjunct-faculty\n",
      "4 : https://www.csun.edu/finance/faculty-directory\n",
      "5 : https://www.csun.edu/science-mathematics/mathematics/tenure-track-faculty\n",
      "6 : https://www.csun.edu/science-mathematics/mathematics/lecturers\n",
      "7 : https://www.csun.edu/humanities/asian-american-studies/faculty\n",
      "8 : https://www.csun.edu/humanities/asian-american-studies/lecturers\n",
      "9 : https://www.csun.edu/humanities/chicana-chicano-studies/lecturers\n",
      "10 : https://www.csun.edu/humanities/modern-classical-languages-literatures/faculty-staff\n",
      "11 : https://www.csun.edu/humanities/religious-studies/faculty\n",
      "12 : https://www.csun.edu/humanities/religious-studies/emeritus-faculty\n",
      "13 : https://www.csun.edu/humanities/religious-studies/lecturers\n",
      "14 : https://www.csun.edu/social-behavioral-sciences/africana-studies/full-time-faculty\n",
      "15 : https://www.csun.edu/social-behavioral-sciences/africana-studies/emeriti-faculty\n",
      "16 : https://www.csun.edu/social-behavioral-sciences/africana-studies/lecturers\n",
      "17 : https://www.csun.edu/social-behavioral-sciences/anthropology/full-time-faculty\n",
      "18 : https://www.csun.edu/social-behavioral-sciences/anthropology/lecturers\n",
      "19 : https://www.csun.edu/social-behavioral-sciences/anthropology/emeritus-retired-faculty\n",
      "20 : https://www.csun.edu/social-behavioral-sciences/criminology-justice-studies/faculty-staff-directory\n",
      "21 : https://www.csun.edu/social-behavioral-sciences/geography-environmental-studies/full-time-faculty\n",
      "22 : https://www.csun.edu/social-behavioral-sciences/geography-environmental-studies/lecturers\n",
      "23 : https://www.csun.edu/social-behavioral-sciences/geography-environmental-studies/emeriti-faculty\n",
      "24 : https://www.csun.edu/social-behavioral-sciences/geography-environmental-studies/affiliated-faculty\n",
      "25 : https://www.csun.edu/social-behavioral-sciences/history/full-time-faculty\n",
      "26 : https://www.csun.edu/social-behavioral-sciences/history/lecturers\n",
      "27 : https://www.csun.edu/social-behavioral-sciences/political-science/full-time-faculty\n",
      "28 : https://www.csun.edu/social-behavioral-sciences/political-science/lecturers\n",
      "29 : https://www.csun.edu/social-behavioral-sciences/political-science/emeriti-faculty\n",
      "30 : https://www.csun.edu/social-behavioral-sciences/psychology/full-time-faculty\n",
      "31 : https://www.csun.edu/social-behavioral-sciences/psychology/lecturers\n",
      "32 : https://www.csun.edu/social-behavioral-sciences/social-work/full-time-faculty\n",
      "33 : https://www.csun.edu/social-behavioral-sciences/social-work/lecturers\n",
      "34 : https://www.csun.edu/social-behavioral-sciences/sociology/full-time-faculty\n",
      "35 : https://www.csun.edu/social-behavioral-sciences/sociology/lecturers\n",
      "36 : https://www.csun.edu/social-behavioral-sciences/sociology/emeriti-faculty\n",
      "37 : https://www.csun.edu/social-behavioral-sciences/urban-studies-planning/full-time-faculty\n",
      "38 : https://www.csun.edu/social-behavioral-sciences/urban-studies-planning/emeritus-faculty\n",
      "39 : https://www.csun.edu/social-behavioral-sciences/urban-studies-planning/lecturers\n",
      "40 : https://www.csun.edu/mike-curb-arts-media-communication/journalism/full-time-faculty\n",
      "41 : https://www.csun.edu/mike-curb-arts-media-communication/journalism/lecturers\n",
      "42 : https://www.csun.edu/mike-curb-arts-media-communication/music/faculty-full-time\n",
      "43 : https://www.csun.edu/mike-curb-arts-media-communication/music/lecturers-k\n",
      "44 : https://www.csun.edu/mike-curb-arts-media-communication/music/lecturers-l-z\n",
      "45 : https://www.csun.edu/mike-curb-arts-media-communication/theatre/faculty\n",
      "46 : https://www.csun.edu/mike-curb-arts-media-communication/theatre/lecturers\n",
      "47 : https://www.csun.edu/engineering-computer-science/civil-engineering-construction-management/full-time-faculty\n",
      "48 : https://www.csun.edu/engineering-computer-science/civil-engineering-construction-management/lecturers\n",
      "49 : https://www.csun.edu/engineering-computer-science/civil-engineering-construction-management/emeritus-faculty\n",
      "50 : https://www.csun.edu/health-human-development/physical-therapy/full-time-faculty\n",
      "51 : https://www.csun.edu/management/faculty-directory\n",
      "52 : https://www.csun.edu/marketing/faculty-directory\n",
      "53 : https://www.csun.edu/som/faculty-staff-directory\n",
      "54 : https://www.csun.edu/mike-curb-arts-media-communication/art/faculty-staff\n",
      "55 : https://www.csun.edu/mike-curb-arts-media-communication/cinema-television-arts/full-time-faculty\n",
      "56 : https://www.csun.edu/mike-curb-arts-media-communication/cinema-television-arts/ctva-lecturers\n"
     ]
    }
   ],
   "source": [
    "counter = 0\n",
    "for url in college_data_accordion_urls:\n",
    "    print(counter,\":\",url)\n",
    "    counter += 1"
   ]
  },
  {
   "cell_type": "code",
   "execution_count": 21,
   "metadata": {},
   "outputs": [],
   "source": [
    "def accordion_name_scrape(url):\n",
    "    driver = webdriver.Chrome(executable_path=r'C:\\chromedriver.exe')\n",
    "    driver.get(url)\n",
    "    \n",
    "    accordion_element = driver.find_element_by_id(\"accordion\")\n",
    "\n",
    "    #Case for names stored as h2\n",
    "    if accordion_element.find_elements_by_tag_name('h2'):\n",
    "        accordion_html = accordion_element.get_attribute(\"innerHTML\")\n",
    "        accordion_soup = soup(accordion_html, \"html.parser\")\n",
    "        names = accordion_soup.find_all('h2')\n",
    "        accordion_names = [name.text for name in names]\n",
    "        return (accordion_names)\n",
    "        \n",
    "    #Case for names stored as h3\n",
    "    elif accordion_element.find_elements_by_tag_name('h3'):\n",
    "        accordion_html = accordion_element.get_attribute(\"innerHTML\")\n",
    "        accordion_soup = soup(accordion_html, \"html.parser\")\n",
    "        names = accordion_soup.find_all('h3')\n",
    "        accordion_names = [name.text for name in names]\n",
    "        return (accordion_names)\n",
    "                \n",
    "    #Case for names stored as h4\n",
    "    elif accordion_element.find_elements_by_tag_name('h4'):\n",
    "        accordion_html = accordion_element.get_attribute(\"innerHTML\")\n",
    "        accordion_soup = soup(accordion_html, \"html.parser\")\n",
    "        names = accordion_soup.find_all('h4')\n",
    "        accordion_names = [name.text for name in names]\n",
    "        return (accordion_names)\n",
    "        \n",
    "    #Case for names as links\n",
    "    elif accordion_element.find_elements_by_tag_name('a'):\n",
    "        accordion_html = accordion_element.get_attribute(\"innerHTML\")\n",
    "        accordion_soup = soup(accordion_html, \"html.parser\")\n",
    "        names = accordion_soup.find_all(\"a\")\n",
    "        accordion_names = [name.text for name in names]\n",
    "        return (accordion_names)  \n",
    "    \n",
    "    else:\n",
    "        return('X')\n",
    "        \n",
    "    #Close the driver\n",
    "    driver.close()"
   ]
  },
  {
   "cell_type": "code",
   "execution_count": 22,
   "metadata": {
    "scrolled": false
   },
   "outputs": [
    {
     "data": {
      "text/plain": [
       "['\\n    Xochitl Alvizo, Ph.D., Assistant Professor  To activate tabpage press spacebar.',\n",
       " '\\n    Amanda Baugh, Ph.D., Associate Professor  To activate tabpage press spacebar.',\n",
       " '\\n    Phyllis Herman, Ph.D., Professor  To activate tabpage press spacebar.',\n",
       " '\\n    Claire White, Ph.D., Associate Professor   To activate tabpage press spacebar.',\n",
       " '\\n    Linda Lam-Easton, Ph.D., Professor  To activate tabpage press spacebar.',\n",
       " '\\n    Kenneth Lee, Ph.D., Associate Professor  To activate tabpage press spacebar.',\n",
       " '\\n    Jody Myers, Ph.D., Professor  To activate tabpage press spacebar.',\n",
       " '\\n    Mutombo Nkulu-N Sengha, Ph.D., Professor  To activate tabpage press spacebar.',\n",
       " '\\n    Mustafa Ruzgar, Ph.D., Associate Professor  To activate tabpage press spacebar.',\n",
       " '\\n    Rick Talbott, Ph.D., Professor, Department Chair  To activate tabpage press spacebar.',\n",
       " '\\n    An Yountae, Ph.D., Assistant Professor  To activate tabpage press spacebar.',\n",
       " 'View Profile']"
      ]
     },
     "execution_count": 22,
     "metadata": {},
     "output_type": "execute_result"
    }
   ],
   "source": [
    "temp = college_data_accordion_urls[11]\n",
    "accordion_name_scrape(temp)"
   ]
  },
  {
   "cell_type": "code",
   "execution_count": 23,
   "metadata": {
    "scrolled": true
   },
   "outputs": [],
   "source": [
    "counter = 0\n",
    "for url in college_data_accordion_urls:\n",
    "    #print(\"URL \", counter)\n",
    "    accordion_name_scrape(url)\n",
    "    #counter += 1"
   ]
  },
  {
   "cell_type": "code",
   "execution_count": null,
   "metadata": {},
   "outputs": [],
   "source": [
    "#counter = 0\n",
    "#def accordion_scrape_result(url):\n",
    "    #for url in college_data_accordion_urls:\n",
    "    #print(\"URL \", counter)\n",
    "    #accordion_name_scrape(url)\n",
    "    #counter += 1"
   ]
  },
  {
   "cell_type": "code",
   "execution_count": null,
   "metadata": {},
   "outputs": [],
   "source": []
  },
  {
   "cell_type": "code",
   "execution_count": null,
   "metadata": {
    "scrolled": true
   },
   "outputs": [],
   "source": [
    "scrape_array = []\n",
    "for url in college_data_accordion_urls:\n",
    "     scrape_array.append(accordion_name_scrape(url))\n",
    "scrape_array"
   ]
  },
  {
   "cell_type": "code",
   "execution_count": null,
   "metadata": {},
   "outputs": [],
   "source": [
    "temp = scrape_array\n",
    "temp"
   ]
  },
  {
   "cell_type": "code",
   "execution_count": null,
   "metadata": {
    "scrolled": false
   },
   "outputs": [],
   "source": [
    "clean_names = []\n",
    "temp = scrape_array[2:]\n",
    "#print(scrape_array)\n",
    "for name_list in temp:\n",
    "    for name in name_list:\n",
    "        clean_names.append(name.replace(\"\\n\",\"\").replace(\"CCNS\",\" \").replace(\"CNS\",\" \").replace(\"MSW\",\" \").replace(\"MSN\",\" \").replace(\"MPH\",\" \").replace(\"FN\",\" \").replace(\"Dr.\",\" \").replace(\"D.A.\",\" \").replace(\"CPN\",\" \").replace(\"BSN\",\" \").replace(\", PhD\",\" \").replace(\"M.A.\",\" \").replace(\"J.D.\",\" \").replace(\"PHN\",\" \").replace(\"DNP\",\" \").replace(\"NNP\",\" \").replace(\"S.E.\",\" \").replace(\"MN\",\" \").replace(\"M.S.\",\" \").replace(\"PT\",\" \").replace(\"P.E.\",\" \").replace(\"To activate tabpage press spacebar.\",\" \").replace(\", RN\",\" \").replace(\"\\xa0\",\" \").replace(\"Ph.D\",\" \"))\n",
    "cleaner_names = []\n",
    "for names in clean_names:\n",
    "    bar_pos = names.find(\"|\")\n",
    "    slash_pos = names.find(\"/\")\n",
    "    dash_pos = names.find(\"-\")\n",
    "    parenth_pos = names.find(\"(\")\n",
    "    temp = names[:bar_pos]\n",
    "    temp = names[:slash_pos]\n",
    "    temp = names[:dash_pos]\n",
    "    temp = names[:parenth_pos]\n",
    "    cleaner_names.append(temp.strip())\n",
    "        \n",
    "print(cleaner_names)"
   ]
  },
  {
   "cell_type": "code",
   "execution_count": null,
   "metadata": {},
   "outputs": [],
   "source": []
  }
 ],
 "metadata": {
  "kernelspec": {
   "display_name": "Python 3",
   "language": "python",
   "name": "python3"
  },
  "language_info": {
   "codemirror_mode": {
    "name": "ipython",
    "version": 3
   },
   "file_extension": ".py",
   "mimetype": "text/x-python",
   "name": "python",
   "nbconvert_exporter": "python",
   "pygments_lexer": "ipython3",
   "version": "3.7.3"
  }
 },
 "nbformat": 4,
 "nbformat_minor": 2
}
