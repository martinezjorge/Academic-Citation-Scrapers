{
 "cells": [
  {
   "cell_type": "code",
   "execution_count": 6,
   "metadata": {},
   "outputs": [
    {
     "name": "stdout",
     "output_type": "stream",
     "text": [
      "<_io.TextIOWrapper name='all_faculty.csv' mode='r' encoding='UTF-8'>\n",
      "JSON parsed!\n",
      "JSON saved!\n"
     ]
    }
   ],
   "source": [
    "import csv  \n",
    "import json  \n",
    "import pandas as pd\n",
    "\n",
    "all_faculty = pd.read_csv('all_faculty.csv')\n",
    "    \n",
    "# Open the CSV  \n",
    "f = open( 'all_faculty.csv', 'r' )  \n",
    "# Change each fieldname to the appropriate field name. I know, so difficult.  \n",
    "reader = csv.DictReader( f, fieldnames = tuple(all_faculty.columns))  \n",
    "# Parse the CSV into JSON  \n",
    "out = json.dumps( [ row for row in reader ] )  \n",
    "print(\"JSON parsed!\")  \n",
    "# Save the JSON  \n",
    "f = open( 'all_faculty.json', 'w')  \n",
    "f.write(out)  \n",
    "print(\"JSON saved!\")  "
   ]
  },
  {
   "cell_type": "code",
   "execution_count": null,
   "metadata": {},
   "outputs": [],
   "source": []
  }
 ],
 "metadata": {
  "kernelspec": {
   "display_name": "Python 3",
   "language": "python",
   "name": "python3"
  },
  "language_info": {
   "codemirror_mode": {
    "name": "ipython",
    "version": 3
   },
   "file_extension": ".py",
   "mimetype": "text/x-python",
   "name": "python",
   "nbconvert_exporter": "python",
   "pygments_lexer": "ipython3",
   "version": "3.7.3"
  }
 },
 "nbformat": 4,
 "nbformat_minor": 2
}
