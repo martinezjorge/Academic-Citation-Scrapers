{
 "cells": [
  {
   "cell_type": "code",
   "execution_count": 1,
   "metadata": {},
   "outputs": [],
   "source": [
    "import pandas as pd\n",
    "from selenium import webdriver\n",
    "from selenium.webdriver.common.keys import Keys\n",
    "import os\n",
    "import time\n",
    "from random import randint"
   ]
  },
  {
   "cell_type": "code",
   "execution_count": 2,
   "metadata": {},
   "outputs": [],
   "source": [
    "options = webdriver.ChromeOptions()\n",
    "options.add_argument(\"download.default_directory=\" + os.getcwd() + \"/Downloads\")"
   ]
  },
  {
   "cell_type": "markdown",
   "metadata": {},
   "source": [
    "\n",
    "Process Flow\n",
    "-------------------\n",
    "Search professors from start_page by name\n",
    "Click Search\n",
    "Find the first reseach item in the research section\n",
    "Determine type of publication\n",
    "Get Abstract if Abstract exists, if not skip to next\n",
    "Click citation download link\n",
    "Select option (1 = RIS, 2 = BibTex, 3 = Plain text)\n",
    "Select option  (1 = citation 2 = citation and abstract)\n",
    "Download\n",
    "Go to most recent downloaded file\n",
    "Read text from that file\n",
    "Place citation into variable\n",
    "If abstract exists for citation place into abstract variable if no abstract found insert \"No abstract found.\""
   ]
  },
  {
   "cell_type": "markdown",
   "metadata": {},
   "source": [
    "<h2>To do</h2>\n",
    "\n",
    "faculty,citation,title,type,abstract,book,journal,date,collabs,publisher,edition,series,volume,issue,chapter,pages,issn,isbn,handle,url\n",
    "\n"
   ]
  },
  {
   "cell_type": "code",
   "execution_count": 3,
   "metadata": {},
   "outputs": [],
   "source": [
    "def google_scholar_rerunner(record,driver,j):\n",
    "    \n",
    "    # Set driver to go to start_page and search a given name with valid scholar profile    \n",
    "    google_scholar = \"https://scholar.google.com/citations?hl=en&view_op=search_authors&mauthors=&btnG=\"\n",
    "    driver.get(google_scholar)\n",
    "\n",
    "    #time.sleep(3)\n",
    "    \n",
    "    # Whether a profile is found is set to false by default\n",
    "    profile_found = False\n",
    "    search_bar = driver.find_element_by_class_name('gs_in_txt')\n",
    "    search_bar.clear()\n",
    "    search_bar.send_keys(\"\\\"\" + record.faculty.strip() + \"\\\"\" + \" CSUN\")\n",
    "    search_bar.send_keys(Keys.ENTER)\n",
    "    \n",
    "    # If there's search results\n",
    "    if not driver.find_elements_by_xpath('//*[@id=\"gsc_sa_ccl\"]/div/p[1]'):\n",
    "        # A profile was found\n",
    "        profile_found = True\n",
    "    # If there's no search results let's try again\n",
    "    else:\n",
    "        # A little wait\n",
    "        #time.sleep(3)\n",
    "        search_bar = driver.find_element_by_class_name('gs_in_txt')\n",
    "        search_bar.clear()\n",
    "        search_bar.send_keys(\"\\\"\" + record.faculty.strip() + \"\\\"\" + \" Northridge\")\n",
    "        search_bar.send_keys(Keys.ENTER)\n",
    "        if not driver.find_elements_by_xpath('//*[@id=\"gsc_sa_ccl\"]/div/p[1]'):\n",
    "            profile_found = True\n",
    "            \n",
    "    # If the profile was found\n",
    "    if profile_found:\n",
    "        #time.sleep(3)\n",
    "        view_profile_link = driver.find_element_by_xpath('//*[@id=\"gsc_sa_ccl\"]/div[1]/div/div/h3/a').get_attribute(\"href\")\n",
    "        \n",
    "        citation_collector(record, view_profile_link,j)\n",
    "    else:\n",
    "        f = open(\"google_scholar_no_results.csv\", \"a\")\n",
    "        f.write(record.faculty.strip() + \",\")\n",
    "        f.write(record.college + \",\")\n",
    "        f.write(record.department + \",\")\n",
    "        f.write(record.url + \"\\n\")\n",
    "        f.close()\n",
    "        "
   ]
  },
  {
   "cell_type": "code",
   "execution_count": 4,
   "metadata": {},
   "outputs": [],
   "source": [
    "def citation_collector(record, url,j):\n",
    "    \n",
    "    driver = webdriver.Chrome()\n",
    "    driver.implicitly_wait(5)\n",
    "    driver.get(url)\n",
    "    \n",
    "    # To get all the links we need to click the Show More multiple times to show the whole links \n",
    "    gs_bpf_wrapper = driver.find_element_by_id(\"gsc_bpf_more\")\n",
    "\n",
    "    while not gs_bpf_wrapper.get_attribute(\"disabled\"):\n",
    "        gs_bpf_wrapper.click()\n",
    "        time.sleep(3)\n",
    "\n",
    "    #pull the first citation for the page\n",
    "    view_citation_links = driver.find_elements_by_class_name('gsc_a_at')\n",
    "\n",
    "    for i in range(j,len(view_citation_links)):\n",
    "        print(i)\n",
    "\n",
    "        not_his_paper = False\n",
    "\n",
    "        citation = \"\"\n",
    "        title = view_citation_links[i].text\n",
    "        paper_type = \"\"\n",
    "        book = \"\"\n",
    "        journal = \"\"\n",
    "        date = \"\"\n",
    "        authors = \"\"\n",
    "        description = \"\"\n",
    "        publisher = \"\"\n",
    "        edition = \"\"\n",
    "        series = \"\"\n",
    "        volume = \"\"\n",
    "        issue = \"\"\n",
    "        chapter = \"\"\n",
    "        pages = \"\"\n",
    "        issn = \"\"\n",
    "        isbn = \"\"\n",
    "        handle = \"\"\n",
    "\n",
    "\n",
    "        time.sleep(1)\n",
    "        \n",
    "\n",
    "        webdriver.ActionChains(driver).move_to_element(view_citation_links[i]).click(view_citation_links[i]).perform()\n",
    "\n",
    "        \n",
    "        if driver.find_elements_by_xpath('//*[@id=\"gsc_vcd_title\"]/a'):\n",
    "            url = driver.find_element_by_xpath('//*[@id=\"gsc_vcd_title\"]/a').get_attribute(\"href\")\n",
    "        else:\n",
    "            url = driver.current_url\n",
    "        \n",
    "        \n",
    "        #time.sleep(2)\n",
    "\n",
    "        citation_table = driver.find_element_by_id(\"gsc_vcd_table\")\n",
    "        citation_table_data_objects= citation_table.find_elements_by_class_name(\"gs_scl\")\n",
    "\n",
    "        data_category = citation_table_data_objects[0].find_element_by_tag_name(\"div\")\n",
    "\n",
    "        if data_category.text == \"Authors\":\n",
    "\n",
    "            i = 0\n",
    "            for data in citation_table_data_objects:\n",
    "\n",
    "                data_category = citation_table_data_objects[i].find_element_by_tag_name(\"div\")\n",
    "\n",
    "                citation_title = driver.find_element_by_id('gsc_vcd_title')\n",
    "                title = citation_title.text\n",
    "\n",
    "                if data_category.text == \"Authors\":\n",
    "                    data_field = data.find_element_by_class_name(\"gsc_vcd_value\")\n",
    "                    if \"|\" in data_field.text:\n",
    "                        authors = data_field.text\n",
    "                        authors.replace(\"|\", \" \")\n",
    "                    else:\n",
    "                        authors = data_field.text\n",
    "                    # what second condition was i going to check here?\n",
    "                    if not record.faculty.strip() in data_field.text:\n",
    "                        not_his_paper = True\n",
    "                elif data_category.text == \"Publication date\":\n",
    "                    data_field = data.find_element_by_class_name(\"gsc_vcd_value\")\n",
    "                    if \"|\" in data_field.text:\n",
    "                        date = data_field.text\n",
    "                        date.replace(\"|\", \" \")\n",
    "                    else:\n",
    "                        date = data_field.text\n",
    "                    date = data_field.text\n",
    "                elif data_category.text == \"Publisher\":\n",
    "                    data_field = data.find_element_by_class_name(\"gsc_vcd_value\")\n",
    "                    if \"|\" in data_field.text:\n",
    "                        publisher = data_field.text\n",
    "                        publisher.replace(\"|\", \" \")\n",
    "                    else:\n",
    "                        publisher = data_field.text\n",
    "                    publisher = data_field.text\n",
    "                elif data_category.text == \"Description\":\n",
    "                    # this line of code grabs the description\n",
    "                    data_field = data.find_element_by_class_name(\"gsc_vcd_value\")\n",
    "                    data = data_field.text\n",
    "\n",
    "                    # here is where we want to go through the description and\n",
    "                    # replace every instance of \"\\n\" with \" \"\n",
    "                    desc = data.split(\"\\n\")\n",
    "                    temp = \"\"\n",
    "                    for piece in desc:\n",
    "                        temp += piece + \" \"\n",
    "                    if len(temp.split('|')) > 1: \n",
    "                        desc = temp.split('|')\n",
    "                        description = \"\"\n",
    "                        for piece in desc:\n",
    "                            description += piece + \" \"\n",
    "                    else:\n",
    "                        description = temp\n",
    "                elif data_category.text == \"Journal\":\n",
    "                    data_field = data.find_element_by_class_name(\"gsc_vcd_value\")\n",
    "                    if \"|\" in data_field.text:\n",
    "                        journal = data_field.text\n",
    "                        journal.replace(\"|\", \" \")\n",
    "                    else:\n",
    "                        journal = data_field.text\n",
    "                    journal = data_field.text\n",
    "                elif data_category.text == \"Issue\":\n",
    "                    data_field = data.find_element_by_class_name(\"gsc_vcd_value\")\n",
    "                    if \"|\" in data_field.text:\n",
    "                        issue = data_field.text\n",
    "                        issue.replace(\"|\", \" \")\n",
    "                    else:\n",
    "                        issue = data_field.text\n",
    "                    issue = data_field.text\n",
    "                elif data_category.text == \"Volume\":\n",
    "                    data_field = data.find_element_by_class_name(\"gsc_vcd_value\")\n",
    "                    if \"|\" in data_field.text:\n",
    "                        volume = data_field.text\n",
    "                        volume.replace(\"|\", \" \")\n",
    "                    else:\n",
    "                        volume = data_field.text\n",
    "                    volume = data_field.text\n",
    "                    volume = data_field.text\n",
    "                elif data_category.text == \"Pages\":\n",
    "                    data_field = data.find_element_by_class_name(\"gsc_vcd_value\")\n",
    "                    if \"|\" in data_field.text:\n",
    "                        pages = data_field.text\n",
    "                        pages.replace(\"|\", \" \")\n",
    "                    else:\n",
    "                        pages = data_field.text\n",
    "                    pages = data_field.text\n",
    "                i = i + 1\n",
    "\n",
    "            citation_file = open('google_scholar_citations.csv', \"a\")\n",
    "            citation_file.write(record.faculty.strip() + \"|\" + citation + \"|\" + title + \"|\" + paper_type + \"|\")\n",
    "            citation_file.write(description + \"|\" + book + \"|\" + journal + \"|\" + date + \"|\")\n",
    "            citation_file.write(authors + \"|\" + publisher + \"|\" + edition + \"|\" + series + \"|\")\n",
    "            citation_file.write(volume + \"|\" + issue + \"|\" + chapter + \"|\" + pages + \"|\")\n",
    "            citation_file.write(issn + \"|\" + isbn + \"|\" + handle + \"|\" + url + \"\\n\")\n",
    "            citation_file.close()\n",
    "\n",
    "\n",
    "        elif data_category.text == \"Inventors\":\n",
    "            pass\n",
    "\n",
    "        elif not_his_paper:\n",
    "            print(\"Error: Publication \", i , \" did not get captured by program; new decision tree required.\")\n",
    "\n",
    "        close_table = driver.find_element_by_id(\"gs_md_cita-d-x\")     \n",
    "        webdriver.ActionChains(driver).move_to_element(close_table).click(close_table).perform()\n",
    "        time.sleep(1)\n",
    "\n",
    "    driver.close()\n",
    "    "
   ]
  },
  {
   "cell_type": "markdown",
   "metadata": {},
   "source": [
    "[x] view_content\n",
    "\n",
    "[x] field_items\n",
    "\n",
    "[] catalog_content\n",
    "\n",
    "[x] accordion"
   ]
  },
  {
   "cell_type": "code",
   "execution_count": 5,
   "metadata": {},
   "outputs": [
    {
     "name": "stdout",
     "output_type": "stream",
     "text": [
      "Index(['faculty', 'college', 'department', 'url'], dtype='object')\n"
     ]
    }
   ],
   "source": [
    "view_content = pd.read_csv(\"catalog_content.csv\")\n",
    "view_content.head()\n",
    "print(view_content.columns)"
   ]
  },
  {
   "cell_type": "code",
   "execution_count": 6,
   "metadata": {},
   "outputs": [
    {
     "data": {
      "text/plain": [
       "faculty                                           Shadi Mahjoob\n",
       "college                          Engineering & Computer Science\n",
       "department                 Department of Mechanical Engineering\n",
       "url            https://www.csun.edu/engineering-computer-sci...\n",
       "Name: 78, dtype: object"
      ]
     },
     "execution_count": 6,
     "metadata": {},
     "output_type": "execute_result"
    }
   ],
   "source": [
    "view_content.iloc[77] # 1\n",
    "view_content.iloc[78] # 2"
   ]
  },
  {
   "cell_type": "code",
   "execution_count": 8,
   "metadata": {
    "scrolled": false
   },
   "outputs": [
    {
     "name": "stdout",
     "output_type": "stream",
     "text": [
      "115\n"
     ]
    },
    {
     "ename": "IndexError",
     "evalue": "list index out of range",
     "output_type": "error",
     "traceback": [
      "\u001b[0;31m---------------------------------------------------------------------------\u001b[0m",
      "\u001b[0;31mIndexError\u001b[0m                                Traceback (most recent call last)",
      "\u001b[0;32m<ipython-input-8-b0d2da19ad29>\u001b[0m in \u001b[0;36m<module>\u001b[0;34m\u001b[0m\n\u001b[1;32m      3\u001b[0m     \u001b[0mdriver\u001b[0m \u001b[0;34m=\u001b[0m \u001b[0mwebdriver\u001b[0m\u001b[0;34m.\u001b[0m\u001b[0mChrome\u001b[0m\u001b[0;34m(\u001b[0m\u001b[0;34m)\u001b[0m\u001b[0;34m\u001b[0m\u001b[0;34m\u001b[0m\u001b[0m\n\u001b[1;32m      4\u001b[0m     \u001b[0mdriver\u001b[0m\u001b[0;34m.\u001b[0m\u001b[0mimplicitly_wait\u001b[0m\u001b[0;34m(\u001b[0m\u001b[0;36m5\u001b[0m\u001b[0;34m)\u001b[0m\u001b[0;34m\u001b[0m\u001b[0;34m\u001b[0m\u001b[0m\n\u001b[0;32m----> 5\u001b[0;31m     \u001b[0mgoogle_scholar_rerunner\u001b[0m\u001b[0;34m(\u001b[0m\u001b[0mview_content\u001b[0m\u001b[0;34m.\u001b[0m\u001b[0miloc\u001b[0m\u001b[0;34m[\u001b[0m\u001b[0;36m240\u001b[0m\u001b[0;34m]\u001b[0m\u001b[0;34m,\u001b[0m\u001b[0mdriver\u001b[0m\u001b[0;34m,\u001b[0m\u001b[0;36m115\u001b[0m\u001b[0;34m)\u001b[0m\u001b[0;34m\u001b[0m\u001b[0;34m\u001b[0m\u001b[0m\n\u001b[0m\u001b[1;32m      6\u001b[0m \u001b[0;32mfinally\u001b[0m\u001b[0;34m:\u001b[0m\u001b[0;34m\u001b[0m\u001b[0;34m\u001b[0m\u001b[0m\n\u001b[1;32m      7\u001b[0m     \u001b[0mdriver\u001b[0m\u001b[0;34m.\u001b[0m\u001b[0mclose\u001b[0m\u001b[0;34m(\u001b[0m\u001b[0;34m)\u001b[0m\u001b[0;34m\u001b[0m\u001b[0;34m\u001b[0m\u001b[0m\n",
      "\u001b[0;32m<ipython-input-3-4031a7f29bb7>\u001b[0m in \u001b[0;36mgoogle_scholar_rerunner\u001b[0;34m(record, driver, j)\u001b[0m\n\u001b[1;32m     34\u001b[0m         \u001b[0mview_profile_link\u001b[0m \u001b[0;34m=\u001b[0m \u001b[0mdriver\u001b[0m\u001b[0;34m.\u001b[0m\u001b[0mfind_element_by_xpath\u001b[0m\u001b[0;34m(\u001b[0m\u001b[0;34m'//*[@id=\"gsc_sa_ccl\"]/div[1]/div/div/h3/a'\u001b[0m\u001b[0;34m)\u001b[0m\u001b[0;34m.\u001b[0m\u001b[0mget_attribute\u001b[0m\u001b[0;34m(\u001b[0m\u001b[0;34m\"href\"\u001b[0m\u001b[0;34m)\u001b[0m\u001b[0;34m\u001b[0m\u001b[0;34m\u001b[0m\u001b[0m\n\u001b[1;32m     35\u001b[0m \u001b[0;34m\u001b[0m\u001b[0m\n\u001b[0;32m---> 36\u001b[0;31m         \u001b[0mcitation_collector\u001b[0m\u001b[0;34m(\u001b[0m\u001b[0mrecord\u001b[0m\u001b[0;34m,\u001b[0m \u001b[0mview_profile_link\u001b[0m\u001b[0;34m,\u001b[0m\u001b[0mj\u001b[0m\u001b[0;34m)\u001b[0m\u001b[0;34m\u001b[0m\u001b[0;34m\u001b[0m\u001b[0m\n\u001b[0m\u001b[1;32m     37\u001b[0m     \u001b[0;32melse\u001b[0m\u001b[0;34m:\u001b[0m\u001b[0;34m\u001b[0m\u001b[0;34m\u001b[0m\u001b[0m\n\u001b[1;32m     38\u001b[0m         \u001b[0mf\u001b[0m \u001b[0;34m=\u001b[0m \u001b[0mopen\u001b[0m\u001b[0;34m(\u001b[0m\u001b[0;34m\"google_scholar_no_results.csv\"\u001b[0m\u001b[0;34m,\u001b[0m \u001b[0;34m\"a\"\u001b[0m\u001b[0;34m)\u001b[0m\u001b[0;34m\u001b[0m\u001b[0;34m\u001b[0m\u001b[0m\n",
      "\u001b[0;32m<ipython-input-4-d5d996c6b0fd>\u001b[0m in \u001b[0;36mcitation_collector\u001b[0;34m(record, url, j)\u001b[0m\n\u001b[1;32m     57\u001b[0m         \u001b[0mcitation_table_data_objects\u001b[0m\u001b[0;34m=\u001b[0m \u001b[0mcitation_table\u001b[0m\u001b[0;34m.\u001b[0m\u001b[0mfind_elements_by_class_name\u001b[0m\u001b[0;34m(\u001b[0m\u001b[0;34m\"gs_scl\"\u001b[0m\u001b[0;34m)\u001b[0m\u001b[0;34m\u001b[0m\u001b[0;34m\u001b[0m\u001b[0m\n\u001b[1;32m     58\u001b[0m \u001b[0;34m\u001b[0m\u001b[0m\n\u001b[0;32m---> 59\u001b[0;31m         \u001b[0mdata_category\u001b[0m \u001b[0;34m=\u001b[0m \u001b[0mcitation_table_data_objects\u001b[0m\u001b[0;34m[\u001b[0m\u001b[0;36m0\u001b[0m\u001b[0;34m]\u001b[0m\u001b[0;34m.\u001b[0m\u001b[0mfind_element_by_tag_name\u001b[0m\u001b[0;34m(\u001b[0m\u001b[0;34m\"div\"\u001b[0m\u001b[0;34m)\u001b[0m\u001b[0;34m\u001b[0m\u001b[0;34m\u001b[0m\u001b[0m\n\u001b[0m\u001b[1;32m     60\u001b[0m \u001b[0;34m\u001b[0m\u001b[0m\n\u001b[1;32m     61\u001b[0m         \u001b[0;32mif\u001b[0m \u001b[0mdata_category\u001b[0m\u001b[0;34m.\u001b[0m\u001b[0mtext\u001b[0m \u001b[0;34m==\u001b[0m \u001b[0;34m\"Authors\"\u001b[0m\u001b[0;34m:\u001b[0m\u001b[0;34m\u001b[0m\u001b[0;34m\u001b[0m\u001b[0m\n",
      "\u001b[0;31mIndexError\u001b[0m: list index out of range"
     ]
    }
   ],
   "source": [
    "# ready to run\n",
    "try:\n",
    "    driver = webdriver.Chrome()\n",
    "    driver.implicitly_wait(5)\n",
    "    google_scholar_rerunner(view_content.iloc[240],driver,115)\n",
    "finally:\n",
    "    driver.close()"
   ]
  },
  {
   "cell_type": "code",
   "execution_count": 37,
   "metadata": {},
   "outputs": [
    {
     "name": "stdout",
     "output_type": "stream",
     "text": [
      "1\n"
     ]
    }
   ],
   "source": [
    "test = \"asdasdasdasd\"\n",
    "print(len(test.split('|')))"
   ]
  },
  {
   "cell_type": "code",
   "execution_count": null,
   "metadata": {},
   "outputs": [],
   "source": []
  }
 ],
 "metadata": {
  "kernelspec": {
   "display_name": "Python 3",
   "language": "python",
   "name": "python3"
  },
  "language_info": {
   "codemirror_mode": {
    "name": "ipython",
    "version": 3
   },
   "file_extension": ".py",
   "mimetype": "text/x-python",
   "name": "python",
   "nbconvert_exporter": "python",
   "pygments_lexer": "ipython3",
   "version": "3.7.3"
  }
 },
 "nbformat": 4,
 "nbformat_minor": 2
}
