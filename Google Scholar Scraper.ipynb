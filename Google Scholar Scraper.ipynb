{
 "cells": [
  {
   "cell_type": "code",
   "execution_count": 1,
   "metadata": {},
   "outputs": [],
   "source": [
    "import pandas as pd\n",
    "from selenium import webdriver\n",
    "from selenium.webdriver.common.keys import Keys\n",
    "import os\n",
    "import time\n",
    "from random import randint"
   ]
  },
  {
   "cell_type": "code",
   "execution_count": 2,
   "metadata": {},
   "outputs": [],
   "source": [
    "options = webdriver.ChromeOptions()\n",
    "options.add_argument(\"download.default_directory=\" + os.getcwd() + \"/downloads\")"
   ]
  },
  {
   "cell_type": "markdown",
   "metadata": {},
   "source": [
    "\n",
    "Process Flow\n",
    "-------------------\n",
    "Search professors from start_page by name\n",
    "Click Search\n",
    "Find the first reseach item in the research section\n",
    "Determine type of publication\n",
    "Get Abstract if Abstract exists, if not skip to next\n",
    "Click citation download link\n",
    "Select option (1 = RIS, 2 = BibTex, 3 = Plain text)\n",
    "Select option  (1 = citation 2 = citation and abstract)\n",
    "Download\n",
    "Go to most recent downloaded file\n",
    "Read text from that file\n",
    "Place citation into variable\n",
    "If abstract exists for citation place into abstract variable if no abstract found insert \"No abstract found.\""
   ]
  },
  {
   "cell_type": "code",
   "execution_count": 43,
   "metadata": {
    "scrolled": false
   },
   "outputs": [],
   "source": [
    "def google_scholar_scraper(record):\n",
    "    \n",
    "    driver = webdriver.Chrome()\n",
    "    driver.implicitly_wait(15) # seconds loading implicitly\n",
    "    google_scholar = \"https://scholar.google.com/citations?hl=en&view_op=search_authors&mauthors=&btnG=\"\n",
    "    #Set driver to go to start_page and search a given name with valid scholar profile\n",
    "    driver.get(google_scholar)\n",
    "    #Instatiate the webdriver and set to implicitly wait for page objects to load\n",
    "\n",
    "    profile_found = False\n",
    "    \n",
    "    search_bar = driver.find_element_by_class_name('gs_in_txt')    \n",
    "    search_bar.send_keys(\"\\\"\" + record.faculty + \"\\\"\" + \" CSUN\")\n",
    "    search_bar.send_keys(Keys.ENTER)\n",
    "    \n",
    "    if not driver.find_elements_by_xpath('//*[@id=\"gsc_sa_ccl\"]/div/p[1]'):\n",
    "        profile_found = True\n",
    "    else:\n",
    "        time.sleep(10)\n",
    "        search_bar = driver.find_element_by_class_name('gs_in_txt')\n",
    "        search_bar.clear()\n",
    "        search_bar.send_keys(\"\\\"\" + record.faculty + \"\\\"\" + \" Northridge\")\n",
    "        search_bar.send_keys(Keys.ENTER)\n",
    "        if not driver.find_elements_by_xpath('//*[@id=\"gsc_sa_ccl\"]/div/p[1]'):\n",
    "            profile_found = True\n",
    "        else:\n",
    "            driver.close()\n",
    "        \n",
    "    if profile_found:\n",
    "        time.sleep(5)\n",
    "        #Set driver to click the first profile given as a search result. Will need to be modified to be more general later.\n",
    "        view_profile_link = driver.find_element_by_xpath('//*[@id=\"gsc_sa_ccl\"]/div[1]/div/div/h3/a')\n",
    "        view_profile_link.click() \n",
    "\n",
    "        # To get all the links we need to click the Show More multiple times to show the whole links \n",
    "\n",
    "        gs_bpf_wrapper = driver.find_element_by_id(\"gsc_bpf_more\")\n",
    "\n",
    "        while not gs_bpf_wrapper.get_attribute(\"disabled\"):\n",
    "            gs_bpf_wrapper.click()\n",
    "            time.sleep(3)\n",
    "\n",
    "        #pull the first citation for the page\n",
    "        view_citation_links = driver.find_elements_by_class_name('gsc_a_at')\n",
    "        #print(view_citation_links)\n",
    "\n",
    "        citations = []\n",
    "        patents = []\n",
    "        other = []\n",
    "\n",
    "        citation_file = open('google_scholar_citations.txt', \"a\")\n",
    "        patent_file = open('google_scholar_patents.txt', \"a\")\n",
    "\n",
    "        for link in view_citation_links:\n",
    "            \n",
    "            not_his_paper = False\n",
    "\n",
    "            title = link.text\n",
    "\n",
    "            citation = {\n",
    "            \"Authors\" : \"\",\n",
    "            \"Title\" : \"\",\n",
    "            \"Date\" : \"\",\n",
    "            \"Publisher\": \"\",\n",
    "            \"Description\": \"\",\n",
    "            \"Journal\": \"\",\n",
    "            \"Issue\": \"\",\n",
    "            \"Volume\":\"\",\n",
    "            \"Pages\": \"\"\n",
    "            }\n",
    "\n",
    "            patent = {\n",
    "            \"Inventors\" : \"\",\n",
    "            \"Title\" : \"\",\n",
    "            \"Date\" : \"\",\n",
    "            \"Patent Office\": \"\",\n",
    "            \"Description\": \"\",\n",
    "            \"Application Number\": \"\",\n",
    "            \"Patent Number\": \"\"\n",
    "            }\n",
    "            inventors = \"\"\n",
    "            \n",
    "            time.sleep(8)\n",
    "\n",
    "            link.click()\n",
    "            \n",
    "            time.sleep(8)\n",
    "\n",
    "            citation_table = driver.find_element_by_id(\"gsc_vcd_table\")\n",
    "            citation_table_data_objects= citation_table.find_elements_by_class_name(\"gs_scl\")\n",
    "\n",
    "            data_category = citation_table_data_objects[0].find_element_by_tag_name(\"div\")\n",
    "\n",
    "            if data_category.text == \"Authors\":\n",
    "\n",
    "                i = 0\n",
    "                for data in citation_table_data_objects:\n",
    "\n",
    "                    data_category = citation_table_data_objects[i].find_element_by_tag_name(\"div\")\n",
    "\n",
    "                    citation_title = driver.find_element_by_id('gsc_vcd_title')\n",
    "                    citation[\"Title\"] = citation_title.text\n",
    "\n",
    "                    if data_category.text == \"Authors\":\n",
    "                        data_field = data.find_element_by_class_name(\"gsc_vcd_value\")\n",
    "                        citation[\"Authors\"] = data_field.text\n",
    "                        if (not record.faculty in data_field.text) or ():\n",
    "                            not_his_paper = True\n",
    "                    elif data_category.text == \"Publication date\":\n",
    "                        data_field = data.find_element_by_class_name(\"gsc_vcd_value\")\n",
    "                        citation[\"Date\"] = data_field.text\n",
    "                    elif data_category.text == \"Publisher\":\n",
    "                        data_field = data.find_element_by_class_name(\"gsc_vcd_value\")\n",
    "                        citation[\"Publisher\"] = data_field.text\n",
    "                    elif data_category.text == \"Description\":\n",
    "                        # this line of code grabs the description\n",
    "                        data_field = data.find_element_by_class_name(\"gsc_vcd_value\")\n",
    "                        data = data_field.text\n",
    "                        \n",
    "                        # here is where we want to go through the description and\n",
    "                        # replace every instance of \"\\n\" with \" \"\n",
    "                        desc = data.split(\"\\n\")\n",
    "                        description = \"\"\n",
    "                        for piece in desc:\n",
    "                            description += piece + \" \"\n",
    "                            \n",
    "                        # saves the description into the dictionary\n",
    "                        citation[\"Description\"] = description\n",
    "                    elif data_category.text == \"Journal\":\n",
    "                        data_field = data.find_element_by_class_name(\"gsc_vcd_value\")\n",
    "                        citation[\"Journal\"] = data_field.text\n",
    "                    elif data_category.text == \"Issue\":\n",
    "                        data_field = data.find_element_by_class_name(\"gsc_vcd_value\")\n",
    "                        citation[\"Issue\"] = data_field.text\n",
    "                    elif data_category.text == \"Volume\":\n",
    "                        data_field = data.find_element_by_class_name(\"gsc_vcd_value\")\n",
    "                        citation[\"Volume\"] = data_field.text\n",
    "                    elif data_category.text == \"Pages\":\n",
    "                        data_field = data.find_element_by_class_name(\"gsc_vcd_value\")\n",
    "                        citation[\"Pages\"] = data_field.text\n",
    "                    i = i + 1\n",
    "                    \n",
    "                #if not not_his_paper:\n",
    "                \n",
    "                # remember to re-indent into the if statement\n",
    "                citation_record = record.faculty + \"|\" + citation['Title'] + \"|\" + citation['Authors'] + \"|\" + citation['Date'] + \"|\" + citation['Journal'] + \"|\" + citation['Volume'] + \"|\" + citation['Issue'] + \"|\" + citation['Pages'] + \"|\" + citation['Publisher'] + \"|\" + citation['Description'] + \"\\n\"\n",
    "                citation_file.write(citation_record)\n",
    "\n",
    "            elif data_category.text == \"Inventors\":\n",
    "\n",
    "                for data in citation_table_data_objects:\n",
    "\n",
    "                    i = 0\n",
    "\n",
    "                    data_category = citation_table_data_objects[i].find_element_by_tag_name(\"div\")\n",
    "\n",
    "                    citation_title = driver.find_element_by_id('gsc_vcd_title')\n",
    "                    citation[\"Title\"] = citation_title.text\n",
    "\n",
    "                    if data_category.text == \"Inventors\":\n",
    "                        data_field = data.find_element_by_class_name(\"gsc_vcd_value\")\n",
    "                        inventors = data_field.text\n",
    "                    elif data_category.text == \"Publication date\":\n",
    "                        data_field = data.find_element_by_class_name(\"gsc_vcd_value\")\n",
    "                        patent[\"Date\"] = data_field.text\n",
    "                    elif data_category.text == \"Patent office\":\n",
    "                        data_field = data.find_element_by_class_name(\"gsc_vcd_value\")\n",
    "                        patent[\"Patent Office\"] = data_field.text\n",
    "                    elif data_category.text == \"Description\":\n",
    "                        data_field = data.find_element_by_class_name(\"gsc_vcd_value\")\n",
    "                        patent[\"Description\"] = data_field.text\n",
    "                    elif data_category.text == \"Application number\":\n",
    "                        data_field = data.find_element_by_class_name(\"gsc_vcd_value\")\n",
    "                        patent[\"Application Number\"] = data_field.text\n",
    "                    elif data_category.text == \"Patent number\":\n",
    "                        data_field = data.find_element_by_class_name(\"gsc_vcd_value\")\n",
    "                        patent[\"Patent Number\"] = data_field.text\n",
    "\n",
    "                    # this is where we would store this record in a pandas dataframe\n",
    "                    i += 1\n",
    "                    \n",
    "                #if not not_his_paper:\n",
    "                \n",
    "                # remember to re-indent into the if statement\n",
    "                patent_record = record.faculty + \"|\" + patent['Title'] + \"|\" + patent['Inventors'] + \"|\" + patent['Date'] + \"|\" + patent['Patent Office'] + \"|\" + patent['Description'] + \"|\" + patent['Application Number'] + \"|\" + patent['Patent Number'] + \"\\n\"\n",
    "                patent_file.write(patent_record)\n",
    "\n",
    "\n",
    "            elif not_his_paper:\n",
    "                print(\"Error: Publication \", i , \" did not get captured by program; new decision tree required.\")\n",
    "\n",
    "            close_table = driver.find_element_by_id(\"gs_md_cita-d-x\")     \n",
    "            close_table.click()\n",
    "            time.sleep(3)\n",
    "\n",
    "        citation_file.close()\n",
    "        patent_file.close()    \n",
    "        driver.close()\n",
    "    else:\n",
    "        f = open(\"google_scholar_no_results.csv\", \"a\")\n",
    "        f.write(record.faculty.strip() + \",\")\n",
    "        f.write(record.college + \",\")\n",
    "        f.write(record.department + \",\")\n",
    "        f.write(record.url + \"\\n\")\n",
    "        f.close()"
   ]
  },
  {
   "cell_type": "code",
   "execution_count": 38,
   "metadata": {},
   "outputs": [
    {
     "name": "stdout",
     "output_type": "stream",
     "text": [
      "Index(['faculty', 'college', 'department', 'url'], dtype='object')\n"
     ]
    }
   ],
   "source": [
    "view_content = pd.read_csv(\"field_items.csv\")\n",
    "view_content.head()\n",
    "print(view_content.columns)"
   ]
  },
  {
   "cell_type": "code",
   "execution_count": 39,
   "metadata": {},
   "outputs": [
    {
     "data": {
      "text/plain": [
       "faculty                              Nadia (Nadejda) Fedortsova\n",
       "college                              Health & Human Development\n",
       "department                        Department of Health Sciences\n",
       "url            https://www.csun.edu/health-human-development...\n",
       "Name: 338, dtype: object"
      ]
     },
     "execution_count": 39,
     "metadata": {},
     "output_type": "execute_result"
    }
   ],
   "source": [
    "view_content.iloc[338]"
   ]
  },
  {
   "cell_type": "markdown",
   "metadata": {},
   "source": [
    "last person  Nadia (Nadejda) Fedortsova"
   ]
  },
  {
   "cell_type": "code",
   "execution_count": 42,
   "metadata": {},
   "outputs": [
    {
     "ename": "NoSuchWindowException",
     "evalue": "Message: no such window: target window already closed\nfrom unknown error: web view not found\n  (Session info: chrome=73.0.3683.103)\n  (Driver info: chromedriver=73.0.3683.68 (47787ec04b6e38e22703e856e101e840b65afe72),platform=Linux 4.15.0-50-generic x86_64)\n",
     "output_type": "error",
     "traceback": [
      "\u001b[0;31m---------------------------------------------------------------------------\u001b[0m",
      "\u001b[0;31mNoSuchWindowException\u001b[0m                     Traceback (most recent call last)",
      "\u001b[0;32m<ipython-input-42-c22739e31e18>\u001b[0m in \u001b[0;36m<module>\u001b[0;34m\u001b[0m\n\u001b[1;32m      1\u001b[0m \u001b[0;32mfor\u001b[0m \u001b[0mi\u001b[0m \u001b[0;32min\u001b[0m \u001b[0mrange\u001b[0m\u001b[0;34m(\u001b[0m\u001b[0;36m338\u001b[0m\u001b[0;34m,\u001b[0m\u001b[0mview_content\u001b[0m\u001b[0;34m.\u001b[0m\u001b[0mshape\u001b[0m\u001b[0;34m[\u001b[0m\u001b[0;36m0\u001b[0m\u001b[0;34m]\u001b[0m\u001b[0;34m)\u001b[0m\u001b[0;34m:\u001b[0m\u001b[0;34m\u001b[0m\u001b[0;34m\u001b[0m\u001b[0m\n\u001b[0;32m----> 2\u001b[0;31m     \u001b[0mgoogle_scholar_scraper\u001b[0m\u001b[0;34m(\u001b[0m\u001b[0mview_content\u001b[0m\u001b[0;34m.\u001b[0m\u001b[0miloc\u001b[0m\u001b[0;34m[\u001b[0m\u001b[0mi\u001b[0m\u001b[0;34m]\u001b[0m\u001b[0;34m)\u001b[0m\u001b[0;34m\u001b[0m\u001b[0;34m\u001b[0m\u001b[0m\n\u001b[0m",
      "\u001b[0;32m<ipython-input-37-619db6e39586>\u001b[0m in \u001b[0;36mgoogle_scholar_scraper\u001b[0;34m(record)\u001b[0m\n\u001b[1;32m     29\u001b[0m     \u001b[0;32mif\u001b[0m \u001b[0mprofile_found\u001b[0m\u001b[0;34m:\u001b[0m\u001b[0;34m\u001b[0m\u001b[0;34m\u001b[0m\u001b[0m\n\u001b[1;32m     30\u001b[0m         \u001b[0;31m#Set driver to click the first profile given as a search result. Will need to be modified to be more general later.\u001b[0m\u001b[0;34m\u001b[0m\u001b[0;34m\u001b[0m\u001b[0;34m\u001b[0m\u001b[0m\n\u001b[0;32m---> 31\u001b[0;31m         \u001b[0mview_profile_link\u001b[0m \u001b[0;34m=\u001b[0m \u001b[0mdriver\u001b[0m\u001b[0;34m.\u001b[0m\u001b[0mfind_element_by_xpath\u001b[0m\u001b[0;34m(\u001b[0m\u001b[0;34m'//*[@id=\"gsc_sa_ccl\"]/div[1]/div/div/h3/a'\u001b[0m\u001b[0;34m)\u001b[0m\u001b[0;34m\u001b[0m\u001b[0;34m\u001b[0m\u001b[0m\n\u001b[0m\u001b[1;32m     32\u001b[0m         \u001b[0mview_profile_link\u001b[0m\u001b[0;34m.\u001b[0m\u001b[0mclick\u001b[0m\u001b[0;34m(\u001b[0m\u001b[0;34m)\u001b[0m\u001b[0;34m\u001b[0m\u001b[0;34m\u001b[0m\u001b[0m\n\u001b[1;32m     33\u001b[0m \u001b[0;34m\u001b[0m\u001b[0m\n",
      "\u001b[0;32m~/anaconda3/lib/python3.7/site-packages/selenium/webdriver/remote/webdriver.py\u001b[0m in \u001b[0;36mfind_element_by_xpath\u001b[0;34m(self, xpath)\u001b[0m\n\u001b[1;32m    392\u001b[0m             \u001b[0melement\u001b[0m \u001b[0;34m=\u001b[0m \u001b[0mdriver\u001b[0m\u001b[0;34m.\u001b[0m\u001b[0mfind_element_by_xpath\u001b[0m\u001b[0;34m(\u001b[0m\u001b[0;34m'//div/td[1]'\u001b[0m\u001b[0;34m)\u001b[0m\u001b[0;34m\u001b[0m\u001b[0;34m\u001b[0m\u001b[0m\n\u001b[1;32m    393\u001b[0m         \"\"\"\n\u001b[0;32m--> 394\u001b[0;31m         \u001b[0;32mreturn\u001b[0m \u001b[0mself\u001b[0m\u001b[0;34m.\u001b[0m\u001b[0mfind_element\u001b[0m\u001b[0;34m(\u001b[0m\u001b[0mby\u001b[0m\u001b[0;34m=\u001b[0m\u001b[0mBy\u001b[0m\u001b[0;34m.\u001b[0m\u001b[0mXPATH\u001b[0m\u001b[0;34m,\u001b[0m \u001b[0mvalue\u001b[0m\u001b[0;34m=\u001b[0m\u001b[0mxpath\u001b[0m\u001b[0;34m)\u001b[0m\u001b[0;34m\u001b[0m\u001b[0;34m\u001b[0m\u001b[0m\n\u001b[0m\u001b[1;32m    395\u001b[0m \u001b[0;34m\u001b[0m\u001b[0m\n\u001b[1;32m    396\u001b[0m     \u001b[0;32mdef\u001b[0m \u001b[0mfind_elements_by_xpath\u001b[0m\u001b[0;34m(\u001b[0m\u001b[0mself\u001b[0m\u001b[0;34m,\u001b[0m \u001b[0mxpath\u001b[0m\u001b[0;34m)\u001b[0m\u001b[0;34m:\u001b[0m\u001b[0;34m\u001b[0m\u001b[0;34m\u001b[0m\u001b[0m\n",
      "\u001b[0;32m~/anaconda3/lib/python3.7/site-packages/selenium/webdriver/remote/webdriver.py\u001b[0m in \u001b[0;36mfind_element\u001b[0;34m(self, by, value)\u001b[0m\n\u001b[1;32m    976\u001b[0m         return self.execute(Command.FIND_ELEMENT, {\n\u001b[1;32m    977\u001b[0m             \u001b[0;34m'using'\u001b[0m\u001b[0;34m:\u001b[0m \u001b[0mby\u001b[0m\u001b[0;34m,\u001b[0m\u001b[0;34m\u001b[0m\u001b[0;34m\u001b[0m\u001b[0m\n\u001b[0;32m--> 978\u001b[0;31m             'value': value})['value']\n\u001b[0m\u001b[1;32m    979\u001b[0m \u001b[0;34m\u001b[0m\u001b[0m\n\u001b[1;32m    980\u001b[0m     \u001b[0;32mdef\u001b[0m \u001b[0mfind_elements\u001b[0m\u001b[0;34m(\u001b[0m\u001b[0mself\u001b[0m\u001b[0;34m,\u001b[0m \u001b[0mby\u001b[0m\u001b[0;34m=\u001b[0m\u001b[0mBy\u001b[0m\u001b[0;34m.\u001b[0m\u001b[0mID\u001b[0m\u001b[0;34m,\u001b[0m \u001b[0mvalue\u001b[0m\u001b[0;34m=\u001b[0m\u001b[0;32mNone\u001b[0m\u001b[0;34m)\u001b[0m\u001b[0;34m:\u001b[0m\u001b[0;34m\u001b[0m\u001b[0;34m\u001b[0m\u001b[0m\n",
      "\u001b[0;32m~/anaconda3/lib/python3.7/site-packages/selenium/webdriver/remote/webdriver.py\u001b[0m in \u001b[0;36mexecute\u001b[0;34m(self, driver_command, params)\u001b[0m\n\u001b[1;32m    319\u001b[0m         \u001b[0mresponse\u001b[0m \u001b[0;34m=\u001b[0m \u001b[0mself\u001b[0m\u001b[0;34m.\u001b[0m\u001b[0mcommand_executor\u001b[0m\u001b[0;34m.\u001b[0m\u001b[0mexecute\u001b[0m\u001b[0;34m(\u001b[0m\u001b[0mdriver_command\u001b[0m\u001b[0;34m,\u001b[0m \u001b[0mparams\u001b[0m\u001b[0;34m)\u001b[0m\u001b[0;34m\u001b[0m\u001b[0;34m\u001b[0m\u001b[0m\n\u001b[1;32m    320\u001b[0m         \u001b[0;32mif\u001b[0m \u001b[0mresponse\u001b[0m\u001b[0;34m:\u001b[0m\u001b[0;34m\u001b[0m\u001b[0;34m\u001b[0m\u001b[0m\n\u001b[0;32m--> 321\u001b[0;31m             \u001b[0mself\u001b[0m\u001b[0;34m.\u001b[0m\u001b[0merror_handler\u001b[0m\u001b[0;34m.\u001b[0m\u001b[0mcheck_response\u001b[0m\u001b[0;34m(\u001b[0m\u001b[0mresponse\u001b[0m\u001b[0;34m)\u001b[0m\u001b[0;34m\u001b[0m\u001b[0;34m\u001b[0m\u001b[0m\n\u001b[0m\u001b[1;32m    322\u001b[0m             response['value'] = self._unwrap_value(\n\u001b[1;32m    323\u001b[0m                 response.get('value', None))\n",
      "\u001b[0;32m~/anaconda3/lib/python3.7/site-packages/selenium/webdriver/remote/errorhandler.py\u001b[0m in \u001b[0;36mcheck_response\u001b[0;34m(self, response)\u001b[0m\n\u001b[1;32m    240\u001b[0m                 \u001b[0malert_text\u001b[0m \u001b[0;34m=\u001b[0m \u001b[0mvalue\u001b[0m\u001b[0;34m[\u001b[0m\u001b[0;34m'alert'\u001b[0m\u001b[0;34m]\u001b[0m\u001b[0;34m.\u001b[0m\u001b[0mget\u001b[0m\u001b[0;34m(\u001b[0m\u001b[0;34m'text'\u001b[0m\u001b[0;34m)\u001b[0m\u001b[0;34m\u001b[0m\u001b[0;34m\u001b[0m\u001b[0m\n\u001b[1;32m    241\u001b[0m             \u001b[0;32mraise\u001b[0m \u001b[0mexception_class\u001b[0m\u001b[0;34m(\u001b[0m\u001b[0mmessage\u001b[0m\u001b[0;34m,\u001b[0m \u001b[0mscreen\u001b[0m\u001b[0;34m,\u001b[0m \u001b[0mstacktrace\u001b[0m\u001b[0;34m,\u001b[0m \u001b[0malert_text\u001b[0m\u001b[0;34m)\u001b[0m\u001b[0;34m\u001b[0m\u001b[0;34m\u001b[0m\u001b[0m\n\u001b[0;32m--> 242\u001b[0;31m         \u001b[0;32mraise\u001b[0m \u001b[0mexception_class\u001b[0m\u001b[0;34m(\u001b[0m\u001b[0mmessage\u001b[0m\u001b[0;34m,\u001b[0m \u001b[0mscreen\u001b[0m\u001b[0;34m,\u001b[0m \u001b[0mstacktrace\u001b[0m\u001b[0;34m)\u001b[0m\u001b[0;34m\u001b[0m\u001b[0;34m\u001b[0m\u001b[0m\n\u001b[0m\u001b[1;32m    243\u001b[0m \u001b[0;34m\u001b[0m\u001b[0m\n\u001b[1;32m    244\u001b[0m     \u001b[0;32mdef\u001b[0m \u001b[0m_value_or_default\u001b[0m\u001b[0;34m(\u001b[0m\u001b[0mself\u001b[0m\u001b[0;34m,\u001b[0m \u001b[0mobj\u001b[0m\u001b[0;34m,\u001b[0m \u001b[0mkey\u001b[0m\u001b[0;34m,\u001b[0m \u001b[0mdefault\u001b[0m\u001b[0;34m)\u001b[0m\u001b[0;34m:\u001b[0m\u001b[0;34m\u001b[0m\u001b[0;34m\u001b[0m\u001b[0m\n",
      "\u001b[0;31mNoSuchWindowException\u001b[0m: Message: no such window: target window already closed\nfrom unknown error: web view not found\n  (Session info: chrome=73.0.3683.103)\n  (Driver info: chromedriver=73.0.3683.68 (47787ec04b6e38e22703e856e101e840b65afe72),platform=Linux 4.15.0-50-generic x86_64)\n"
     ]
    }
   ],
   "source": [
    "for i in range(338,view_content.shape[0]):\n",
    "    google_scholar_scraper(view_content.iloc[i])"
   ]
  },
  {
   "cell_type": "code",
   "execution_count": 29,
   "metadata": {},
   "outputs": [],
   "source": [
    "data = \"My name is Jorge Martinez\""
   ]
  },
  {
   "cell_type": "code",
   "execution_count": 30,
   "metadata": {},
   "outputs": [
    {
     "name": "stdout",
     "output_type": "stream",
     "text": [
      "False\n"
     ]
    }
   ],
   "source": [
    "not_his_paper = True\n",
    "if \"Jorge\" in data:\n",
    "    not_his_paper = False\n",
    "print(not_his_paper)"
   ]
  },
  {
   "cell_type": "code",
   "execution_count": 44,
   "metadata": {},
   "outputs": [
    {
     "ename": "NoSuchElementException",
     "evalue": "Message: no such element: Unable to locate element: {\"method\":\"xpath\",\"selector\":\"//*[@id=\"gsc_sa_ccl\"]/div[1]/div/div/h3/a\"}\n  (Session info: chrome=73.0.3683.103)\n  (Driver info: chromedriver=73.0.3683.68 (47787ec04b6e38e22703e856e101e840b65afe72),platform=Linux 4.15.0-50-generic x86_64)\n",
     "output_type": "error",
     "traceback": [
      "\u001b[0;31m---------------------------------------------------------------------------\u001b[0m",
      "\u001b[0;31mNoSuchElementException\u001b[0m                    Traceback (most recent call last)",
      "\u001b[0;32m<ipython-input-44-8ccaec8aedaa>\u001b[0m in \u001b[0;36m<module>\u001b[0;34m\u001b[0m\n\u001b[0;32m----> 1\u001b[0;31m \u001b[0mgoogle_scholar_scraper\u001b[0m\u001b[0;34m(\u001b[0m\u001b[0mview_content\u001b[0m\u001b[0;34m.\u001b[0m\u001b[0miloc\u001b[0m\u001b[0;34m[\u001b[0m\u001b[0;36m338\u001b[0m\u001b[0;34m]\u001b[0m\u001b[0;34m)\u001b[0m\u001b[0;34m\u001b[0m\u001b[0;34m\u001b[0m\u001b[0m\n\u001b[0m",
      "\u001b[0;32m<ipython-input-43-9e27f0048e87>\u001b[0m in \u001b[0;36mgoogle_scholar_scraper\u001b[0;34m(record)\u001b[0m\n\u001b[1;32m     30\u001b[0m         \u001b[0mtime\u001b[0m\u001b[0;34m.\u001b[0m\u001b[0msleep\u001b[0m\u001b[0;34m(\u001b[0m\u001b[0;36m5\u001b[0m\u001b[0;34m)\u001b[0m\u001b[0;34m\u001b[0m\u001b[0;34m\u001b[0m\u001b[0m\n\u001b[1;32m     31\u001b[0m         \u001b[0;31m#Set driver to click the first profile given as a search result. Will need to be modified to be more general later.\u001b[0m\u001b[0;34m\u001b[0m\u001b[0;34m\u001b[0m\u001b[0;34m\u001b[0m\u001b[0m\n\u001b[0;32m---> 32\u001b[0;31m         \u001b[0mview_profile_link\u001b[0m \u001b[0;34m=\u001b[0m \u001b[0mdriver\u001b[0m\u001b[0;34m.\u001b[0m\u001b[0mfind_element_by_xpath\u001b[0m\u001b[0;34m(\u001b[0m\u001b[0;34m'//*[@id=\"gsc_sa_ccl\"]/div[1]/div/div/h3/a'\u001b[0m\u001b[0;34m)\u001b[0m\u001b[0;34m\u001b[0m\u001b[0;34m\u001b[0m\u001b[0m\n\u001b[0m\u001b[1;32m     33\u001b[0m         \u001b[0mview_profile_link\u001b[0m\u001b[0;34m.\u001b[0m\u001b[0mclick\u001b[0m\u001b[0;34m(\u001b[0m\u001b[0;34m)\u001b[0m\u001b[0;34m\u001b[0m\u001b[0;34m\u001b[0m\u001b[0m\n\u001b[1;32m     34\u001b[0m \u001b[0;34m\u001b[0m\u001b[0m\n",
      "\u001b[0;32m~/anaconda3/lib/python3.7/site-packages/selenium/webdriver/remote/webdriver.py\u001b[0m in \u001b[0;36mfind_element_by_xpath\u001b[0;34m(self, xpath)\u001b[0m\n\u001b[1;32m    392\u001b[0m             \u001b[0melement\u001b[0m \u001b[0;34m=\u001b[0m \u001b[0mdriver\u001b[0m\u001b[0;34m.\u001b[0m\u001b[0mfind_element_by_xpath\u001b[0m\u001b[0;34m(\u001b[0m\u001b[0;34m'//div/td[1]'\u001b[0m\u001b[0;34m)\u001b[0m\u001b[0;34m\u001b[0m\u001b[0;34m\u001b[0m\u001b[0m\n\u001b[1;32m    393\u001b[0m         \"\"\"\n\u001b[0;32m--> 394\u001b[0;31m         \u001b[0;32mreturn\u001b[0m \u001b[0mself\u001b[0m\u001b[0;34m.\u001b[0m\u001b[0mfind_element\u001b[0m\u001b[0;34m(\u001b[0m\u001b[0mby\u001b[0m\u001b[0;34m=\u001b[0m\u001b[0mBy\u001b[0m\u001b[0;34m.\u001b[0m\u001b[0mXPATH\u001b[0m\u001b[0;34m,\u001b[0m \u001b[0mvalue\u001b[0m\u001b[0;34m=\u001b[0m\u001b[0mxpath\u001b[0m\u001b[0;34m)\u001b[0m\u001b[0;34m\u001b[0m\u001b[0;34m\u001b[0m\u001b[0m\n\u001b[0m\u001b[1;32m    395\u001b[0m \u001b[0;34m\u001b[0m\u001b[0m\n\u001b[1;32m    396\u001b[0m     \u001b[0;32mdef\u001b[0m \u001b[0mfind_elements_by_xpath\u001b[0m\u001b[0;34m(\u001b[0m\u001b[0mself\u001b[0m\u001b[0;34m,\u001b[0m \u001b[0mxpath\u001b[0m\u001b[0;34m)\u001b[0m\u001b[0;34m:\u001b[0m\u001b[0;34m\u001b[0m\u001b[0;34m\u001b[0m\u001b[0m\n",
      "\u001b[0;32m~/anaconda3/lib/python3.7/site-packages/selenium/webdriver/remote/webdriver.py\u001b[0m in \u001b[0;36mfind_element\u001b[0;34m(self, by, value)\u001b[0m\n\u001b[1;32m    976\u001b[0m         return self.execute(Command.FIND_ELEMENT, {\n\u001b[1;32m    977\u001b[0m             \u001b[0;34m'using'\u001b[0m\u001b[0;34m:\u001b[0m \u001b[0mby\u001b[0m\u001b[0;34m,\u001b[0m\u001b[0;34m\u001b[0m\u001b[0;34m\u001b[0m\u001b[0m\n\u001b[0;32m--> 978\u001b[0;31m             'value': value})['value']\n\u001b[0m\u001b[1;32m    979\u001b[0m \u001b[0;34m\u001b[0m\u001b[0m\n\u001b[1;32m    980\u001b[0m     \u001b[0;32mdef\u001b[0m \u001b[0mfind_elements\u001b[0m\u001b[0;34m(\u001b[0m\u001b[0mself\u001b[0m\u001b[0;34m,\u001b[0m \u001b[0mby\u001b[0m\u001b[0;34m=\u001b[0m\u001b[0mBy\u001b[0m\u001b[0;34m.\u001b[0m\u001b[0mID\u001b[0m\u001b[0;34m,\u001b[0m \u001b[0mvalue\u001b[0m\u001b[0;34m=\u001b[0m\u001b[0;32mNone\u001b[0m\u001b[0;34m)\u001b[0m\u001b[0;34m:\u001b[0m\u001b[0;34m\u001b[0m\u001b[0;34m\u001b[0m\u001b[0m\n",
      "\u001b[0;32m~/anaconda3/lib/python3.7/site-packages/selenium/webdriver/remote/webdriver.py\u001b[0m in \u001b[0;36mexecute\u001b[0;34m(self, driver_command, params)\u001b[0m\n\u001b[1;32m    319\u001b[0m         \u001b[0mresponse\u001b[0m \u001b[0;34m=\u001b[0m \u001b[0mself\u001b[0m\u001b[0;34m.\u001b[0m\u001b[0mcommand_executor\u001b[0m\u001b[0;34m.\u001b[0m\u001b[0mexecute\u001b[0m\u001b[0;34m(\u001b[0m\u001b[0mdriver_command\u001b[0m\u001b[0;34m,\u001b[0m \u001b[0mparams\u001b[0m\u001b[0;34m)\u001b[0m\u001b[0;34m\u001b[0m\u001b[0;34m\u001b[0m\u001b[0m\n\u001b[1;32m    320\u001b[0m         \u001b[0;32mif\u001b[0m \u001b[0mresponse\u001b[0m\u001b[0;34m:\u001b[0m\u001b[0;34m\u001b[0m\u001b[0;34m\u001b[0m\u001b[0m\n\u001b[0;32m--> 321\u001b[0;31m             \u001b[0mself\u001b[0m\u001b[0;34m.\u001b[0m\u001b[0merror_handler\u001b[0m\u001b[0;34m.\u001b[0m\u001b[0mcheck_response\u001b[0m\u001b[0;34m(\u001b[0m\u001b[0mresponse\u001b[0m\u001b[0;34m)\u001b[0m\u001b[0;34m\u001b[0m\u001b[0;34m\u001b[0m\u001b[0m\n\u001b[0m\u001b[1;32m    322\u001b[0m             response['value'] = self._unwrap_value(\n\u001b[1;32m    323\u001b[0m                 response.get('value', None))\n",
      "\u001b[0;32m~/anaconda3/lib/python3.7/site-packages/selenium/webdriver/remote/errorhandler.py\u001b[0m in \u001b[0;36mcheck_response\u001b[0;34m(self, response)\u001b[0m\n\u001b[1;32m    240\u001b[0m                 \u001b[0malert_text\u001b[0m \u001b[0;34m=\u001b[0m \u001b[0mvalue\u001b[0m\u001b[0;34m[\u001b[0m\u001b[0;34m'alert'\u001b[0m\u001b[0;34m]\u001b[0m\u001b[0;34m.\u001b[0m\u001b[0mget\u001b[0m\u001b[0;34m(\u001b[0m\u001b[0;34m'text'\u001b[0m\u001b[0;34m)\u001b[0m\u001b[0;34m\u001b[0m\u001b[0;34m\u001b[0m\u001b[0m\n\u001b[1;32m    241\u001b[0m             \u001b[0;32mraise\u001b[0m \u001b[0mexception_class\u001b[0m\u001b[0;34m(\u001b[0m\u001b[0mmessage\u001b[0m\u001b[0;34m,\u001b[0m \u001b[0mscreen\u001b[0m\u001b[0;34m,\u001b[0m \u001b[0mstacktrace\u001b[0m\u001b[0;34m,\u001b[0m \u001b[0malert_text\u001b[0m\u001b[0;34m)\u001b[0m\u001b[0;34m\u001b[0m\u001b[0;34m\u001b[0m\u001b[0m\n\u001b[0;32m--> 242\u001b[0;31m         \u001b[0;32mraise\u001b[0m \u001b[0mexception_class\u001b[0m\u001b[0;34m(\u001b[0m\u001b[0mmessage\u001b[0m\u001b[0;34m,\u001b[0m \u001b[0mscreen\u001b[0m\u001b[0;34m,\u001b[0m \u001b[0mstacktrace\u001b[0m\u001b[0;34m)\u001b[0m\u001b[0;34m\u001b[0m\u001b[0;34m\u001b[0m\u001b[0m\n\u001b[0m\u001b[1;32m    243\u001b[0m \u001b[0;34m\u001b[0m\u001b[0m\n\u001b[1;32m    244\u001b[0m     \u001b[0;32mdef\u001b[0m \u001b[0m_value_or_default\u001b[0m\u001b[0;34m(\u001b[0m\u001b[0mself\u001b[0m\u001b[0;34m,\u001b[0m \u001b[0mobj\u001b[0m\u001b[0;34m,\u001b[0m \u001b[0mkey\u001b[0m\u001b[0;34m,\u001b[0m \u001b[0mdefault\u001b[0m\u001b[0;34m)\u001b[0m\u001b[0;34m:\u001b[0m\u001b[0;34m\u001b[0m\u001b[0;34m\u001b[0m\u001b[0m\n",
      "\u001b[0;31mNoSuchElementException\u001b[0m: Message: no such element: Unable to locate element: {\"method\":\"xpath\",\"selector\":\"//*[@id=\"gsc_sa_ccl\"]/div[1]/div/div/h3/a\"}\n  (Session info: chrome=73.0.3683.103)\n  (Driver info: chromedriver=73.0.3683.68 (47787ec04b6e38e22703e856e101e840b65afe72),platform=Linux 4.15.0-50-generic x86_64)\n"
     ]
    }
   ],
   "source": [
    "google_scholar_scraper(view_content.iloc[338])"
   ]
  },
  {
   "cell_type": "markdown",
   "metadata": {},
   "source": [
    "I got banned from Google Scholar at home, at 338 of field_items"
   ]
  }
 ],
 "metadata": {
  "kernelspec": {
   "display_name": "Python 3",
   "language": "python",
   "name": "python3"
  },
  "language_info": {
   "codemirror_mode": {
    "name": "ipython",
    "version": 3
   },
   "file_extension": ".py",
   "mimetype": "text/x-python",
   "name": "python",
   "nbconvert_exporter": "python",
   "pygments_lexer": "ipython3",
   "version": "3.7.3"
  }
 },
 "nbformat": 4,
 "nbformat_minor": 2
}
