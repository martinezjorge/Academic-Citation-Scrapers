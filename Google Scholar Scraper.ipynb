{
 "cells": [
  {
   "cell_type": "code",
   "execution_count": 17,
   "metadata": {},
   "outputs": [],
   "source": [
    "import pandas as pd\n",
    "from selenium import webdriver\n",
    "from selenium.webdriver.common.keys import Keys\n",
    "import os\n",
    "import time\n",
    "from random import randint"
   ]
  },
  {
   "cell_type": "code",
   "execution_count": 18,
   "metadata": {},
   "outputs": [],
   "source": [
    "options = webdriver.ChromeOptions()\n",
    "options.add_argument(\"download.default_directory=\" + os.getcwd() + \"/Downloads\")"
   ]
  },
  {
   "cell_type": "markdown",
   "metadata": {},
   "source": [
    "\n",
    "Process Flow\n",
    "-------------------\n",
    "Search professors from start_page by name\n",
    "Click Search\n",
    "Find the first reseach item in the research section\n",
    "Determine type of publication\n",
    "Get Abstract if Abstract exists, if not skip to next\n",
    "Click citation download link\n",
    "Select option (1 = RIS, 2 = BibTex, 3 = Plain text)\n",
    "Select option  (1 = citation 2 = citation and abstract)\n",
    "Download\n",
    "Go to most recent downloaded file\n",
    "Read text from that file\n",
    "Place citation into variable\n",
    "If abstract exists for citation place into abstract variable if no abstract found insert \"No abstract found.\""
   ]
  },
  {
   "cell_type": "markdown",
   "metadata": {},
   "source": [
    "<h2>To do</h2>\n",
    "\n",
    "faculty,citation,title,type,abstract,book,journal,date,collabs,publisher,edition,series,volume,issue,chapter,pages,issn,isbn,handle,url\n",
    "\n"
   ]
  },
  {
   "cell_type": "code",
   "execution_count": 19,
   "metadata": {},
   "outputs": [],
   "source": [
    "def google_scholar_scraper(record,driver):\n",
    "    \n",
    "    # Set driver to go to start_page and search a given name with valid scholar profile    \n",
    "    google_scholar = \"https://scholar.google.com/citations?hl=en&view_op=search_authors&mauthors=&btnG=\"\n",
    "    driver.get(google_scholar)\n",
    "\n",
    "    time.sleep(randint(4,7))\n",
    "    \n",
    "    # Whether a profile is found is set to false by default\n",
    "    profile_found = False\n",
    "    search_bar = driver.find_element_by_class_name('gs_in_txt')\n",
    "    search_bar.clear()\n",
    "    search_bar.send_keys(\"\\\"\" + record.faculty.strip() + \"\\\"\" + \" CSUN\")\n",
    "    search_bar.send_keys(Keys.ENTER)\n",
    "    \n",
    "    # If there's search results\n",
    "    if not driver.find_elements_by_xpath('//*[@id=\"gsc_sa_ccl\"]/div/p[1]'):\n",
    "        # A profile was found\n",
    "        profile_found = True\n",
    "    # If there's no search results let's try again\n",
    "    else:\n",
    "        # A little wait\n",
    "        time.sleep(randint(4,7))\n",
    "        search_bar = driver.find_element_by_class_name('gs_in_txt')\n",
    "        search_bar.clear()\n",
    "        search_bar.send_keys(\"\\\"\" + record.faculty.strip() + \"\\\"\" + \" Northridge\")\n",
    "        search_bar.send_keys(Keys.ENTER)\n",
    "        if not driver.find_elements_by_xpath('//*[@id=\"gsc_sa_ccl\"]/div/p[1]'):\n",
    "            profile_found = True\n",
    "            \n",
    "    # If the profile was found\n",
    "    if profile_found:\n",
    "        time.sleep(randint(4,7))\n",
    "        view_profile_link = driver.find_element_by_xpath('//*[@id=\"gsc_sa_ccl\"]/div[1]/div/div/h3/a').get_attribute(\"href\")\n",
    "        citation_collector(record, view_profile_link)\n",
    "    else:\n",
    "        f = open(\"google_scholar_no_results.csv\", \"a\")\n",
    "        f.write(record.faculty.strip() + \",\")\n",
    "        f.write(record.college + \",\")\n",
    "        f.write(record.department + \",\")\n",
    "        f.write(record.url + \"\\n\")\n",
    "        f.close()\n",
    "        \n",
    "        "
   ]
  },
  {
   "cell_type": "code",
   "execution_count": 20,
   "metadata": {},
   "outputs": [],
   "source": [
    "def citation_collector(record, url):\n",
    "    \n",
    "    driver = webdriver.Chrome()\n",
    "    driver.implicitly_wait(15)\n",
    "    driver.get(url)\n",
    "    \n",
    "    # To get all the links we need to click the Show More multiple times to show the whole links \n",
    "    gs_bpf_wrapper = driver.find_element_by_id(\"gsc_bpf_more\")\n",
    "\n",
    "    while not gs_bpf_wrapper.get_attribute(\"disabled\"):\n",
    "        gs_bpf_wrapper.click()\n",
    "        time.sleep(3)\n",
    "\n",
    "    #pull the first citation for the page\n",
    "    view_citation_links = driver.find_elements_by_class_name('gsc_a_at')\n",
    "\n",
    "    citation_file = open('google_scholar_citations.csv', \"a\")\n",
    "\n",
    "    for link in view_citation_links:\n",
    "\n",
    "        not_his_paper = False\n",
    "\n",
    "        citation = \"\"\n",
    "        title = link.text\n",
    "        paper_type = \"\"\n",
    "        book = \"\"\n",
    "        journal = \"\"\n",
    "        date = \"\"\n",
    "        authors = \"\"\n",
    "        publisher = \"\"\n",
    "        edition = \"\"\n",
    "        series = \"\"\n",
    "        volume = \"\"\n",
    "        issue = \"\"\n",
    "        chapter = \"\"\n",
    "        pages = \"\"\n",
    "        issn = \"\"\n",
    "        isbn = \"\"\n",
    "        handle = \"\"\n",
    "\n",
    "\n",
    "        time.sleep(randint(4,6))\n",
    "        \n",
    "        link.click()\n",
    "        try:\n",
    "            url = driver.find_element_by_xpath('//*[@id=\"gsc_vcd_title\"]/a').get_attribute(\"href\")\n",
    "        except NoSuchElementException:\n",
    "            url = \"\"\n",
    "        \n",
    "        \n",
    "        time.sleep(randint(4,6))\n",
    "\n",
    "        citation_table = driver.find_element_by_id(\"gsc_vcd_table\")\n",
    "        citation_table_data_objects= citation_table.find_elements_by_class_name(\"gs_scl\")\n",
    "\n",
    "        data_category = citation_table_data_objects[0].find_element_by_tag_name(\"div\")\n",
    "\n",
    "        if data_category.text == \"Authors\":\n",
    "\n",
    "            i = 0\n",
    "            for data in citation_table_data_objects:\n",
    "\n",
    "                data_category = citation_table_data_objects[i].find_element_by_tag_name(\"div\")\n",
    "\n",
    "                citation_title = driver.find_element_by_id('gsc_vcd_title')\n",
    "                title = citation_title.text\n",
    "\n",
    "                if data_category.text == \"Authors\":\n",
    "                    data_field = data.find_element_by_class_name(\"gsc_vcd_value\")\n",
    "                    if \"|\" in data_field.text:\n",
    "                        authors = data_field.text\n",
    "                        authors.replace(\"|\", \" \")\n",
    "                    else:\n",
    "                        authors = data_field.text\n",
    "                    # what second condition was i going to check here?\n",
    "                    if not record.faculty.strip() in data_field.text:\n",
    "                        not_his_paper = True\n",
    "                elif data_category.text == \"Publication date\":\n",
    "                    data_field = data.find_element_by_class_name(\"gsc_vcd_value\")\n",
    "                    date = data_field.text\n",
    "                elif data_category.text == \"Publisher\":\n",
    "                    data_field = data.find_element_by_class_name(\"gsc_vcd_value\")\n",
    "                    publisher = data_field.text\n",
    "                elif data_category.text == \"Description\":\n",
    "                    # this line of code grabs the description\n",
    "                    data_field = data.find_element_by_class_name(\"gsc_vcd_value\")\n",
    "                    data = data_field.text\n",
    "\n",
    "                    # here is where we want to go through the description and\n",
    "                    # replace every instance of \"\\n\" with \" \"\n",
    "                    desc = data.split(\"\\n\")\n",
    "                    description = \"\"\n",
    "                    for piece in desc:\n",
    "                        description += piece + \" \"\n",
    "                elif data_category.text == \"Journal\":\n",
    "                    data_field = data.find_element_by_class_name(\"gsc_vcd_value\")\n",
    "                    if \"|\" in data_field.text:\n",
    "                        journal = data_field.text\n",
    "                        journal.replace(\"|\", \" \")\n",
    "                    else:\n",
    "                        journal = data_field.text\n",
    "                    journal = data_field.text\n",
    "                elif data_category.text == \"Issue\":\n",
    "                    data_field = data.find_element_by_class_name(\"gsc_vcd_value\")\n",
    "                    issue = data_field.text\n",
    "                elif data_category.text == \"Volume\":\n",
    "                    data_field = data.find_element_by_class_name(\"gsc_vcd_value\")\n",
    "                    volume = data_field.text\n",
    "                elif data_category.text == \"Pages\":\n",
    "                    data_field = data.find_element_by_class_name(\"gsc_vcd_value\")\n",
    "                    pages = data_field.text\n",
    "                i = i + 1\n",
    "\n",
    "            citation_file.write(record.faculty + \"|\" + citation + \"|\" + title + \"|\" + paper_type + \"|\")\n",
    "            citation_file.write(description + \"|\" + book + \"|\" + journal + \"|\" + date + \"|\")\n",
    "            citation_file.write(authors + \"|\" + publisher + \"|\" + edition + \"|\" + series + \"|\")\n",
    "            citation_file.write(volume + \"|\" + issue + \"|\" + chapter + \"|\" + pages + \"|\")\n",
    "            citation_file.write(issn + \"|\" + isbn + \"|\" + handle + \"|\" + url + \"\\n\")\n",
    "\n",
    "        elif data_category.text == \"Inventors\":\n",
    "            pass\n",
    "\n",
    "        elif not_his_paper:\n",
    "            print(\"Error: Publication \", i , \" did not get captured by program; new decision tree required.\")\n",
    "\n",
    "        close_table = driver.find_element_by_id(\"gs_md_cita-d-x\")     \n",
    "        close_table.click()\n",
    "        time.sleep(randint(4,6))\n",
    "\n",
    "    citation_file.close()\n",
    "    driver.close()\n",
    "    "
   ]
  },
  {
   "cell_type": "markdown",
   "metadata": {},
   "source": [
    "[x] view_content\n",
    "\n",
    "[] field_items\n",
    "\n",
    "[] catalog_content\n",
    "\n",
    "[] accordion"
   ]
  },
  {
   "cell_type": "code",
   "execution_count": 21,
   "metadata": {},
   "outputs": [
    {
     "name": "stdout",
     "output_type": "stream",
     "text": [
      "Index(['faculty', 'college', 'department', 'url'], dtype='object')\n"
     ]
    }
   ],
   "source": [
    "view_content = pd.read_csv(\"field_items.csv\")\n",
    "view_content.head()\n",
    "print(view_content.columns)"
   ]
  },
  {
   "cell_type": "code",
   "execution_count": 22,
   "metadata": {},
   "outputs": [
    {
     "data": {
      "text/plain": [
       "faculty                                        Markar Melkonian\n",
       "college                                   College of Humanities\n",
       "department                             Department of Philosophy\n",
       "url            https://www.csun.edu/humanities/philosophy/le...\n",
       "Name: 258, dtype: object"
      ]
     },
     "execution_count": 22,
     "metadata": {},
     "output_type": "execute_result"
    }
   ],
   "source": [
    "view_content.iloc[258]"
   ]
  },
  {
   "cell_type": "markdown",
   "metadata": {},
   "source": [
    "last person  Nadia (Nadejda) Fedortsova"
   ]
  },
  {
   "cell_type": "code",
   "execution_count": 16,
   "metadata": {},
   "outputs": [
    {
     "ename": "NoSuchElementException",
     "evalue": "Message: no such element: Unable to locate element: {\"method\":\"xpath\",\"selector\":\"//*[@id=\"gsc_vcd_title\"]/a\"}\n  (Session info: chrome=73.0.3683.103)\n  (Driver info: chromedriver=73.0.3683.68 (47787ec04b6e38e22703e856e101e840b65afe72),platform=Linux 4.15.0-50-generic x86_64)\n",
     "output_type": "error",
     "traceback": [
      "\u001b[0;31m---------------------------------------------------------------------------\u001b[0m",
      "\u001b[0;31mNoSuchElementException\u001b[0m                    Traceback (most recent call last)",
      "\u001b[0;32m<ipython-input-16-7ee5800cf92d>\u001b[0m in \u001b[0;36m<module>\u001b[0;34m\u001b[0m\n\u001b[1;32m      3\u001b[0m     \u001b[0mdriver\u001b[0m\u001b[0;34m.\u001b[0m\u001b[0mimplicitly_wait\u001b[0m\u001b[0;34m(\u001b[0m\u001b[0;36m15\u001b[0m\u001b[0;34m)\u001b[0m\u001b[0;34m\u001b[0m\u001b[0;34m\u001b[0m\u001b[0m\n\u001b[1;32m      4\u001b[0m     \u001b[0;32mfor\u001b[0m \u001b[0mi\u001b[0m \u001b[0;32min\u001b[0m \u001b[0mrange\u001b[0m\u001b[0;34m(\u001b[0m\u001b[0;36m255\u001b[0m\u001b[0;34m,\u001b[0m\u001b[0mview_content\u001b[0m\u001b[0;34m.\u001b[0m\u001b[0mshape\u001b[0m\u001b[0;34m[\u001b[0m\u001b[0;36m0\u001b[0m\u001b[0;34m]\u001b[0m\u001b[0;34m)\u001b[0m\u001b[0;34m:\u001b[0m\u001b[0;34m\u001b[0m\u001b[0;34m\u001b[0m\u001b[0m\n\u001b[0;32m----> 5\u001b[0;31m         \u001b[0mgoogle_scholar_scraper\u001b[0m\u001b[0;34m(\u001b[0m\u001b[0mview_content\u001b[0m\u001b[0;34m.\u001b[0m\u001b[0miloc\u001b[0m\u001b[0;34m[\u001b[0m\u001b[0mi\u001b[0m\u001b[0;34m]\u001b[0m\u001b[0;34m,\u001b[0m\u001b[0mdriver\u001b[0m\u001b[0;34m)\u001b[0m\u001b[0;34m\u001b[0m\u001b[0;34m\u001b[0m\u001b[0m\n\u001b[0m\u001b[1;32m      6\u001b[0m \u001b[0;32mfinally\u001b[0m\u001b[0;34m:\u001b[0m\u001b[0;34m\u001b[0m\u001b[0;34m\u001b[0m\u001b[0m\n\u001b[1;32m      7\u001b[0m     \u001b[0mdriver\u001b[0m\u001b[0;34m.\u001b[0m\u001b[0mclose\u001b[0m\u001b[0;34m(\u001b[0m\u001b[0;34m)\u001b[0m\u001b[0;34m\u001b[0m\u001b[0;34m\u001b[0m\u001b[0m\n",
      "\u001b[0;32m<ipython-input-11-5860a25554d4>\u001b[0m in \u001b[0;36mgoogle_scholar_scraper\u001b[0;34m(record, driver)\u001b[0m\n\u001b[1;32m     33\u001b[0m         \u001b[0mtime\u001b[0m\u001b[0;34m.\u001b[0m\u001b[0msleep\u001b[0m\u001b[0;34m(\u001b[0m\u001b[0mrandint\u001b[0m\u001b[0;34m(\u001b[0m\u001b[0;36m4\u001b[0m\u001b[0;34m,\u001b[0m\u001b[0;36m7\u001b[0m\u001b[0;34m)\u001b[0m\u001b[0;34m)\u001b[0m\u001b[0;34m\u001b[0m\u001b[0;34m\u001b[0m\u001b[0m\n\u001b[1;32m     34\u001b[0m         \u001b[0mview_profile_link\u001b[0m \u001b[0;34m=\u001b[0m \u001b[0mdriver\u001b[0m\u001b[0;34m.\u001b[0m\u001b[0mfind_element_by_xpath\u001b[0m\u001b[0;34m(\u001b[0m\u001b[0;34m'//*[@id=\"gsc_sa_ccl\"]/div[1]/div/div/h3/a'\u001b[0m\u001b[0;34m)\u001b[0m\u001b[0;34m.\u001b[0m\u001b[0mget_attribute\u001b[0m\u001b[0;34m(\u001b[0m\u001b[0;34m\"href\"\u001b[0m\u001b[0;34m)\u001b[0m\u001b[0;34m\u001b[0m\u001b[0;34m\u001b[0m\u001b[0m\n\u001b[0;32m---> 35\u001b[0;31m         \u001b[0mcitation_collector\u001b[0m\u001b[0;34m(\u001b[0m\u001b[0mrecord\u001b[0m\u001b[0;34m,\u001b[0m \u001b[0mview_profile_link\u001b[0m\u001b[0;34m)\u001b[0m\u001b[0;34m\u001b[0m\u001b[0;34m\u001b[0m\u001b[0m\n\u001b[0m\u001b[1;32m     36\u001b[0m     \u001b[0;32melse\u001b[0m\u001b[0;34m:\u001b[0m\u001b[0;34m\u001b[0m\u001b[0;34m\u001b[0m\u001b[0m\n\u001b[1;32m     37\u001b[0m         \u001b[0mf\u001b[0m \u001b[0;34m=\u001b[0m \u001b[0mopen\u001b[0m\u001b[0;34m(\u001b[0m\u001b[0;34m\"google_scholar_no_results.csv\"\u001b[0m\u001b[0;34m,\u001b[0m \u001b[0;34m\"a\"\u001b[0m\u001b[0;34m)\u001b[0m\u001b[0;34m\u001b[0m\u001b[0;34m\u001b[0m\u001b[0m\n",
      "\u001b[0;32m<ipython-input-12-9c892e0a2406>\u001b[0m in \u001b[0;36mcitation_collector\u001b[0;34m(record, url)\u001b[0m\n\u001b[1;32m     44\u001b[0m         \u001b[0mlink\u001b[0m\u001b[0;34m.\u001b[0m\u001b[0mclick\u001b[0m\u001b[0;34m(\u001b[0m\u001b[0;34m)\u001b[0m\u001b[0;34m\u001b[0m\u001b[0;34m\u001b[0m\u001b[0m\n\u001b[1;32m     45\u001b[0m \u001b[0;34m\u001b[0m\u001b[0m\n\u001b[0;32m---> 46\u001b[0;31m         \u001b[0murl\u001b[0m \u001b[0;34m=\u001b[0m \u001b[0mdriver\u001b[0m\u001b[0;34m.\u001b[0m\u001b[0mfind_element_by_xpath\u001b[0m\u001b[0;34m(\u001b[0m\u001b[0;34m'//*[@id=\"gsc_vcd_title\"]/a'\u001b[0m\u001b[0;34m)\u001b[0m\u001b[0;34m.\u001b[0m\u001b[0mget_attribute\u001b[0m\u001b[0;34m(\u001b[0m\u001b[0;34m\"href\"\u001b[0m\u001b[0;34m)\u001b[0m\u001b[0;34m\u001b[0m\u001b[0;34m\u001b[0m\u001b[0m\n\u001b[0m\u001b[1;32m     47\u001b[0m \u001b[0;34m\u001b[0m\u001b[0m\n\u001b[1;32m     48\u001b[0m         \u001b[0mtime\u001b[0m\u001b[0;34m.\u001b[0m\u001b[0msleep\u001b[0m\u001b[0;34m(\u001b[0m\u001b[0mrandint\u001b[0m\u001b[0;34m(\u001b[0m\u001b[0;36m4\u001b[0m\u001b[0;34m,\u001b[0m\u001b[0;36m6\u001b[0m\u001b[0;34m)\u001b[0m\u001b[0;34m)\u001b[0m\u001b[0;34m\u001b[0m\u001b[0;34m\u001b[0m\u001b[0m\n",
      "\u001b[0;32m~/anaconda3/lib/python3.7/site-packages/selenium/webdriver/remote/webdriver.py\u001b[0m in \u001b[0;36mfind_element_by_xpath\u001b[0;34m(self, xpath)\u001b[0m\n\u001b[1;32m    392\u001b[0m             \u001b[0melement\u001b[0m \u001b[0;34m=\u001b[0m \u001b[0mdriver\u001b[0m\u001b[0;34m.\u001b[0m\u001b[0mfind_element_by_xpath\u001b[0m\u001b[0;34m(\u001b[0m\u001b[0;34m'//div/td[1]'\u001b[0m\u001b[0;34m)\u001b[0m\u001b[0;34m\u001b[0m\u001b[0;34m\u001b[0m\u001b[0m\n\u001b[1;32m    393\u001b[0m         \"\"\"\n\u001b[0;32m--> 394\u001b[0;31m         \u001b[0;32mreturn\u001b[0m \u001b[0mself\u001b[0m\u001b[0;34m.\u001b[0m\u001b[0mfind_element\u001b[0m\u001b[0;34m(\u001b[0m\u001b[0mby\u001b[0m\u001b[0;34m=\u001b[0m\u001b[0mBy\u001b[0m\u001b[0;34m.\u001b[0m\u001b[0mXPATH\u001b[0m\u001b[0;34m,\u001b[0m \u001b[0mvalue\u001b[0m\u001b[0;34m=\u001b[0m\u001b[0mxpath\u001b[0m\u001b[0;34m)\u001b[0m\u001b[0;34m\u001b[0m\u001b[0;34m\u001b[0m\u001b[0m\n\u001b[0m\u001b[1;32m    395\u001b[0m \u001b[0;34m\u001b[0m\u001b[0m\n\u001b[1;32m    396\u001b[0m     \u001b[0;32mdef\u001b[0m \u001b[0mfind_elements_by_xpath\u001b[0m\u001b[0;34m(\u001b[0m\u001b[0mself\u001b[0m\u001b[0;34m,\u001b[0m \u001b[0mxpath\u001b[0m\u001b[0;34m)\u001b[0m\u001b[0;34m:\u001b[0m\u001b[0;34m\u001b[0m\u001b[0;34m\u001b[0m\u001b[0m\n",
      "\u001b[0;32m~/anaconda3/lib/python3.7/site-packages/selenium/webdriver/remote/webdriver.py\u001b[0m in \u001b[0;36mfind_element\u001b[0;34m(self, by, value)\u001b[0m\n\u001b[1;32m    976\u001b[0m         return self.execute(Command.FIND_ELEMENT, {\n\u001b[1;32m    977\u001b[0m             \u001b[0;34m'using'\u001b[0m\u001b[0;34m:\u001b[0m \u001b[0mby\u001b[0m\u001b[0;34m,\u001b[0m\u001b[0;34m\u001b[0m\u001b[0;34m\u001b[0m\u001b[0m\n\u001b[0;32m--> 978\u001b[0;31m             'value': value})['value']\n\u001b[0m\u001b[1;32m    979\u001b[0m \u001b[0;34m\u001b[0m\u001b[0m\n\u001b[1;32m    980\u001b[0m     \u001b[0;32mdef\u001b[0m \u001b[0mfind_elements\u001b[0m\u001b[0;34m(\u001b[0m\u001b[0mself\u001b[0m\u001b[0;34m,\u001b[0m \u001b[0mby\u001b[0m\u001b[0;34m=\u001b[0m\u001b[0mBy\u001b[0m\u001b[0;34m.\u001b[0m\u001b[0mID\u001b[0m\u001b[0;34m,\u001b[0m \u001b[0mvalue\u001b[0m\u001b[0;34m=\u001b[0m\u001b[0;32mNone\u001b[0m\u001b[0;34m)\u001b[0m\u001b[0;34m:\u001b[0m\u001b[0;34m\u001b[0m\u001b[0;34m\u001b[0m\u001b[0m\n",
      "\u001b[0;32m~/anaconda3/lib/python3.7/site-packages/selenium/webdriver/remote/webdriver.py\u001b[0m in \u001b[0;36mexecute\u001b[0;34m(self, driver_command, params)\u001b[0m\n\u001b[1;32m    319\u001b[0m         \u001b[0mresponse\u001b[0m \u001b[0;34m=\u001b[0m \u001b[0mself\u001b[0m\u001b[0;34m.\u001b[0m\u001b[0mcommand_executor\u001b[0m\u001b[0;34m.\u001b[0m\u001b[0mexecute\u001b[0m\u001b[0;34m(\u001b[0m\u001b[0mdriver_command\u001b[0m\u001b[0;34m,\u001b[0m \u001b[0mparams\u001b[0m\u001b[0;34m)\u001b[0m\u001b[0;34m\u001b[0m\u001b[0;34m\u001b[0m\u001b[0m\n\u001b[1;32m    320\u001b[0m         \u001b[0;32mif\u001b[0m \u001b[0mresponse\u001b[0m\u001b[0;34m:\u001b[0m\u001b[0;34m\u001b[0m\u001b[0;34m\u001b[0m\u001b[0m\n\u001b[0;32m--> 321\u001b[0;31m             \u001b[0mself\u001b[0m\u001b[0;34m.\u001b[0m\u001b[0merror_handler\u001b[0m\u001b[0;34m.\u001b[0m\u001b[0mcheck_response\u001b[0m\u001b[0;34m(\u001b[0m\u001b[0mresponse\u001b[0m\u001b[0;34m)\u001b[0m\u001b[0;34m\u001b[0m\u001b[0;34m\u001b[0m\u001b[0m\n\u001b[0m\u001b[1;32m    322\u001b[0m             response['value'] = self._unwrap_value(\n\u001b[1;32m    323\u001b[0m                 response.get('value', None))\n",
      "\u001b[0;32m~/anaconda3/lib/python3.7/site-packages/selenium/webdriver/remote/errorhandler.py\u001b[0m in \u001b[0;36mcheck_response\u001b[0;34m(self, response)\u001b[0m\n\u001b[1;32m    240\u001b[0m                 \u001b[0malert_text\u001b[0m \u001b[0;34m=\u001b[0m \u001b[0mvalue\u001b[0m\u001b[0;34m[\u001b[0m\u001b[0;34m'alert'\u001b[0m\u001b[0;34m]\u001b[0m\u001b[0;34m.\u001b[0m\u001b[0mget\u001b[0m\u001b[0;34m(\u001b[0m\u001b[0;34m'text'\u001b[0m\u001b[0;34m)\u001b[0m\u001b[0;34m\u001b[0m\u001b[0;34m\u001b[0m\u001b[0m\n\u001b[1;32m    241\u001b[0m             \u001b[0;32mraise\u001b[0m \u001b[0mexception_class\u001b[0m\u001b[0;34m(\u001b[0m\u001b[0mmessage\u001b[0m\u001b[0;34m,\u001b[0m \u001b[0mscreen\u001b[0m\u001b[0;34m,\u001b[0m \u001b[0mstacktrace\u001b[0m\u001b[0;34m,\u001b[0m \u001b[0malert_text\u001b[0m\u001b[0;34m)\u001b[0m\u001b[0;34m\u001b[0m\u001b[0;34m\u001b[0m\u001b[0m\n\u001b[0;32m--> 242\u001b[0;31m         \u001b[0;32mraise\u001b[0m \u001b[0mexception_class\u001b[0m\u001b[0;34m(\u001b[0m\u001b[0mmessage\u001b[0m\u001b[0;34m,\u001b[0m \u001b[0mscreen\u001b[0m\u001b[0;34m,\u001b[0m \u001b[0mstacktrace\u001b[0m\u001b[0;34m)\u001b[0m\u001b[0;34m\u001b[0m\u001b[0;34m\u001b[0m\u001b[0m\n\u001b[0m\u001b[1;32m    243\u001b[0m \u001b[0;34m\u001b[0m\u001b[0m\n\u001b[1;32m    244\u001b[0m     \u001b[0;32mdef\u001b[0m \u001b[0m_value_or_default\u001b[0m\u001b[0;34m(\u001b[0m\u001b[0mself\u001b[0m\u001b[0;34m,\u001b[0m \u001b[0mobj\u001b[0m\u001b[0;34m,\u001b[0m \u001b[0mkey\u001b[0m\u001b[0;34m,\u001b[0m \u001b[0mdefault\u001b[0m\u001b[0;34m)\u001b[0m\u001b[0;34m:\u001b[0m\u001b[0;34m\u001b[0m\u001b[0;34m\u001b[0m\u001b[0m\n",
      "\u001b[0;31mNoSuchElementException\u001b[0m: Message: no such element: Unable to locate element: {\"method\":\"xpath\",\"selector\":\"//*[@id=\"gsc_vcd_title\"]/a\"}\n  (Session info: chrome=73.0.3683.103)\n  (Driver info: chromedriver=73.0.3683.68 (47787ec04b6e38e22703e856e101e840b65afe72),platform=Linux 4.15.0-50-generic x86_64)\n"
     ]
    }
   ],
   "source": [
    "try:\n",
    "    driver = webdriver.Chrome()\n",
    "    driver.implicitly_wait(15)\n",
    "    for i in range(258,view_content.shape[0]):\n",
    "        google_scholar_scraper(view_content.iloc[i],driver)\n",
    "finally:\n",
    "    driver.close()"
   ]
  },
  {
   "cell_type": "code",
   "execution_count": null,
   "metadata": {},
   "outputs": [],
   "source": []
  }
 ],
 "metadata": {
  "kernelspec": {
   "display_name": "Python 3",
   "language": "python",
   "name": "python3"
  },
  "language_info": {
   "codemirror_mode": {
    "name": "ipython",
    "version": 3
   },
   "file_extension": ".py",
   "mimetype": "text/x-python",
   "name": "python",
   "nbconvert_exporter": "python",
   "pygments_lexer": "ipython3",
   "version": "3.7.3"
  }
 },
 "nbformat": 4,
 "nbformat_minor": 2
}
