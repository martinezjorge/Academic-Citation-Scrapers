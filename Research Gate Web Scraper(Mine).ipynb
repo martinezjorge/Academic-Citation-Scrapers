{
 "cells": [
  {
   "cell_type": "code",
   "execution_count": 1,
   "metadata": {},
   "outputs": [],
   "source": [
    "from bs4 import BeautifulSoup as soup\n",
    "from urllib.request import urlopen as uReq"
   ]
  },
  {
   "cell_type": "code",
   "execution_count": 2,
   "metadata": {},
   "outputs": [],
   "source": [
    "my_url = 'https://www.researchgate.net/scientific-contributions/35550188_Tovah_Sands'"
   ]
  },
  {
   "cell_type": "code",
   "execution_count": 3,
   "metadata": {},
   "outputs": [],
   "source": [
    "uClient = uReq(my_url)\n",
    "page_html = uClient.read()\n",
    "uClient.close()"
   ]
  },
  {
   "cell_type": "code",
   "execution_count": 4,
   "metadata": {},
   "outputs": [],
   "source": [
    "page_soup = soup(page_html,\"html.parser\")"
   ]
  },
  {
   "cell_type": "code",
   "execution_count": 5,
   "metadata": {
    "scrolled": true
   },
   "outputs": [
    {
     "data": {
      "text/plain": [
       "<h1 class=\"nova-e-text nova-e-text--size-xl nova-e-text--family-sans-serif nova-e-text--spacing-none nova-e-text--color-grey-600\"><span style=\"color:#111111\">Tovah Sands's research</span> while affiliated with <span style=\"color:#111111\">California State University, Northridge</span> <!-- -->and other places</h1>"
      ]
     },
     "execution_count": 5,
     "metadata": {},
     "output_type": "execute_result"
    }
   ],
   "source": [
    "page_soup.h1"
   ]
  },
  {
   "cell_type": "code",
   "execution_count": 12,
   "metadata": {},
   "outputs": [],
   "source": [
    "page_soup.p"
   ]
  },
  {
   "cell_type": "code",
   "execution_count": 14,
   "metadata": {},
   "outputs": [],
   "source": [
    "publications = page_soup.findAll(\"div\",{\"class\":\"gtm-research-item\"})"
   ]
  },
  {
   "cell_type": "code",
   "execution_count": 15,
   "metadata": {
    "scrolled": true
   },
   "outputs": [
    {
     "data": {
      "text/plain": [
       "<div class=\"gtm-research-item\"><div class=\"nova-v-publication-item nova-v-publication-item--size-m\" itemscope=\"\" itemtype=\"http://schema.org/ScholarlyArticle\"><div class=\"nova-v-publication-item__body\"><div class=\"nova-v-publication-item__stack nova-v-publication-item__stack--gutter-m\"><div class=\"nova-v-publication-item__preview\"><div class=\"nova-v-publication-item__preview-link\" href=\"\" itemprop=\"image\"><img alt=\"Publication Preview\" class=\"nova-v-publication-item__preview-image\" src=\"https://i1.rgstatic.net/images/template/default_publication_preview.png\"/></div></div><div class=\"nova-v-publication-item__stack-item\"><div class=\"nova-e-text nova-e-text--size-l nova-e-text--family-sans-serif nova-e-text--spacing-none nova-e-text--color-inherit nova-e-text--clamp-3 nova-v-publication-item__title\" itemprop=\"headline\"><div class=\"nova-e-text__container\"><a class=\"nova-e-link nova-e-link--color-inherit nova-e-link--theme-bare\" href=\"publication/318380845_Family_Profiles_of_Cohesion_and_Parenting_Practices_and_Latino_Youth_Adjustment\">Family Profiles of Cohesion and Parenting Practices and Latino Youth Adjustment</a></div></div></div><div class=\"nova-v-publication-item__stack-item\"><div class=\"nova-v-publication-item__meta\"><div class=\"nova-v-publication-item__meta-left\"><div class=\"nova-l-flex__item nova-l-flex nova-l-flex--gutter-xxs nova-l-flex--direction-row@s-up nova-l-flex--align-items-stretch@s-up nova-l-flex--justify-content-flex-start@s-up nova-l-flex--wrap-nowrap@s-up\"><div class=\"nova-l-flex__item\"><a class=\"nova-e-badge nova-e-badge--color-green nova-e-badge--display-block nova-e-badge--luminosity-high nova-e-badge--size-l nova-e-badge--theme-solid nova-e-badge--radius-m nova-v-publication-item__type\" href=\"publication/318380845_Family_Profiles_of_Cohesion_and_Parenting_Practices_and_Latino_Youth_Adjustment\">Article</a></div></div></div><div class=\"nova-v-publication-item__meta-left\"></div><div class=\"nova-v-publication-item__meta-right\"><ul class=\"nova-e-list nova-e-list--size-s nova-e-list--type-inline nova-e-list--spacing-none publication-item-meta-items__meta-data\"><li class=\"nova-e-list__item publication-item-meta-items__meta-data-item\"><span class=\"\">Sep 2018</span></li><li class=\"nova-e-list__item publication-item-meta-items__meta-data-item\"><span class=\"\">Family Process</span></li></ul></div></div></div><div class=\"nova-v-publication-item__stack-item\"><ul class=\"nova-e-list nova-e-list--size-m nova-e-list--type-inline nova-e-list--spacing-none nova-v-publication-item__person-list\"><li class=\"nova-e-list__item\"><a class=\"nova-v-person-inline-item\" href=\"profile/Mayra_Bamaca-Colbert\" itemprop=\"author\" itemscope=\"\" itemtype=\"http://schema.org/Person\"><span class=\"nova-v-person-inline-item__image-container\"><div class=\"nova-e-avatar nova-e-avatar--size-xs nova-e-avatar--radius-full nova-e-avatar--framed nova-v-person-inline-item__image\"><img alt=\"[object Object]\" class=\"nova-e-avatar__img\" itemprop=\"image\" src=\"https://i1.rgstatic.net/ii/profile.image/278692447178766-1443456865961_Q64/Mayra_Bamaca-Colbert.jpg\"/></div></span><span class=\"nova-v-person-inline-item__fullname\" itemprop=\"name\"><span class=\"gtm-profile-item\">Mayra Y Bámaca-Colbert</span></span><span><meta content=\"profile/Mayra_Bamaca-Colbert\" itemprop=\"url\"/></span></a></li><li class=\"nova-e-list__item\"><a class=\"nova-v-person-inline-item\" href=\"profile/Melinda_Gonzales-Backen\" itemprop=\"author\" itemscope=\"\" itemtype=\"http://schema.org/Person\"><span class=\"nova-v-person-inline-item__image-container\"><div class=\"nova-e-avatar nova-e-avatar--size-xs nova-e-avatar--radius-full nova-e-avatar--framed nova-v-person-inline-item__image\"><img alt=\"[object Object]\" class=\"nova-e-avatar__img\" itemprop=\"image\" src=\"https://i1.rgstatic.net/ii/profile.image/279555316174855-1443662589306_Q64/Melinda_Gonzales-Backen.jpg\"/></div></span><span class=\"nova-v-person-inline-item__fullname\" itemprop=\"name\"><span class=\"gtm-profile-item\">Melinda Gonzales-Backen</span></span><span><meta content=\"profile/Melinda_Gonzales-Backen\" itemprop=\"url\"/></span></a></li><li class=\"nova-e-list__item\"><a class=\"nova-v-person-inline-item\" href=\"profile/Carolyn_Henry2\" itemprop=\"author\" itemscope=\"\" itemtype=\"http://schema.org/Person\"><span class=\"nova-v-person-inline-item__image-container\"><div class=\"nova-e-avatar nova-e-avatar--size-xs nova-e-avatar--radius-full nova-e-avatar--framed nova-v-person-inline-item__image\"><img alt=\"[object Object]\" class=\"nova-e-avatar__img\" itemprop=\"image\" src=\"https://i1.rgstatic.net/ii/profile.image/276964456845318-1443044880951_Q64/Carolyn_Henry2.jpg\"/></div></span><span class=\"nova-v-person-inline-item__fullname\" itemprop=\"name\"><span class=\"gtm-profile-item\">Carolyn S Henry</span></span><span><meta content=\"profile/Carolyn_Henry2\" itemprop=\"url\"/></span></a></li><li class=\"nova-e-list__item\"><span class=\"nova-v-publication-item__person-list-truncation\">[...]</span></li><li class=\"nova-e-list__item\"><a class=\"nova-v-person-inline-item\" href=\"scientific-contributions/35550188_Tovah_Sands\" itemprop=\"author\" itemscope=\"\" itemtype=\"http://schema.org/Person\"><span class=\"nova-v-person-inline-item__image-container\"><div class=\"nova-e-avatar nova-e-avatar--size-xs nova-e-avatar--radius-full nova-e-avatar--framed nova-v-person-inline-item__image\"><img alt=\"[object Object]\" class=\"nova-e-avatar__img\" itemprop=\"image\" src=\"https://c5.rgstatic.net/m/435982309481010/images/template/default/author/author_default_m.jpg\"/></div></span><span class=\"nova-v-person-inline-item__fullname\" itemprop=\"name\"><span class=\"gtm-profile-item\">Tovah Sands</span></span><span><meta content=\"scientific-contributions/35550188_Tovah_Sands\" itemprop=\"url\"/></span></a></li></ul></div><div class=\"nova-v-publication-item__stack-item\"><div class=\"nova-e-text nova-e-text--size-m nova-e-text--family-sans-serif nova-e-text--spacing-none nova-e-text--color-inherit nova-e-text--clamp-3 nova-v-publication-item__description\" itemprop=\"description\"><div class=\"nova-e-text__container\">Using a sample of 279 (52% female) Latino youth in 9th grade (M = 14.57, SD = .56), we examined profiles of family cohesion and parenting practices and their relation to youth adjustment. The results of latent profile analyses revealed four family profiles: Engaged, Supportive, Intrusive, and Disengaged. Latino youth in the Supportive family profile showed most positive adjustment (highest self-esteem and lowest depressive symptoms), followed by youth in the Engaged family profile. Youth in the Intrusive and Disengaged profiles showed the lowest levels of positive adjustment. The findings contribute to the current literature on family dynamics, family profiles, and youth psychological adjustment within specific ethnic groups.</div></div></div></div></div><footer class=\"nova-v-publication-item__footer\"><div class=\"nova-v-publication-item__footer-metrics\"><ul class=\"nova-e-list nova-e-list--size-m nova-e-list--type-inline nova-e-list--spacing-none nova-v-publication-item__metrics\"><li class=\"nova-e-list__item nova-v-publication-item__metrics-item\"></li></ul></div></footer><span><meta content=\"2018-09-03T00:00:00+00:00\" itemprop=\"datePublished\"><meta content=\"Family Profiles of Cohesion and Parenting Practices and Latino Youth Adjustment\" itemprop=\"name\"><meta content=\"https://www.researchgate.net/publication/318380845_Family_Profiles_of_Cohesion_and_Parenting_Practices_and_Latino_Youth_Adjustment\" itemprop=\"mainEntityOfPage\"/></meta></meta></span></div></div>"
      ]
     },
     "execution_count": 15,
     "metadata": {},
     "output_type": "execute_result"
    }
   ],
   "source": [
    "publications[0]"
   ]
  },
  {
   "cell_type": "code",
   "execution_count": null,
   "metadata": {},
   "outputs": [],
   "source": []
  }
 ],
 "metadata": {
  "kernelspec": {
   "display_name": "Python 3",
   "language": "python",
   "name": "python3"
  },
  "language_info": {
   "codemirror_mode": {
    "name": "ipython",
    "version": 3
   },
   "file_extension": ".py",
   "mimetype": "text/x-python",
   "name": "python",
   "nbconvert_exporter": "python",
   "pygments_lexer": "ipython3",
   "version": "3.7.1"
  }
 },
 "nbformat": 4,
 "nbformat_minor": 2
}
